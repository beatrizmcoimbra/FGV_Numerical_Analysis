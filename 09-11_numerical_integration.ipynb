{
 "cells": [
  {
   "cell_type": "markdown",
   "metadata": {},
   "source": [
    "### Problemas de valores inicias (cap. 7)\n",
    "\n",
    "---\n",
    "\n",
    "1. [Exercício 1](#Exercício-1:)\n",
    "2. [Métodod de Euler](#Fórmula-de-Taylor)\n",
    "    * [Exercício 2](#Exercício-2:)\n",
    "    * [Exercício 3](#Exercício-3:)\n",
    "    * [Exercício 4](#Exercício-4:)\n",
    "    * [Exercício 5](#Exercício-5:)\n",
    "\n",
    "2. [xxx](#Método-da-bisseção)\n",
    "3. [xxx](#Método-de-Newton)"
   ]
  },
  {
   "cell_type": "code",
   "execution_count": 4,
   "metadata": {},
   "outputs": [
    {
     "name": "stdout",
     "output_type": "stream",
     "text": [
      "Populating the interactive namespace from numpy and matplotlib\n"
     ]
    }
   ],
   "source": [
    "import numpy as np\n",
    "import matplotlib.pyplot as plt\n",
    "import sympy as sp\n",
    "\n",
    "%pylab inline\n",
    "pylab.rcParams['figure.figsize'] = (12, 8)"
   ]
  },
  {
   "cell_type": "markdown",
   "metadata": {},
   "source": [
    "#### Exercício 1:\n",
    "\n",
    "Determine a solução exata dos problemas de valor inicial\n",
    "\n",
    "a) 𝑦′ = 𝑦, 𝑦(0) = 1, 𝑡 ∈ [0,1]\n",
    "\n",
    "b) 𝑦′ = $\\frac{𝑡}{𝑡+𝑦}$, 𝑦(0) = 1, 𝑡 ∈ [0,10]"
   ]
  },
  {
   "cell_type": "markdown",
   "metadata": {},
   "source": [
    "**R:**\n",
    "    \n",
    "(a) $dy/dt = y \\rightarrow \\frac{1}{y} dy = dt \\rightarrow ln|y| = t + c$.\n",
    " \n",
    " Logo, temos que $y(t) = y_{0}e^t$, e como $y(0) = 1 \\rightarrow y(t) = e^t$\n",
    " \n",
    "(b)  $y' = \\frac{t}{t+y} \\rightarrow (t + y)y' - t = 0 $.\n",
    " \n",
    "Utilizando o [método do fator integrante](https://pt.wikipedia.org/wiki/Fator_integrante), temos a partir da expressão acima:\n",
    "\n",
    "$\\begin{cases} M(t, y) = - t \\\\ N(t, y) = t + y \\end{cases} \\rightarrow \n",
    "\\begin{cases} M_{y} = \\frac{\\partial M(t, y)}{\\partial y} = 0 \\\\ N_{t} = \\frac{\\partial N(t, y)}{\\partial t} = 1 \\end{cases} \\rightarrow \\int\\frac{M_{y} - N_{t}}{M}dt = \\int{-1/t}dt = -ln(t) \\rightarrow\n",
    "\\mu(t, y) = e^{\\int\\frac{M_{y} - N_{t}}{M}dt} = e^{-ln(t)} = 1/t$\n",
    "\n",
    "Logo, multiplicando a equação em (b) por $\\mu(t,y)$, obtemos:\n",
    "\n",
    "$(t + y)y' - t = 0 \\rightarrow \\frac{(t + y)y'}{t} - 1 = 0 \\rightarrow (e^{ln(t)}(t+y))' = 0$"
   ]
  },
  {
   "cell_type": "markdown",
   "metadata": {},
   "source": [
    "### [Método de Euler](https://pt.wikipedia.org/wiki/M%C3%A9todo_de_Euler)\n",
    "\n",
    "Utilizamos na solução de equações diferenciais ordinárias, é um método de integração numérica de problemas de valor inicial do tipo:\n",
    "\n",
    "$y' = f(y(t), t)$\n",
    "\n",
    "$y(t_0) = y_0$\n",
    "\n",
    "Pela expepansão de Taylor, temos: \n",
    "\n",
    "$y'(t) = \\frac{y(t+h) - y(t)}{h} + O(h^2) \\rightarrow y(t+h) = y(t) + y'(t)h + O(h^2)$\n",
    "\n",
    "O **passo de Taylor** para aproximação de função é dado da seguinte forma:\n",
    "\n",
    "$Y(t+h) = Y(t) + f(Y(t), t)h$, onde $f(Y(t), t) = y'$\n",
    "\n",
    "*OBS: No exercício 1(a), tínhamos $f(Y(t), t) = y$*"
   ]
  },
  {
   "cell_type": "markdown",
   "metadata": {},
   "source": [
    "#### Exercício 2:\n",
    "\n",
    "Faça um programa que calcula a solução numérica de problemas de valor inicial\n",
    "\n",
    "$\\begin{cases} 𝑦′ = 𝑓(𝑦,𝑡) \\\\ 𝑦(𝑡_0) = 𝑦_0 \\end{cases}$\n",
    "\n",
    "pelo método de Euler de primeira ordem. A função deve ser da forma 𝑡 = 𝐸𝑢𝑙𝑒𝑟(𝑓, 𝑣𝑡, 𝑦0), onde\n",
    "𝑓 e 𝑦0 são a função e o valor inicial do problema e 𝑣𝑡 é um vetor que contém os valores da\n",
    "variável 𝑡 onde a função 𝑦 deve ser estimada (𝑣𝑡 = [𝑡0,𝑡1, … ,𝑡𝑛])"
   ]
  },
  {
   "cell_type": "code",
   "execution_count": 17,
   "metadata": {},
   "outputs": [],
   "source": [
    "def euler_1a_ordem(f, vt, y0):\n",
    "    \n",
    "    \"\"\"\n",
    "    Resolve o problema de valor inicial com o método de Euler de 1ª ordem.\n",
    "    \n",
    "    :param f: função lambda(t,y) de y' do problema\n",
    "    :param vt: vetor que contém os valores da variável\n",
    "    :param y0: valor inicial do problema\n",
    "    :param threshold: número máximo de iterações\n",
    "    \n",
    "    :returns: estimação de y nos valores em vt\n",
    "    \"\"\"\n",
    "    \n",
    "        \n",
    "    y_ant = y0\n",
    "    t_ant = vt[0]\n",
    "    \n",
    "    est = [y0]\n",
    "    \n",
    "    for i in vt[1:]:\n",
    "        \n",
    "        t = i\n",
    "        h = t - t_ant\n",
    "        \n",
    "        # passo de Taylor\n",
    "        y = y_ant + f(y_ant, t_ant)*h\n",
    "        est.append(y)\n",
    "        \n",
    "        # atualização dos termos\n",
    "        y_ant = y\n",
    "        t_ant = t\n",
    "        \n",
    "    plt.plot(vt, est, label='euler est')\n",
    "    plt.legend()\n",
    "    plt.show()\n",
    "    \n",
    "    return est"
   ]
  },
  {
   "cell_type": "markdown",
   "metadata": {},
   "source": [
    "#### Exercício 3:\n",
    "\n",
    "Faça gráficos que contenham a solução exata do problema 1a) e 1b) e as solução numéricas\n",
    "obtidas com o programa desenvolvido em 2) para 𝑡 amostrado uniformemente no intervalo [0,1]\n",
    "com 5 valores e com 10 valores."
   ]
  },
  {
   "cell_type": "code",
   "execution_count": 9,
   "metadata": {},
   "outputs": [],
   "source": [
    "vt = np.linspace(0,1,10)"
   ]
  },
  {
   "cell_type": "code",
   "execution_count": 10,
   "metadata": {},
   "outputs": [
    {
     "data": {
      "image/png": "[encoded data removed]",
      "text/plain": [
       "<Figure size 432x288 with 1 Axes>"
      ]
     },
     "metadata": {},
     "output_type": "display_data"
    },
    {
     "data": {
      "text/plain": [
       "[1,\n",
       " 1.0,\n",
       " 1.0123456790123457,\n",
       " 1.0370370370370372,\n",
       " 1.0740740740740742,\n",
       " 1.123456790123457,\n",
       " 1.1851851851851853,\n",
       " 1.2592592592592593,\n",
       " 1.345679012345679,\n",
       " 1.4444444444444444]"
      ]
     },
     "execution_count": 10,
     "metadata": {},
     "output_type": "execute_result"
    }
   ],
   "source": [
    "f = lambda t, y: y\n",
    "y0 = 1\n",
    "\n",
    "euler_1a_ordem(f, vt, y0)"
   ]
  },
  {
   "cell_type": "code",
   "execution_count": 16,
   "metadata": {},
   "outputs": [
    {
     "data": {
      "image/png": "[encoded data removed]",
      "text/plain": [
       "<Figure size 432x288 with 1 Axes>"
      ]
     },
     "metadata": {},
     "output_type": "display_data"
    },
    {
     "data": {
      "text/plain": [
       "[1,\n",
       " 1.1111111111111112,\n",
       " 1.2121212121212122,\n",
       " 1.3060179257362357,\n",
       " 1.3945365406802606,\n",
       " 1.4787943474620537,\n",
       " 1.559562401574875,\n",
       " 1.6374001738679893,\n",
       " 1.7127293447591134,\n",
       " 1.7858773793429372]"
      ]
     },
     "execution_count": 16,
     "metadata": {},
     "output_type": "execute_result"
    }
   ],
   "source": [
    "f = lambda t, y: t/(t+y)\n",
    "y0 = 1\n",
    "\n",
    "euler_1a_ordem(f, vt, y0)"
   ]
  },
  {
   "cell_type": "markdown",
   "metadata": {},
   "source": [
    "#### Exercício 4:\n",
    "\n",
    "Faça um programa que calcula a solução numérica de problemas de valor inicial\n",
    "\n",
    "$\\begin{cases} 𝑦′ = 𝑓(𝑦,𝑡) \\\\ 𝑦(𝑡_0) = 𝑦_0 \\end{cases}$\n",
    "\n",
    "pelo método de Euler com ordem especificada. A função deve ser da forma 𝑡 =\n",
    "𝐸𝑢𝑙𝑒𝑟(𝑓, 𝑣𝑡, 𝑦0, 𝑜𝑟𝑑𝑒𝑚), onde 𝑓 e 𝑦0 são a função e o valor inicial do problema e 𝑣𝑡 é um vetor\n",
    "que contém os valores da variável 𝑡 onde a função 𝑦 deve ser estimada (𝑣𝑡 = [𝑡0,𝑡1, … ,𝑡𝑛]) e\n",
    "𝑜𝑟𝑑𝑒𝑚, é claro, é a ordem do método. Caso o sistema de computação científica que você esteja\n",
    "trabalhando não permita manipulação simbólica, faça programas específicos para soluções\n",
    "numéricas de (1a) e de (1b) de segunda ordem.\n"
   ]
  },
  {
   "cell_type": "code",
   "execution_count": null,
   "metadata": {},
   "outputs": [],
   "source": [
    "def euler_geral(f, vt, y0, ordem):\n",
    "        \n",
    "    \n",
    "    ### ADAPTAR ABAIXO\n",
    "    \n",
    "    y_ant = y0\n",
    "    t_ant = vt[0]\n",
    "    \n",
    "    est = [y0]\n",
    "    \n",
    "    for i in vt[1:]:\n",
    "        \n",
    "        t = i\n",
    "        h = t - t_ant\n",
    "        \n",
    "        # passo de Taylor\n",
    "        y = y_ant + f(y_ant, t_ant)*h\n",
    "        est.append(y)\n",
    "        \n",
    "        # atualização dos termos\n",
    "        y_ant = y\n",
    "        t_ant = t\n",
    "        \n",
    "    plt.plot(vt, est, label='euler est')\n",
    "    plt.legend()\n",
    "    plt.show()\n",
    "    \n",
    "    return est"
   ]
  }
 ],
 "metadata": {
  "kernelspec": {
   "display_name": "Python 3",
   "language": "python",
   "name": "python3"
  },
  "language_info": {
   "codemirror_mode": {
    "name": "ipython",
    "version": 3
   },
   "file_extension": ".py",
   "mimetype": "text/x-python",
   "name": "python",
   "nbconvert_exporter": "python",
   "pygments_lexer": "ipython3",
   "version": "3.5.2"
  }
 },
 "nbformat": 4,
 "nbformat_minor": 2
}
