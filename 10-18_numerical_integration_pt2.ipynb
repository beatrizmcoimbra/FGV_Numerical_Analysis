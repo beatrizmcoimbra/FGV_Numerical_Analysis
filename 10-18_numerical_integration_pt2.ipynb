{
 "cells": [
  {
   "cell_type": "markdown",
   "metadata": {},
   "source": [
    "### Métodos de integração numérica II (cap. 5.4 + 5.1-3)\n",
    "\n",
    "1. [Quadratura Gaussiana (cap. 5.4)](#Quadratura-Gaussiana)\n",
    "    * [Exercício 1](#Exercício-1:)\n",
    "    * [Exercício 2](#Exercício-2:)\n",
    "2. [Método de Monte Carlo (cap. 10)](#Método-de-Monte-Carlo)\n",
    "    * [Exercício 3](#Exercício-3:)"
   ]
  },
  {
   "cell_type": "code",
   "execution_count": 40,
   "metadata": {},
   "outputs": [
    {
     "name": "stdout",
     "output_type": "stream",
     "text": [
      "Populating the interactive namespace from numpy and matplotlib\n"
     ]
    },
    {
     "name": "stderr",
     "output_type": "stream",
     "text": [
      "/usr/local/lib/python3.5/dist-packages/IPython/core/magics/pylab.py:160: UserWarning: pylab import has clobbered these variables: ['sci']\n",
      "`%matplotlib` prevents importing * from pylab and numpy\n",
      "  \"\\n`%matplotlib` prevents importing * from pylab and numpy\"\n"
     ]
    }
   ],
   "source": [
    "import numpy as np\n",
    "import matplotlib.pyplot as plt\n",
    "import scipy as sci\n",
    "\n",
    "%pylab inline\n",
    "pylab.rcParams['figure.figsize'] = (12, 8)"
   ]
  },
  {
   "cell_type": "markdown",
   "metadata": {},
   "source": [
    "### [Quadratura Gaussiana](https://en.wikipedia.org/wiki/Gaussian_quadrature)\n",
    "\n",
    "A regra de quadratura Gaussiana é uma aproximação da integral de uma função polinomial de grau ate $2n+1$ obtida a partir das $n$ raizes, $(x_0, x_1, ..., x_n)$, do [polinomio de Legendre](https://en.wikipedia.org/wiki/Legendre_polynomials), da forma:\n",
    "\n",
    "$$\\int _{-1}^{1}f(x)\\,dx\\approx \\sum _{i=1}^{n}w_{i}f(x_{i})$$"
   ]
  },
  {
   "cell_type": "markdown",
   "metadata": {},
   "source": [
    "**Vimos tambem na aula o calculo obtido a partir de outro produto interno:**\n",
    "\n",
    "Sejam $(x_0, x_1, ..., x_n)$ pontos escolhidos no intervalo $[-1, 1]$, e temos $y_i = f(x_i)$. Vamos definir o produto interno de duas funções como:\n",
    "\n",
    "$$<p, q> = \\int_{-1}^{1} p(x)q(x)dx$$\n",
    "\n",
    "Dividindo $f(x)$ por um polinômio $p(x)$, obtemos:\n",
    "\n",
    "$$f(x) = p(x)q(x) + r(x)$$\n",
    "\n",
    "Nosso objetivo é **calular a integral de $f(x)$ a partir de $r(x)$, um polinômio de grau menor**. Para isso, precisamos que $p(x)q(x) = <p(x), q(x)> = 0$, logo:\n",
    "\n",
    "$$<p(x), q(x)> = \\int_{-1}^{1} p(x)q(x)dx = 0$$\n",
    "\n",
    "Sendo a base $\\{p_0, p_1, p_2, ..., p_n\\}$, com $p_n(x) = \\sum_{i=0}^{n} a_ix^i$, queremos que ela seja uma **base ortonormal**, pois a base gera todo o espaço $\\mathbb{R}^{n-1}$ e temos que:\n",
    "\n",
    "$$\\mbox{(i) }<p_i, p_j> =  \\int_{-1}^{1} p_i p_j dx = 0$$\n",
    "$$\\mbox{(ii) }\\lVert{p_i(x)}\\rVert =  \\sqrt{\\int_{-1}^{1} p_i^2(x)dx}$$\n",
    "\n",
    "Logo, o polinômio de maior grau, **$p_n(x)$, será ortogonal a todos os polinômios de menor grau**, e basta termos o grau de $q(x)$ menor que $n$. Obtemos o polinômio $p_n$ através do [processo de Gram-Schimdt](https://pt.wikipedia.org/wiki/Processo_de_Gram-Schmidt).\n",
    "\n",
    "$$\\begin{eqnarray} \n",
    "\\int_{-1}^{1} f(x)dx & = & \\int_{-1}^{1} p_n(x)q(x)dx + \\int_{-1}^{1} r(x)dx \\\\\n",
    "& = & <p_n(x), q(x)> + \\int_{-1}^{1} r(x)dx \\\\\n",
    "& = & \\int_{-1}^{1} r(x)dx \n",
    "\\end{eqnarray}$$"
   ]
  },
  {
   "cell_type": "markdown",
   "metadata": {},
   "source": [
    "#### Exercício 1:\n",
    "\n",
    "Implemente a quadratura gaussiana com apenas 3 pontos para estimar a integral$\\int_{-1}^{1} f(x)dx$."
   ]
  },
  {
   "cell_type": "markdown",
   "metadata": {},
   "source": [
    "**R:** Com 3 pontos, temos que:\n",
    "\n",
    "$$\\int _{-1}^{1}f(x)dx \\approx \\sum _{i=1}^{n}w_{i}f(x_{i}) = w_0f(x_0) + w_1f(x_1) + w_2f(x_2)$$\n",
    "\n",
    "Sendo $x_0, x_1, x_2$ [raizes do polinomio de Legendre](https://en.wikipedia.org/wiki/Gaussian_quadrature#Gauss%E2%80%93Legendre_quadrature)."
   ]
  },
  {
   "cell_type": "code",
   "execution_count": 53,
   "metadata": {},
   "outputs": [],
   "source": [
    "def quad_Gaussiana(f, a=-1, b=1):\n",
    "    \n",
    "    \"\"\"\n",
    "    Calcula a integral de f(x) (grau 2) no intervalo [-1,1] a partir da regra de quadratura Gaussiana para 3 pontos.\n",
    "    \n",
    "    :param f: funcao de grau 2\n",
    "    :param a: lower bound de integração\n",
    "    :param b: upper bound de integração\n",
    "    \n",
    "    :return: valor aproximado da integral\n",
    "    \"\"\"\n",
    "    \n",
    "    x = np.array([0, -(3/5)**(1/2), (3/5)**(1/2)])\n",
    "    w = np.array([8/9, 5/9, 5/9])\n",
    "    \n",
    "    I = sum(w*f(x))\n",
    "    \n",
    "    return I"
   ]
  },
  {
   "cell_type": "markdown",
   "metadata": {},
   "source": [
    "#### Exercício 2:\n",
    "\n",
    "Mostre através de exemplos que o método é exato para funções $f(t)$ polinomiais de grau até 5."
   ]
  },
  {
   "cell_type": "code",
   "execution_count": 56,
   "metadata": {},
   "outputs": [],
   "source": [
    "import scipy.integrate as integrate"
   ]
  },
  {
   "cell_type": "code",
   "execution_count": 99,
   "metadata": {},
   "outputs": [],
   "source": [
    "def compare_integrate(f, a, b):\n",
    "    \n",
    "    \"\"\"\n",
    "    Printa os resultados do integral pelo método de Quadratura Gaussiana e o padrão do do pacote scipy.integrate\n",
    "    \n",
    "    :param f: função lambda\n",
    "    :param a: lower bound de integração\n",
    "    :param b: upper bound de integração\n",
    "    \"\"\"\n",
    "\n",
    "    I1 = integrate.quad(f, a, b)[0]\n",
    "    I2 = quad_Gaussiana(f, a, b)\n",
    "    \n",
    "    print('Resultados para os dois métodos: \\n')\n",
    "    print('scipy.integrate.quad: '+str(I1))\n",
    "    print('Quadratura Gaussiana: '+str(I2)+'\\n')\n",
    "    \n",
    "    if round(I1,4) != round(I2,4):\n",
    "        \n",
    "        print('>>> A quadratura gaussiana não é exata para f')"
   ]
  },
  {
   "cell_type": "code",
   "execution_count": 100,
   "metadata": {},
   "outputs": [
    {
     "name": "stdout",
     "output_type": "stream",
     "text": [
      "Resultados para os dois métodos: \n",
      "\n",
      "scipy.integrate.quad: 2.666666666666667\n",
      "Quadratura Gaussiana: 2.666666666666667\n",
      "\n"
     ]
    }
   ],
   "source": [
    "f = lambda x : x**2 + x + 1\n",
    "compare_integrate(f, -1, 1)"
   ]
  },
  {
   "cell_type": "code",
   "execution_count": 101,
   "metadata": {},
   "outputs": [
    {
     "name": "stdout",
     "output_type": "stream",
     "text": [
      "Resultados para os dois métodos: \n",
      "\n",
      "scipy.integrate.quad: 0.0\n",
      "Quadratura Gaussiana: 0.0\n",
      "\n"
     ]
    }
   ],
   "source": [
    "f = lambda x : x**3 + x\n",
    "compare_integrate(f, -1, 1)"
   ]
  },
  {
   "cell_type": "code",
   "execution_count": 102,
   "metadata": {},
   "outputs": [
    {
     "name": "stdout",
     "output_type": "stream",
     "text": [
      "Resultados para os dois métodos: \n",
      "\n",
      "scipy.integrate.quad: 11.733333333333333\n",
      "Quadratura Gaussiana: 11.733333333333334\n",
      "\n"
     ]
    }
   ],
   "source": [
    "f = lambda x : x**4 + 2*x**2 + 5\n",
    "compare_integrate(f, -1, 1)"
   ]
  },
  {
   "cell_type": "code",
   "execution_count": 103,
   "metadata": {},
   "outputs": [
    {
     "name": "stdout",
     "output_type": "stream",
     "text": [
      "Resultados para os dois métodos: \n",
      "\n",
      "scipy.integrate.quad: 11.333333333333332\n",
      "Quadratura Gaussiana: 11.333333333333334\n",
      "\n"
     ]
    }
   ],
   "source": [
    "f = lambda x : x**5 + 2*x**2 + 5\n",
    "compare_integrate(f, -1, 1)"
   ]
  },
  {
   "cell_type": "code",
   "execution_count": 104,
   "metadata": {},
   "outputs": [
    {
     "name": "stdout",
     "output_type": "stream",
     "text": [
      "Resultados para os dois métodos: \n",
      "\n",
      "scipy.integrate.quad: 11.61904761904762\n",
      "Quadratura Gaussiana: 11.573333333333334\n",
      "\n",
      ">>> A quadratura gaussiana não é exata para f\n"
     ]
    }
   ],
   "source": [
    "f = lambda x : x**6 + 2*x**2 + 5\n",
    "compare_integrate(f, -1, 1)"
   ]
  },
  {
   "cell_type": "code",
   "execution_count": 105,
   "metadata": {},
   "outputs": [
    {
     "name": "stdout",
     "output_type": "stream",
     "text": [
      "Resultados para os dois métodos: \n",
      "\n",
      "scipy.integrate.quad: 1.0222222222222224\n",
      "Quadratura Gaussiana: 0.9440000000000002\n",
      "\n",
      ">>> A quadratura gaussiana não é exata para f\n"
     ]
    }
   ],
   "source": [
    "f = lambda x : x**8 + 2*x**4\n",
    "compare_integrate(f, -1, 1)"
   ]
  },
  {
   "cell_type": "markdown",
   "metadata": {},
   "source": [
    "### [Método de Monte Carlo](https://en.wikipedia.org/wiki/Monte_Carlo_method)\n",
    "\n",
    "Tomando como exemplo a função $f(x) = y$, queremos calcular a integral $\\int_{a}^{b} f(x)dx$, o cálculo do método se baseia na geração de uma amostra uniforme no intervalo $[a, b]$ e contagem dos pontos que caem abaixo da função, como ilustrado abaixo.\n",
    "\n",
    "|<img src=\"https://upload.wikimedia.org/wikipedia/commons/8/84/Pi_30K.gif\" alt=\"Drawing\" style=\"width: 300px;\"/>|\n",
    "|:--:| \n",
    "| *[Monte Carlo para aproximação do valor de $\\pi$ - Wikipédia](https://en.wikipedia.org/wiki/Monte_Carlo_method#/media/File:Pi_30K.gif)* |\n",
    "\n",
    "A principal vantagem em relação aos demais métodos é que pode ser facilmente generalizado, utilizado para múltiplas dimensões por exemplo."
   ]
  },
  {
   "cell_type": "markdown",
   "metadata": {},
   "source": [
    "#### Exercício 3:\n",
    "\n",
    "Use Monte Carlo para estimar o valor da integral $\\int\\int_R 1 - x^2 - y^2 dA$, onde $R = \\{ x^2 + y^2 \\leq 1 \\}$"
   ]
  },
  {
   "cell_type": "markdown",
   "metadata": {},
   "source": [
    "**R:** Vamos gerar pontos aleatórios contidos em $R$, ou seja, $(x,y) : x^2 + y^2 \\leq 1$, e verificar qual a proporção dos valores $f(x, y)$ que está abaixo do paraboloide $f(x,y) = 1 - (x^2 +y^2)$, suja visualização foi gerada no [Geogebra 3D Graphing](https://www.geogebra.org/3d?lang=en):"
   ]
  },
  {
   "cell_type": "markdown",
   "metadata": {},
   "source": [
    "<img src=\"files/images/10-18_exercise_3.png\" width=\"500\">"
   ]
  },
  {
   "cell_type": "code",
   "execution_count": null,
   "metadata": {},
   "outputs": [],
   "source": []
  }
 ],
 "metadata": {
  "kernelspec": {
   "display_name": "Python 3",
   "language": "python",
   "name": "python3"
  },
  "language_info": {
   "codemirror_mode": {
    "name": "ipython",
    "version": 3
   },
   "file_extension": ".py",
   "mimetype": "text/x-python",
   "name": "python",
   "nbconvert_exporter": "python",
   "pygments_lexer": "ipython3",
   "version": "3.5.2"
  }
 },
 "nbformat": 4,
 "nbformat_minor": 2
}
