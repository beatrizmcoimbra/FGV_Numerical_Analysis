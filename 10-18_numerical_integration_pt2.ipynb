{
 "cells": [
  {
   "cell_type": "markdown",
   "metadata": {},
   "source": [
    "### Métodos de integração numérica II (cap. 5.4 + 5.1-3)\n",
    "\n",
    "1. [Quadratura Gaussiana (cap. 5.4)](#Quadratura-Gaussiana)\n",
    "    * [Exercício 1](#Exercício-1:)\n",
    "    * [Exercício 2](#Exercício-2:)\n",
    "2. [Método de Monte Carlo (cap. 10)](#Método-de-Monte-Carlo)\n",
    "    * [Exercício 3](#Exercício-3:)"
   ]
  },
  {
   "cell_type": "markdown",
   "metadata": {},
   "source": [
    "### [Quadratura Gaussiana](https://en.wikipedia.org/wiki/Gaussian_quadrature)\n",
    "\n",
    "A regra de quadratura Gaussiana é uma aproximação da integral de uma função polinomial de grau ate $2n+1$ obtida a partir das $n$ raizes, $(x_0, x_1, ..., x_n)$, do [polinomio de Legendre](https://en.wikipedia.org/wiki/Legendre_polynomials), da forma:\n",
    "\n",
    "$$\\int _{-1}^{1}f(x)\\,dx\\approx \\sum _{i=1}^{n}w_{i}f(x_{i})$$"
   ]
  },
  {
   "cell_type": "markdown",
   "metadata": {},
   "source": [
    "**Vimos tambem na aula o calculo obtido a partir de outro produto interno:**\n",
    "\n",
    "Sejam $(x_0, x_1, ..., x_n)$ pontos escolhidos no intervalo $[-1, 1]$, e temos $y_i = f(x_i)$. Vamos definir o produto interno de duas funções como:\n",
    "\n",
    "$$<p, q> = \\int_{-1}^{1} p(x)q(x)dx$$\n",
    "\n",
    "Dividindo $f(x)$ por um polinômio $p(x)$, obtemos:\n",
    "\n",
    "$$f(x) = p(x)q(x) + r(x)$$\n",
    "\n",
    "Nosso objetivo é **calular a integral de $f(x)$ a partir de $r(x)$, um polinômio de grau menor**. Para isso, precisamos que $p(x)q(x) = <p(x), q(x)> = 0$, logo:\n",
    "\n",
    "$$<p(x), q(x)> = \\int_{-1}^{1} p(x)q(x)dx = 0$$\n",
    "\n",
    "Sendo a base $\\{p_0, p_1, p_2, ..., p_n\\}$, com $p_n(x) = \\sum_{i=0}^{n} a_ix^i$, queremos que ela seja uma **base ortonormal**, pois a base gera todo o espaço $\\mathbb{R}^{n-1}$ e temos que:\n",
    "\n",
    "$$\\mbox{(i) }<p_i, p_j> =  \\int_{-1}^{1} p_i p_j dx = 0$$\n",
    "$$\\mbox{(ii) }\\lVert{p_i(x)}\\rVert =  \\sqrt{\\int_{-1}^{1} p_i^2(x)dx}$$\n",
    "\n",
    "Logo, o polinômio de maior grau, **$p_n(x)$, será ortogonal a todos os polinômios de menor grau**, e basta termos o grau de $q(x)$ menor que $n$. Obtemos o polinômio $p_n$ através do [processo de Gram-Schimdt](https://pt.wikipedia.org/wiki/Processo_de_Gram-Schmidt).\n",
    "\n",
    "$$\\begin{eqnarray} \n",
    "\\int_{-1}^{1} f(x)dx & = & \\int_{-1}^{1} p_n(x)q(x)dx + \\int_{-1}^{1} r(x)dx \\\\\n",
    "& = & <p_n(x), q(x)> + \\int_{-1}^{1} r(x)dx \\\\\n",
    "& = & \\int_{-1}^{1} r(x)dx \n",
    "\\end{eqnarray}$$"
   ]
  },
  {
   "cell_type": "markdown",
   "metadata": {},
   "source": [
    "#### Exercício 1:\n",
    "\n",
    "Implemente a quadratura gaussiana com apenas 3 pontos para estimar a integral$\\int_{-1}^{1} f(x)dx$."
   ]
  },
  {
   "cell_type": "markdown",
   "metadata": {},
   "source": [
    "**R:** Com 3 pontos, temos que:\n",
    "\n",
    "$$\\int _{-1}^{1}f(x)dx \\approx \\sum _{i=1}^{n}w_{i}f(x_{i}) = w_0f(x_0) + w_1f(x_1) + w_2f(x_2)$$\n",
    "\n",
    "Sendo $x_0, x_1, x_2$ [raizes do polinomio de Legendre](https://en.wikipedia.org/wiki/Gaussian_quadrature#Gauss%E2%80%93Legendre_quadrature)."
   ]
  },
  {
   "cell_type": "code",
   "execution_count": 18,
   "metadata": {},
   "outputs": [],
   "source": [
    "from numpy import array\n",
    "\n",
    "def quad_Gaussiana(f):\n",
    "    \n",
    "    \"\"\"\n",
    "    Calcula a integral de f(x) (grau 2) no intervalo [-1,1] a partir da regra de quadratura Gaussiana para 3 pontos.\n",
    "    \n",
    "    :param f: funcao de grau 2\n",
    "    \n",
    "    :return: valor da integral de f(x) em [-1, 1]\n",
    "    \"\"\"\n",
    "    \n",
    "    x = array([0, -3/(5**(1/2)), +3/(5**(1/2))])\n",
    "    w = array([8/9, 5/9, 5/9])\n",
    "    \n",
    "    I = sum(w*f(x))\n",
    "    \n",
    "    return I"
   ]
  },
  {
   "cell_type": "code",
   "execution_count": 22,
   "metadata": {},
   "outputs": [
    {
     "data": {
      "text/plain": [
       "8.0"
      ]
     },
     "execution_count": 22,
     "metadata": {},
     "output_type": "execute_result"
    }
   ],
   "source": [
    "f = lambda x : x**2 + x + 3\n",
    "quad_Gaussiana(f)"
   ]
  },
  {
   "cell_type": "code",
   "execution_count": 26,
   "metadata": {},
   "outputs": [],
   "source": [
    "from scipy.special.orthogonal import p_roots\n",
    "\n",
    "def gauss1(f,n):\n",
    "    [x,w] = p_roots(n+1)\n",
    "    G=sum(w*f(x))\n",
    "    return [x, w], G"
   ]
  },
  {
   "cell_type": "code",
   "execution_count": 31,
   "metadata": {},
   "outputs": [
    {
     "data": {
      "text/plain": [
       "([array([-0.77459667,  0.        ,  0.77459667]),\n",
       "  array([0.55555556, 0.88888889, 0.55555556])],\n",
       " 6.666666666666666)"
      ]
     },
     "execution_count": 31,
     "metadata": {},
     "output_type": "execute_result"
    }
   ],
   "source": [
    "gauss1(f, 2)"
   ]
  },
  {
   "cell_type": "markdown",
   "metadata": {},
   "source": [
    "#### Exercício 2:\n",
    "\n",
    "Mostre através de exemplosque o método é exato parafunções $f(t)$ polinomiais de grau até 5."
   ]
  },
  {
   "cell_type": "markdown",
   "metadata": {},
   "source": [
    "### [Método de Monte Carlo](https://en.wikipedia.org/wiki/Monte_Carlo_method)\n",
    "\n",
    "Tomando como exemplo a função $f(x) = y$, queremos calcular a integral $\\int_{a}^{b} f(x)dx$, o cálculo do método se baseia na geração de uma amostra uniforme no intervalo $[a, b]$ e contagem dos pontos que caem abaixo da função.\n",
    "\n",
    "A principal vantagem em relação aos demais métodos é que pode ser facilmente generalizado, utilizado para múltiplas dimensões por exemplo."
   ]
  },
  {
   "cell_type": "code",
   "execution_count": null,
   "metadata": {},
   "outputs": [],
   "source": []
  }
 ],
 "metadata": {
  "kernelspec": {
   "display_name": "Python 3",
   "language": "python",
   "name": "python3"
  },
  "language_info": {
   "codemirror_mode": {
    "name": "ipython",
    "version": 3
   },
   "file_extension": ".py",
   "mimetype": "text/x-python",
   "name": "python",
   "nbconvert_exporter": "python",
   "pygments_lexer": "ipython3",
   "version": "3.5.2"
  }
 },
 "nbformat": 4,
 "nbformat_minor": 2
}
