{
 "cells": [
  {
   "cell_type": "markdown",
   "metadata": {},
   "source": [
    "### Interpolação e diferenciação numérica (cap 4)\n",
    "\n",
    "---\n",
    "\n",
    "1. [Polinômio interpolador](#Polinômio-interpolador)\n",
    "    * [Matriz de Vandermonde](#Matriz-de-Vandermonde)\n",
    "    * [Exercício 1](#Exercício-1:)\n",
    "    * [Polinômio de Lagrange](#Polinômio-de-Lagrange)\n",
    "    * [Diferenças divididas](#Diferenças-divididas)\n",
    "\n",
    "2. [xxx](#Método-da-bisseção)\n",
    "3. [xxx](#Método-de-Newton)"
   ]
  },
  {
   "cell_type": "markdown",
   "metadata": {},
   "source": [
    "## 28-08\n",
    "\n",
    "### Polinômio interpolador (4.1)"
   ]
  },
  {
   "cell_type": "markdown",
   "metadata": {},
   "source": [
    "Dado um conjunto de $n$ pontos $(x, y)$, o polinômio interpolador é um polinômio de grau $n-1$ que passa por todos os pontos da forma:\n",
    "\n",
    "$f(x_{i}) = a_{0} + a_{1}x_{i} + a_{2}x_{i}^{2} + ... + a_{n}x_{i}^{n} = y_{i}$, para $i \\in [1,n]$\n",
    "\n",
    "Dadas as $n$ equações, temos um sistema linear da forma $Ac = y$, no qual queremos obter o vetor $c$ dos coeficientes da equação.\n",
    "\n",
    "#### Matriz de Vandermonde\n",
    "\n",
    "É a matriz $A$, com o primeiro elemento de cada linha $A_i$ igual a 1 e os demais elementos sendo as $n-1$ potências de $x_i$"
   ]
  },
  {
   "cell_type": "code",
   "execution_count": 66,
   "metadata": {},
   "outputs": [
    {
     "data": {
      "text/plain": [
       "array([[1, 1, 1],\n",
       "       [4, 2, 1],\n",
       "       [9, 3, 1]])"
      ]
     },
     "execution_count": 66,
     "metadata": {},
     "output_type": "execute_result"
    }
   ],
   "source": [
    "np.vander([1,2,3])"
   ]
  },
  {
   "cell_type": "markdown",
   "metadata": {},
   "source": [
    "#### Exercício 1:\n",
    "\n",
    "Determine o polinômio de grau 2 que passa por $P_0 = (0,-1)$, $P_1 = (1,1)$, $P_2(2,5)$."
   ]
  },
  {
   "cell_type": "code",
   "execution_count": 67,
   "metadata": {},
   "outputs": [],
   "source": [
    "import numpy as np\n",
    "\n",
    "grau = 2\n",
    "pontos = [(0,-1), (1,1), (2,5)]\n",
    "x = [0,0,0]"
   ]
  },
  {
   "cell_type": "code",
   "execution_count": 68,
   "metadata": {},
   "outputs": [],
   "source": [
    "def Jacobi(A, b, x, threshold=1000):\n",
    "    \n",
    "    \"\"\"\n",
    "    Resolove o sistema linear pelo método de Jacobi.\n",
    "    \n",
    "    :param A: matriz nxn\n",
    "    :param b: vetor nx1\n",
    "    :param x: vetor inicial\n",
    "    :param threshold: número máximo de iterações\n",
    "    \n",
    "    :returns: vetor solução do sistema, número de iterações\n",
    "    \"\"\"\n",
    "    \n",
    "    U = np.triu(A)\n",
    "    np.fill_diagonal(U, 0)\n",
    "    \n",
    "    L = np.tril(A)\n",
    "    np.fill_diagonal(L, 0)\n",
    "    \n",
    "    D = np.diag(np.diag(A))\n",
    "    D_inv = np.linalg.inv(D) \n",
    "    \n",
    "    t = 0\n",
    "    while t < threshold:\n",
    "        \n",
    "        x = np.inner(D_inv, b - np.inner((L+U), x))\n",
    "        t += 1\n",
    "    \n",
    "    return x, t"
   ]
  },
  {
   "cell_type": "code",
   "execution_count": 78,
   "metadata": {},
   "outputs": [],
   "source": [
    "def interpol_pol(n, pontos, x):\n",
    "    \n",
    "    \"\"\"\n",
    "    Resolove o sistema linear pelo método de Jacobi.\n",
    "    \n",
    "    :param n: grau do polinômio\n",
    "    :param pontos: lista com n+1 pontos (x,y)\n",
    "    :param x: vetor inicial nx1\n",
    "    :param threshold: número máximo de iterações\n",
    "    \n",
    "    :returns: coeficientes do polinômio, número de iterações\n",
    "    \"\"\"\n",
    "    \n",
    "    b = [i[1] for i in pontos]\n",
    "    M = np.vander([i[0] for i in pontos], increasing=True)\n",
    "    \n",
    "    x, t = Jacobi(M, b, x)\n",
    "    \n",
    "    return x, t"
   ]
  },
  {
   "cell_type": "code",
   "execution_count": 79,
   "metadata": {},
   "outputs": [
    {
     "data": {
      "text/plain": [
       "(array([-1.,  1.,  1.]), 1000)"
      ]
     },
     "execution_count": 79,
     "metadata": {},
     "output_type": "execute_result"
    }
   ],
   "source": [
    "interpol_pol(grau, pontos, x)"
   ]
  },
  {
   "cell_type": "markdown",
   "metadata": {},
   "source": [
    "#### [Polinômio de Lagrange](https://pt.wikipedia.org/wiki/Polin%C3%B4mio_de_Lagrange)"
   ]
  },
  {
   "cell_type": "markdown",
   "metadata": {},
   "source": [
    "Esse é outro método utilizado para a solução de polinômios interpoladores. \n",
    "\n",
    "O polinômio de Lagrange é da forma: \n",
    "$L(x) := \\sum_{j=0}^{k} y_j l_j(x)$\n",
    "\n",
    "Sendo $l_{j}(x):=\\prod _{i=0,j\\neq i}^{k}{\\frac {x-x_{i}}{x_{j}-x_{i}}}={\\frac {x-x_{0}}{x_{j}-x_{0}}}\\cdots {\\frac {x-x_{j-1}}{x_{j}-x_{j-1}}}{\\frac {x-x_{j+1}}{x_{j}-x_{j+1}}}\\cdots {\\frac {x-x_{k}}{x_{j}-x_{k}}}$"
   ]
  },
  {
   "cell_type": "markdown",
   "metadata": {},
   "source": [
    "#### Diferenças divididas\n",
    "\n",
    "Outro método é calcularmos a interpolação recursivamente, adicionando um grau a cada ponto avaliado.\n",
    "\n",
    "Tomando como exemplo o Exercício 1, escolhemos um dos pontos $(x, y)$ como inicial e começamos com um polinômio de grau $0$:\n",
    "\n",
    "$p_0(x_0) = c_0$\n",
    "\n",
    "$(x_0, y_0) = (0, -1) \\rightarrow c_0 = -1$\n",
    "\n",
    "Ao avaliarmos o próximo ponto, construimos o polinômio $p_1$ de grau $1$ a partir de $p_0$. \n",
    "\n",
    "Adicionamos um novo termo $c_{1}(x - x_0)$, essa diferença é necessária já que queremos que o novo polinômio interpole $(x_0, y_0)$.\n",
    "\n",
    "$p_1(x) = p_0(x) + c_{1}(x - 0)$\n",
    "\n",
    "$(x_1, y_1) = (1, 1) \\rightarrow p_1(x_1) = -1 + c_{1} = 1 \\rightarrow c_1 = 2$\n",
    "\n",
    "Por último, adicionamos o termo de grau $2$: $c_{2}(x - x_{1})(x - x_{0})$, na mesma lógica de antes.\n",
    "\n",
    "$p_2(x) = p_1(x) + c_{2}(x - x_{1})(x - x_{0})$\n",
    "\n",
    "$(x_2, y_2) = (2, 5) \\rightarrow p_2(x_2) = -1 + c_{1}2 + c_{2}(2 - 1)(2 - 0) = 5 \\rightarrow c_2 = 1$\n",
    "\n",
    "Logo, obtemos o polinômio $P(x) = p_2(x) = -1 + 2x + x(x-1)$"
   ]
  }
 ],
 "metadata": {
  "kernelspec": {
   "display_name": "Python 3",
   "language": "python",
   "name": "python3"
  },
  "language_info": {
   "codemirror_mode": {
    "name": "ipython",
    "version": 3
   },
   "file_extension": ".py",
   "mimetype": "text/x-python",
   "name": "python",
   "nbconvert_exporter": "python",
   "pygments_lexer": "ipython3",
   "version": "3.5.2"
  }
 },
 "nbformat": 4,
 "nbformat_minor": 2
}
