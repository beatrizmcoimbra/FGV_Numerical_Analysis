{
 "cells": [
  {
   "cell_type": "markdown",
   "metadata": {},
   "source": [
    "## Projeto: Transformada de Hilbert-Huang\n",
    "\n",
    "---\n",
    "\n",
    "#### Por [Beatriz Coimbra](https://github.com/beatrizmcoimbra) e [Fernanda Scovino](https://github.com/fernandascovino)\n",
    "\n",
    "#### Resumo\n",
    "\n",
    "Implementação da transformada de Hilbert-Huang para identificação de sons e expansão do [verbete na *Wikipédia*](https://pt.wikipedia.org/wiki/Transformada_de_Hilbert-Huang).\n",
    "\n",
    "A transformada de Hilbert-Huang é uma técnica de decomposição de sinais em tempo-frequência em duas fases (EMD - Método de decomposição do modo empírico, e HSA - Análise espectral de Hilbert). Esta técnica foi desenvolvida num dos organismos da NASA por Northen E. Huang em 1998, e tem sido aplicada a sinais nos mais variados ramos da ciência, que vão desde a engenharia à medicina.<sup>1</sup>\n",
    "\n",
    "O método de decomposição do modo empírico (EMD) nos permite decompor um conjunto de dados em um número\n",
    "finito de componentes mais simples, chamados de funções do modo intrínseco (IMF).<sup>2</sup> Uma função de modo intrínseco é definida como qualquer função que tenha o mesmo, ou diferindo no máximo por um, números de zeros (cruzam o eixo x) e extremos, e também ter \"envelopes simétricos\" definidos pelos máximos e mínimos locais, respectivamente (os dados devem se localizar entre essas funções).<sup>3</sup>. As splines cúbicas são utilizadas para traçarmos esses envelopes, conectando os máximos/mínimos locais.<sup>4</sup>\n",
    "\n",
    "#### Referências\n",
    "\n",
    "1: [Hilbert-Huang transform - Wikipédia](https://en.wikipedia.org/wiki/Hilbert%E2%80%93Huang_transform)\n",
    "\n",
    "2: [Tese *Utilização do método de decomposição empírico no processamento de dados de mobilidade urbana*, de Juliana Crespo (EMAp)](https://emap.fgv.br/dissertacao/utilizacao-metodo-de-decomposicao-empirico-processamento-de-dados-de-mobilidade-urbana)\n",
    "\n",
    "3: [Hilbert-Huang transform - Scholarpedia](http://www.scholarpedia.org/article/Hilbert-Huang_transform)\n",
    "\n",
    "4: [Spline - Wikipédia](https://pt.wikipedia.org/wiki/Spline)\n",
    "\n",
    "5: [Cheney, W. & Kincaid, D. *Numerical Mathematics and Computing*](https://www.amazon.com/Numerical-Mathematics-Computing-Ward-Cheney/dp/1133103715/ref=dp_ob_title_bk)"
   ]
  },
  {
   "cell_type": "markdown",
   "metadata": {},
   "source": [
    "### Criando os sons "
   ]
  },
  {
   "cell_type": "code",
   "execution_count": 1,
   "metadata": {},
   "outputs": [],
   "source": [
    "import numpy as np\n",
    "import sounddevice as sd"
   ]
  },
  {
   "cell_type": "code",
   "execution_count": 4,
   "metadata": {},
   "outputs": [],
   "source": [
    "#x = np.linspace(0,4*np.pi,1000)\n",
    "#Fs = 8000\n",
    "#sample = 8000"
   ]
  },
  {
   "cell_type": "code",
   "execution_count": 10,
   "metadata": {},
   "outputs": [],
   "source": [
    "def cria_nota(f,Fs,amostra=Fs):\n",
    "    \n",
    "    \"\"\"\n",
    "    Cria o sinal correspondente à frequência escolhida (nota).\n",
    "    \n",
    "    :param f: frequência da nota\n",
    "    :param Fs: frequência de amostragem\n",
    "    :param amostra: duração da nota\n",
    "    \"\"\"\n",
    "    \n",
    "    x = np.arange(amostra)\n",
    "    y = np.sin(2*np.pi*f*x/Fs)\n",
    "    \n",
    "    return y"
   ]
  },
  {
   "cell_type": "code",
   "execution_count": 13,
   "metadata": {},
   "outputs": [],
   "source": [
    "notas_dic = {\n",
    "    'do': cria_nota(261.6,Fs,amostra),\n",
    "    'do#': cria_nota(277,Fs,amostra),\n",
    "    're': cria_nota(293.5,Fs,amostra),\n",
    "    're#': cria_nota(311,Fs,amostra),\n",
    "    'mi': cria_nota(329.6,Fs,amostra),\n",
    "    'fa': cria_nota(349.2,Fs,amostra),\n",
    "    'fa#': cria_nota(370,Fs,amostra),\n",
    "    'sol': cria_nota(392,Fs,amostra),\n",
    "    'sol#': cria_nota(415.1,Fs,amostra),\n",
    "    'la': cria_nota(440,Fs,amostra),\n",
    "    'la#': cria_nota(466.2,Fs,amostra),\n",
    "    'si': cria_nota(493.8,Fs,amostra)\n",
    "}"
   ]
  },
  {
   "cell_type": "code",
   "execution_count": 23,
   "metadata": {
    "collapsed": true
   },
   "outputs": [],
   "source": [
    "def create_song(text):\n",
    "    notes = text.split(',')\n",
    "    song = []\n",
    "    \n",
    "    for note in notes:\n",
    "        song = np.concatenate((song,note_dict[note]),axis=0)\n",
    "        \n",
    "    return song"
   ]
  },
  {
   "cell_type": "code",
   "execution_count": 21,
   "metadata": {},
   "outputs": [],
   "source": [
    "teste = create_song('do,re,mi,fa,fa,fa,do,re,do,re,re,re,do,sol,fa,mi,mi,mi,do,re,mi,fa,fa,fa')"
   ]
  },
  {
   "cell_type": "code",
   "execution_count": 22,
   "metadata": {
    "collapsed": true
   },
   "outputs": [],
   "source": [
    "sd.play(testing)"
   ]
  },
  {
   "cell_type": "markdown",
   "metadata": {},
   "source": [
    "### Decompondo os sinais"
   ]
  },
  {
   "cell_type": "code",
   "execution_count": null,
   "metadata": {},
   "outputs": [],
   "source": []
  }
 ],
 "metadata": {
  "kernelspec": {
   "display_name": "Python 3",
   "language": "python",
   "name": "python3"
  },
  "language_info": {
   "codemirror_mode": {
    "name": "ipython",
    "version": 3
   },
   "file_extension": ".py",
   "mimetype": "text/x-python",
   "name": "python",
   "nbconvert_exporter": "python",
   "pygments_lexer": "ipython3",
   "version": "3.5.2"
  }
 },
 "nbformat": 4,
 "nbformat_minor": 2
}
