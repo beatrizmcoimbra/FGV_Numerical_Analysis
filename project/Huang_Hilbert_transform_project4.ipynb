{
 "cells": [
  {
   "cell_type": "markdown",
   "metadata": {},
   "source": [
    "## Projeto: Transformada de Hilbert-Huang\n",
    "\n",
    "---\n",
    "\n",
    "#### Por [Beatriz Coimbra](https://github.com/beatrizmcoimbra) e [Fernanda Scovino](https://github.com/fernandascovino)\n",
    "\n",
    "#### Resumo\n",
    "\n",
    "Implementação da transformada de Hilbert-Huang para identificação de sons e expansão do [verbete na *Wikipédia*](https://pt.wikipedia.org/wiki/Transformada_de_Hilbert-Huang).\n",
    "\n",
    "A transformada de Hilbert-Huang é uma técnica de decomposição de sinais em tempo-frequência em duas fases (EMD - Método de decomposição do modo empírico, e HSA - Análise espectral de Hilbert). Esta técnica foi desenvolvida num dos organismos da NASA por Northen E. Huang em 1998, e tem sido aplicada a sinais nos mais variados ramos da ciência, que vão desde a engenharia à medicina.<sup>1</sup>\n",
    "\n",
    "O método de decomposição do modo empírico (EMD) nos permite decompor um conjunto de dados em um número\n",
    "finito de componentes mais simples, chamados de funções do modo intrínseco (IMF).<sup>2</sup> Uma função de modo intrínseco é definida como qualquer função que tenha o mesmo, ou diferindo no máximo por um, números de zeros (cruzam o eixo x) e extremos, e também ter \"envelopes simétricos\" definidos pelos máximos e mínimos locais, respectivamente (os dados devem se localizar entre essas funções).<sup>3</sup>. As splines cúbicas são utilizadas para traçarmos esses envelopes, conectando os máximos/mínimos locais.<sup>4</sup>\n",
    "\n",
    "#### Referências\n",
    "\n",
    "1: [Hilbert-Huang transform - Wikipédia](https://en.wikipedia.org/wiki/Hilbert%E2%80%93Huang_transform)\n",
    "\n",
    "2: [Tese *Utilização do método de decomposição empírico no processamento de dados de mobilidade urbana*, de Juliana Crespo (EMAp)](https://emap.fgv.br/dissertacao/utilizacao-metodo-de-decomposicao-empirico-processamento-de-dados-de-mobilidade-urbana)\n",
    "\n",
    "3: [Hilbert-Huang transform - Scholarpedia](http://www.scholarpedia.org/article/Hilbert-Huang_transform)\n",
    "\n",
    "4: [Spline - Wikipédia](https://pt.wikipedia.org/wiki/Spline)\n",
    "\n",
    "5: [Cheney, W. & Kincaid, D. *Numerical Mathematics and Computing*](https://www.amazon.com/Numerical-Mathematics-Computing-Ward-Cheney/dp/1133103715/ref=dp_ob_title_bk)\n",
    "\n",
    "6: [PyHHT Tutorials](https://pyhht.readthedocs.io/en/latest/tutorials.html)\n",
    "\n",
    "7: [PyHHT Documentation](https://media.readthedocs.org/pdf/pyhht/latest/pyhht.pdf)\n",
    "\n",
    "8: [Pitch Detection Method Based on Hilbert-Huang Transform for Erhu Music](http://umir.umac.mo/jspui/handle/123456789/14152)"
   ]
  },
  {
   "cell_type": "markdown",
   "metadata": {},
   "source": [
    "### Criando os sons "
   ]
  },
  {
   "cell_type": "code",
   "execution_count": 282,
   "metadata": {},
   "outputs": [
    {
     "name": "stdout",
     "output_type": "stream",
     "text": [
      "Populating the interactive namespace from numpy and matplotlib\n"
     ]
    },
    {
     "name": "stderr",
     "output_type": "stream",
     "text": [
      "/anaconda3/lib/python3.6/site-packages/IPython/core/magics/pylab.py:160: UserWarning: pylab import has clobbered these variables: ['f', 'zeros']\n",
      "`%matplotlib` prevents importing * from pylab and numpy\n",
      "  \"\\n`%matplotlib` prevents importing * from pylab and numpy\"\n"
     ]
    }
   ],
   "source": [
    "import numpy as np\n",
    "import sounddevice as sd\n",
    "import matplotlib.pyplot as plt\n",
    "%pylab inline"
   ]
  },
  {
   "cell_type": "markdown",
   "metadata": {},
   "source": [
    "Vamos escolher inicialmente a duração das notas como 8000?? para podermos escutar o som. \n",
    "\n",
    "Posteriormente, para possibilitar os cálculos, vamos diminuir essa duração."
   ]
  },
  {
   "cell_type": "code",
   "execution_count": 38,
   "metadata": {},
   "outputs": [],
   "source": [
    "Fs = 8000\n",
    "tempo = 8000"
   ]
  },
  {
   "cell_type": "code",
   "execution_count": 39,
   "metadata": {},
   "outputs": [],
   "source": [
    "def cria_nota(f,Fs,tempo=Fs):\n",
    "    \n",
    "    \"\"\"\n",
    "    Cria o sinal correspondente à frequência escolhida (nota).\n",
    "    \n",
    "    :param f: frequência da nota\n",
    "    :param Fs: frequência de amostragem\n",
    "    :param tempo: duração da nota\n",
    "    \"\"\"\n",
    "    \n",
    "    x = np.arange(tempo)\n",
    "    y = np.sin(2*np.pi*f*x/Fs)\n",
    "    \n",
    "    return y"
   ]
  },
  {
   "cell_type": "code",
   "execution_count": 40,
   "metadata": {},
   "outputs": [],
   "source": [
    "freq_notas_dic = {\n",
    "    'do': 261.6,\n",
    "    'do#': 277,\n",
    "    're': 293.5,\n",
    "    're#': 311,\n",
    "    'mi': 329.6,\n",
    "    'fa': 349.2,\n",
    "    'fa#': 370,\n",
    "    'sol': 392,\n",
    "    'sol#': 415.1,\n",
    "    'la': 440,\n",
    "    'la#': 466.2,\n",
    "    'si': 493.8\n",
    "}"
   ]
  },
  {
   "cell_type": "code",
   "execution_count": 41,
   "metadata": {},
   "outputs": [],
   "source": [
    "def cria_musica(text, Fs, tempo):\n",
    "    \n",
    "    \"\"\"\n",
    "    Cria a música a partir de uma string de notas.\n",
    "    \n",
    "    :param text: string com as notas\n",
    "    :param Fs: frequência de amostragem\n",
    "    :param tempo: duração da nota\n",
    "    \"\"\"\n",
    "    \n",
    "    notas = text.split(',')\n",
    "    musica = []\n",
    "    \n",
    "    for nota in notas:\n",
    "        \n",
    "        freq = cria_nota(freq_notas_dic[nota], Fs, tempo)\n",
    "        musica = np.concatenate((musica, freq),axis=0)\n",
    "            \n",
    "    t = len(notas)*tempo\n",
    "    return t, musica"
   ]
  },
  {
   "cell_type": "code",
   "execution_count": 42,
   "metadata": {},
   "outputs": [],
   "source": [
    "t, teste = cria_musica('do,fa,mi,re,do,re,do,do,do,re,do,re,mi,fa', Fs, tempo)"
   ]
  },
  {
   "cell_type": "code",
   "execution_count": 43,
   "metadata": {},
   "outputs": [],
   "source": [
    "sd.play(teste)"
   ]
  },
  {
   "cell_type": "code",
   "execution_count": 44,
   "metadata": {},
   "outputs": [
    {
     "data": {
      "text/plain": [
       "112000"
      ]
     },
     "execution_count": 44,
     "metadata": {},
     "output_type": "execute_result"
    }
   ],
   "source": [
    "t"
   ]
  },
  {
   "cell_type": "code",
   "execution_count": 45,
   "metadata": {},
   "outputs": [
    {
     "data": {
      "text/plain": [
       "[<matplotlib.lines.Line2D at 0x1c17a096d8>]"
      ]
     },
     "execution_count": 45,
     "metadata": {},
     "output_type": "execute_result"
    },
    {
     "data": {
      "image/png": "[encoded data removed]",
      "text/plain": [
       "<Figure size 432x288 with 1 Axes>"
      ]
     },
     "metadata": {},
     "output_type": "display_data"
    }
   ],
   "source": [
    "plt.plot(list(range(len(teste))), teste, 'bo')"
   ]
  },
  {
   "cell_type": "code",
   "execution_count": 46,
   "metadata": {},
   "outputs": [
    {
     "data": {
      "text/plain": [
       "[<matplotlib.lines.Line2D at 0x1c176529e8>]"
      ]
     },
     "execution_count": 46,
     "metadata": {},
     "output_type": "execute_result"
    },
    {
     "data": {
      "image/png": "[encoded data removed]",
      "text/plain": [
       "<Figure size 432x288 with 1 Axes>"
      ]
     },
     "metadata": {},
     "output_type": "display_data"
    }
   ],
   "source": [
    "plt.plot(list(range(len(teste[:100]))), teste[:100], 'bo')"
   ]
  },
  {
   "cell_type": "code",
   "execution_count": 47,
   "metadata": {},
   "outputs": [
    {
     "data": {
      "text/plain": [
       "[<matplotlib.lines.Line2D at 0x1c1770fe80>]"
      ]
     },
     "execution_count": 47,
     "metadata": {},
     "output_type": "execute_result"
    },
    {
     "data": {
      "image/png": "[encoded data removed]",
      "text/plain": [
       "<Figure size 432x288 with 1 Axes>"
      ]
     },
     "metadata": {},
     "output_type": "display_data"
    }
   ],
   "source": [
    "plt.plot(list(range(len(teste[8000:8200]))), teste[8000:8200], 'bo')"
   ]
  },
  {
   "cell_type": "markdown",
   "metadata": {},
   "source": [
    "### Decompondo os sinais"
   ]
  },
  {
   "cell_type": "code",
   "execution_count": 103,
   "metadata": {},
   "outputs": [],
   "source": [
    "from pyhht.visualization import plot_imfs\n",
    "from pyhht.emd import EMD"
   ]
  },
  {
   "cell_type": "code",
   "execution_count": 111,
   "metadata": {},
   "outputs": [],
   "source": [
    "tempo = 400\n",
    "t, x = cria_musica('do,fa,mi,re,do,re,do,do,do,re,do,re,mi,fa', tempo, tempo)"
   ]
  },
  {
   "cell_type": "code",
   "execution_count": 106,
   "metadata": {},
   "outputs": [
    {
     "data": {
      "text/plain": [
       "5600"
      ]
     },
     "execution_count": 106,
     "metadata": {},
     "output_type": "execute_result"
    }
   ],
   "source": [
    "t"
   ]
  },
  {
   "cell_type": "code",
   "execution_count": 112,
   "metadata": {},
   "outputs": [
    {
     "data": {
      "text/plain": [
       "5600"
      ]
     },
     "execution_count": 112,
     "metadata": {},
     "output_type": "execute_result"
    }
   ],
   "source": [
    "len(x)"
   ]
  },
  {
   "cell_type": "code",
   "execution_count": 113,
   "metadata": {},
   "outputs": [
    {
     "data": {
      "text/plain": [
       "[<matplotlib.lines.Line2D at 0x1c190f6be0>]"
      ]
     },
     "execution_count": 113,
     "metadata": {},
     "output_type": "execute_result"
    },
    {
     "data": {
      "image/png": "[encoded data removed]",
      "text/plain": [
       "<Figure size 432x288 with 1 Axes>"
      ]
     },
     "metadata": {},
     "output_type": "display_data"
    }
   ],
   "source": [
    "plt.plot(x)"
   ]
  },
  {
   "cell_type": "markdown",
   "metadata": {},
   "source": [
    "#### 1. Identificando os mínimos e máximos do sinal $x(t)$"
   ]
  },
  {
   "cell_type": "code",
   "execution_count": 243,
   "metadata": {},
   "outputs": [],
   "source": [
    "from scipy.signal import argrelextrema"
   ]
  },
  {
   "cell_type": "code",
   "execution_count": 271,
   "metadata": {},
   "outputs": [],
   "source": [
    "def find_extremas(x):\n",
    "    \n",
    "    # Acha as posições da lista que correspondem aos mínimos e máximos locais\n",
    "    max_t = argrelextrema(x, np.greater)[0]\n",
    "    min_t = argrelextrema(x, np.less)[0]\n",
    "    \n",
    "    # Acha os valores de máximos e mínimos locais\n",
    "    max_x = [x[i] for i in max_t]\n",
    "    min_x = [x[i] for i in min_t]\n",
    "    \n",
    "    extremas = [(max_t, min_t), (max_x, min_x)]\n",
    "    return extremas"
   ]
  },
  {
   "cell_type": "code",
   "execution_count": 272,
   "metadata": {},
   "outputs": [
    {
     "data": {
      "text/plain": [
       "array([ 0.        , -0.8235326 ,  0.93432894, -0.236499  , -0.66601187,\n",
       "        0.9921147 , -0.45957986, -0.47070393,  0.99361131, -0.65658576])"
      ]
     },
     "execution_count": 272,
     "metadata": {},
     "output_type": "execute_result"
    }
   ],
   "source": [
    "x[:10]"
   ]
  },
  {
   "cell_type": "code",
   "execution_count": 273,
   "metadata": {},
   "outputs": [],
   "source": [
    "extremos = find_extremas(x)"
   ]
  },
  {
   "cell_type": "code",
   "execution_count": 274,
   "metadata": {},
   "outputs": [],
   "source": [
    "max_t, min_t = extremos[0]\n",
    "max_x, min_x = extremos[1]"
   ]
  },
  {
   "cell_type": "code",
   "execution_count": 275,
   "metadata": {},
   "outputs": [
    {
     "data": {
      "text/plain": [
       "(array([   2,    5,    8, ..., 5576, 5584, 5592]),\n",
       " array([   1,    4,    7, ..., 5580, 5588, 5596]))"
      ]
     },
     "execution_count": 275,
     "metadata": {},
     "output_type": "execute_result"
    }
   ],
   "source": [
    "max_t, min_t"
   ]
  },
  {
   "cell_type": "code",
   "execution_count": 276,
   "metadata": {},
   "outputs": [
    {
     "data": {
      "text/plain": [
       "[0.934328942456612,\n",
       " 0.9921147013144778,\n",
       " 0.9936113105200085,\n",
       " 0.9387338576538743,\n",
       " 0.8305958991958131,\n",
       " 0.6753328081210304,\n",
       " 0.48175367410171616,\n",
       " 0.6470559615694434,\n",
       " 0.8090169943749426,\n",
       " 0.9250772068344575]"
      ]
     },
     "execution_count": 276,
     "metadata": {},
     "output_type": "execute_result"
    }
   ],
   "source": [
    "max_x[:10]"
   ]
  },
  {
   "cell_type": "code",
   "execution_count": 277,
   "metadata": {},
   "outputs": [
    {
     "data": {
      "text/plain": [
       "[-0.8235325976284275,\n",
       " -0.6660118674342518,\n",
       " -0.4707039321653329,\n",
       " -0.6565857557529561,\n",
       " -0.8163392507171836,\n",
       " -0.9297764858882485,\n",
       " -0.9904614256966511,\n",
       " -0.994951016981301,\n",
       " -0.9429905358928649,\n",
       " -0.8375280400421464]"
      ]
     },
     "execution_count": 277,
     "metadata": {},
     "output_type": "execute_result"
    }
   ],
   "source": [
    "min_x[:10]"
   ]
  },
  {
   "cell_type": "markdown",
   "metadata": {},
   "source": [
    "#### 2. Encontrando os envelope superior e inferior de $x(t)$ passando um spline cúbico através dos máximos e mínimos respectivamente"
   ]
  },
  {
   "cell_type": "markdown",
   "metadata": {},
   "source": [
    "Utilizando o método [`scipy.interpolate.UnivariateSpline`](https://docs.scipy.org/doc/scipy-0.19.1/reference/generated/scipy.interpolate.UnivariateSpline.html) para a interpolação de spline cúbica:"
   ]
  },
  {
   "cell_type": "code",
   "execution_count": 156,
   "metadata": {},
   "outputs": [],
   "source": [
    "from scipy.interpolate import UnivariateSpline"
   ]
  },
  {
   "cell_type": "raw",
   "metadata": {},
   "source": [
    "def find_envelope(t, x):\n",
    "\n",
    "    \"\"\"\n",
    "    Obtém o envelope (superior ou inferior) da função.\n",
    "    \n",
    "    \"\"\"\n",
    "    f = UnivariateSpline(t, x, k=3)\n",
    "    s = f(t)"
   ]
  },
  {
   "cell_type": "code",
   "execution_count": 279,
   "metadata": {},
   "outputs": [],
   "source": [
    "def find_envelopes(x, extremos):\n",
    "\n",
    "    \"\"\"\n",
    "    Obtém os envelopes superior e inferior da função (por uma spline cúbica), e a média.\n",
    "    \n",
    "    :param x: pontos da função\n",
    "    :param extremos: retorno da função find_extremas\n",
    "    \"\"\"\n",
    "    \n",
    "    max_t, min_t = extremos[0]\n",
    "    max_x, min_x = extremos[1]\n",
    "    \n",
    "    # Obtém o envelope superior\n",
    "    f_max = UnivariateSpline(max_t, max_x, k=3)\n",
    "    s_max = f_max(max_t)\n",
    "    \n",
    "    # Obtém o envelope inferior\n",
    "    f_min = UnivariateSpline(min_t, min_x, k=3)\n",
    "    s_min = f_min(min_t)\n",
    "    \n",
    "    # Calcula a média dos envelopes\n",
    "    t = list(range(len(x)))\n",
    "    m_t = (f_max(t) + f_min(t))/2\n",
    "    \n",
    "    return s_max, s_min, m_t"
   ]
  },
  {
   "cell_type": "code",
   "execution_count": 280,
   "metadata": {},
   "outputs": [],
   "source": [
    "s_max, s_min, m_t = find_envelopes(x, extremos)"
   ]
  },
  {
   "cell_type": "code",
   "execution_count": 286,
   "metadata": {},
   "outputs": [
    {
     "data": {
      "text/plain": [
       "<matplotlib.legend.Legend at 0x1c1ee8c4a8>"
      ]
     },
     "execution_count": 286,
     "metadata": {},
     "output_type": "execute_result"
    },
    {
     "data": {
      "image/png": "[encoded data removed]",
      "text/plain": [
       "<Figure size 432x288 with 1 Axes>"
      ]
     },
     "metadata": {},
     "output_type": "display_data"
    }
   ],
   "source": [
    "plt.plot(max_t, s_max, label='spline_max')\n",
    "plt.plot(min_t, s_min, label='spline_min')\n",
    "plt.plot(m_t, label='m(t)')\n",
    "plt.legend()"
   ]
  },
  {
   "cell_type": "markdown",
   "metadata": {},
   "source": [
    "#### 3. Calcule a média dos envelopes superior e inferior como $m(t)$"
   ]
  },
  {
   "cell_type": "markdown",
   "metadata": {},
   "source": [
    "Calculamos no item anterior, mas aqui demos um zoom:"
   ]
  },
  {
   "cell_type": "code",
   "execution_count": 287,
   "metadata": {},
   "outputs": [
    {
     "data": {
      "text/plain": [
       "<matplotlib.legend.Legend at 0x1c1ed52fd0>"
      ]
     },
     "execution_count": 287,
     "metadata": {},
     "output_type": "execute_result"
    },
    {
     "data": {
      "image/png": "[encoded data removed]",
      "text/plain": [
       "<Figure size 432x288 with 1 Axes>"
      ]
     },
     "metadata": {},
     "output_type": "display_data"
    }
   ],
   "source": [
    "plt.plot(m_t, label='m(t)')\n",
    "plt.legend()"
   ]
  },
  {
   "cell_type": "markdown",
   "metadata": {},
   "source": [
    "#### 4. Obter um candidato do FMI usando a fórmula $h_{k}(t) = x(t) - m(t)$"
   ]
  },
  {
   "cell_type": "code",
   "execution_count": 288,
   "metadata": {},
   "outputs": [],
   "source": [
    "h = x - m_t"
   ]
  },
  {
   "cell_type": "code",
   "execution_count": 289,
   "metadata": {},
   "outputs": [
    {
     "data": {
      "text/plain": [
       "[<matplotlib.lines.Line2D at 0x1c1f07ae10>]"
      ]
     },
     "execution_count": 289,
     "metadata": {},
     "output_type": "execute_result"
    },
    {
     "data": {
      "image/png": "[encoded data removed]",
      "text/plain": [
       "<Figure size 432x288 with 1 Axes>"
      ]
     },
     "metadata": {},
     "output_type": "display_data"
    }
   ],
   "source": [
    "plt.plot(h_t)"
   ]
  },
  {
   "cell_type": "code",
   "execution_count": 290,
   "metadata": {},
   "outputs": [
    {
     "data": {
      "text/plain": [
       "array([-0.00110196, -0.8246294 ,  0.9332373 , ..., -0.47870684,\n",
       "        0.29357097,  0.89379146])"
      ]
     },
     "execution_count": 290,
     "metadata": {},
     "output_type": "execute_result"
    }
   ],
   "source": [
    "h"
   ]
  },
  {
   "cell_type": "markdown",
   "metadata": {},
   "source": [
    "#### 5. Verifique se as propriedades $h_{k}(t)$ é uma função do modo intrínseco (IMF)\n",
    "\n",
    "> 1. Em todo o conjunto de dados, o número de extremos e números\n",
    " de raízes (zeros da função) devem ser iguais ou diferem por 1.\n",
    "> 2. Em qualquer ponto, o valor médio do envelope definido pelo máximo local e o envelope definido pelo mínimo local é  zero."
   ]
  },
  {
   "cell_type": "code",
   "execution_count": 325,
   "metadata": {},
   "outputs": [],
   "source": [
    "def imf_test(h):\n",
    "    \n",
    "    \"\"\"\n",
    "    Verifica se a função segue as propriedades de uma IMF\n",
    "    \n",
    "    :param h: pontos da função\n",
    "    \"\"\"\n",
    "\n",
    "    prop1 = False\n",
    "    prop2 = False\n",
    "    \n",
    "    # Verifica a quantidade de vezes que h troca o sinal\n",
    "    h_zeros = 0\n",
    "    for i in range(len(h)-1):\n",
    "        \n",
    "        if np.sign(h[i]) != np.sign(h[i+1]):\n",
    "            h_zeros += 1\n",
    "            \n",
    "    # Acha os extremos\n",
    "    extremos = find_extremas(h)\n",
    "    h_extremos = len(extremos[0][0]) + len(extremos[0][1])\n",
    "    \n",
    "    # Verifica propriedade 1\n",
    "    print(\"# de zeros: \" + str(h_zeros))\n",
    "    print(\"# de extremos: \" + str(h_extremos))\n",
    "    \n",
    "    if abs(h_zeros - h_extremos) <= 1:\n",
    "        \n",
    "        prop1 = True        \n",
    "        \n",
    "    # Verifica a propriedade 2\n",
    "    s_max, s_min, m_t = find_envelopes(h, extremos)\n",
    "    \n",
    "    m_zeros = sum([1 for i in m_t if i == 0])\n",
    "    \n",
    "    print(\"\\n# de zeros: \" + str(m_zeros))\n",
    "    print('# de pontos: ' + str(len(m_t)))\n",
    "    \n",
    "    if len(m_t) == m_zeros:\n",
    "        \n",
    "        prop2 = True\n",
    "    \n",
    "    # Retorna o resultado\n",
    "    if prop1 and prop2:\n",
    "        return True\n",
    "    else:\n",
    "        return False"
   ]
  },
  {
   "cell_type": "code",
   "execution_count": 326,
   "metadata": {},
   "outputs": [
    {
     "name": "stdout",
     "output_type": "stream",
     "text": [
      "# de zeros: 3011\n",
      "# de extremos: 3011\n",
      "\n",
      "# de zeros: 276\n",
      "# de pontos: 5600\n"
     ]
    },
    {
     "data": {
      "text/plain": [
       "False"
      ]
     },
     "execution_count": 326,
     "metadata": {},
     "output_type": "execute_result"
    }
   ],
   "source": [
    "imf_test(h)"
   ]
  },
  {
   "cell_type": "markdown",
   "metadata": {},
   "source": [
    "#### 6. Repetir o processo utilizando o resíduo, $r_1 = x(t) - h_1$."
   ]
  },
  {
   "cell_type": "code",
   "execution_count": 327,
   "metadata": {},
   "outputs": [],
   "source": [
    "r = x - h"
   ]
  },
  {
   "cell_type": "code",
   "execution_count": 328,
   "metadata": {
    "scrolled": true
   },
   "outputs": [
    {
     "data": {
      "text/plain": [
       "array([ 0.00110196,  0.0010968 ,  0.00109164, ..., -0.00854328,\n",
       "       -0.00855171, -0.00856014])"
      ]
     },
     "execution_count": 328,
     "metadata": {},
     "output_type": "execute_result"
    }
   ],
   "source": [
    "r"
   ]
  },
  {
   "cell_type": "code",
   "execution_count": 329,
   "metadata": {},
   "outputs": [
    {
     "name": "stdout",
     "output_type": "stream",
     "text": [
      "# de zeros: 1\n",
      "# de extremos: 2\n"
     ]
    },
    {
     "ename": "error",
     "evalue": "(m>k) failed for hidden m: fpcurf0:m=1",
     "output_type": "error",
     "traceback": [
      "\u001b[0;31m---------------------------------------------------------------------------\u001b[0m",
      "\u001b[0;31merror\u001b[0m                                     Traceback (most recent call last)",
      "\u001b[0;32m<ipython-input-329-3517f23eedf8>\u001b[0m in \u001b[0;36m<module>\u001b[0;34m()\u001b[0m\n\u001b[0;32m----> 1\u001b[0;31m \u001b[0mimf_test\u001b[0m\u001b[0;34m(\u001b[0m\u001b[0mr\u001b[0m\u001b[0;34m)\u001b[0m\u001b[0;34m\u001b[0m\u001b[0m\n\u001b[0m",
      "\u001b[0;32m<ipython-input-325-5bc609647d47>\u001b[0m in \u001b[0;36mimf_test\u001b[0;34m(h)\u001b[0m\n\u001b[1;32m     30\u001b[0m \u001b[0;34m\u001b[0m\u001b[0m\n\u001b[1;32m     31\u001b[0m     \u001b[0;31m# Verifica a propriedade 2\u001b[0m\u001b[0;34m\u001b[0m\u001b[0;34m\u001b[0m\u001b[0m\n\u001b[0;32m---> 32\u001b[0;31m     \u001b[0ms_max\u001b[0m\u001b[0;34m,\u001b[0m \u001b[0ms_min\u001b[0m\u001b[0;34m,\u001b[0m \u001b[0mm_t\u001b[0m \u001b[0;34m=\u001b[0m \u001b[0mfind_envelopes\u001b[0m\u001b[0;34m(\u001b[0m\u001b[0mh\u001b[0m\u001b[0;34m,\u001b[0m \u001b[0mextremos\u001b[0m\u001b[0;34m)\u001b[0m\u001b[0;34m\u001b[0m\u001b[0m\n\u001b[0m\u001b[1;32m     33\u001b[0m \u001b[0;34m\u001b[0m\u001b[0m\n\u001b[1;32m     34\u001b[0m     \u001b[0mm_zeros\u001b[0m \u001b[0;34m=\u001b[0m \u001b[0msum\u001b[0m\u001b[0;34m(\u001b[0m\u001b[0;34m[\u001b[0m\u001b[0;36m1\u001b[0m \u001b[0;32mfor\u001b[0m \u001b[0mi\u001b[0m \u001b[0;32min\u001b[0m \u001b[0mm_t\u001b[0m \u001b[0;32mif\u001b[0m \u001b[0mi\u001b[0m \u001b[0;34m==\u001b[0m \u001b[0;36m0\u001b[0m\u001b[0;34m]\u001b[0m\u001b[0;34m)\u001b[0m\u001b[0;34m\u001b[0m\u001b[0m\n",
      "\u001b[0;32m<ipython-input-279-dbcd6ef89f4f>\u001b[0m in \u001b[0;36mfind_envelopes\u001b[0;34m(x, extremos)\u001b[0m\n\u001b[1;32m     12\u001b[0m \u001b[0;34m\u001b[0m\u001b[0m\n\u001b[1;32m     13\u001b[0m     \u001b[0;31m# Obtém o envelope superior\u001b[0m\u001b[0;34m\u001b[0m\u001b[0;34m\u001b[0m\u001b[0m\n\u001b[0;32m---> 14\u001b[0;31m     \u001b[0mf_max\u001b[0m \u001b[0;34m=\u001b[0m \u001b[0mUnivariateSpline\u001b[0m\u001b[0;34m(\u001b[0m\u001b[0mmax_t\u001b[0m\u001b[0;34m,\u001b[0m \u001b[0mmax_x\u001b[0m\u001b[0;34m,\u001b[0m \u001b[0mk\u001b[0m\u001b[0;34m=\u001b[0m\u001b[0;36m3\u001b[0m\u001b[0;34m)\u001b[0m\u001b[0;34m\u001b[0m\u001b[0m\n\u001b[0m\u001b[1;32m     15\u001b[0m     \u001b[0ms_max\u001b[0m \u001b[0;34m=\u001b[0m \u001b[0mf_max\u001b[0m\u001b[0;34m(\u001b[0m\u001b[0mmax_t\u001b[0m\u001b[0;34m)\u001b[0m\u001b[0;34m\u001b[0m\u001b[0m\n\u001b[1;32m     16\u001b[0m \u001b[0;34m\u001b[0m\u001b[0m\n",
      "\u001b[0;32m/anaconda3/lib/python3.6/site-packages/scipy/interpolate/fitpack2.py\u001b[0m in \u001b[0;36m__init__\u001b[0;34m(self, x, y, w, bbox, k, s, ext, check_finite)\u001b[0m\n\u001b[1;32m    183\u001b[0m \u001b[0;34m\u001b[0m\u001b[0m\n\u001b[1;32m    184\u001b[0m         data = dfitpack.fpcurf0(x,y,k,w=w,\n\u001b[0;32m--> 185\u001b[0;31m                                 xb=bbox[0],xe=bbox[1],s=s)\n\u001b[0m\u001b[1;32m    186\u001b[0m         \u001b[0;32mif\u001b[0m \u001b[0mdata\u001b[0m\u001b[0;34m[\u001b[0m\u001b[0;34m-\u001b[0m\u001b[0;36m1\u001b[0m\u001b[0;34m]\u001b[0m \u001b[0;34m==\u001b[0m \u001b[0;36m1\u001b[0m\u001b[0;34m:\u001b[0m\u001b[0;34m\u001b[0m\u001b[0m\n\u001b[1;32m    187\u001b[0m             \u001b[0;31m# nest too small, setting to maximum bound\u001b[0m\u001b[0;34m\u001b[0m\u001b[0;34m\u001b[0m\u001b[0m\n",
      "\u001b[0;31merror\u001b[0m: (m>k) failed for hidden m: fpcurf0:m=1"
     ]
    }
   ],
   "source": [
    "imf_test(r)"
   ]
  },
  {
   "cell_type": "markdown",
   "metadata": {},
   "source": [
    "----"
   ]
  },
  {
   "cell_type": "markdown",
   "metadata": {},
   "source": [
    "### Utopia"
   ]
  },
  {
   "cell_type": "code",
   "execution_count": 225,
   "metadata": {},
   "outputs": [
    {
     "name": "stdout",
     "output_type": "stream",
     "text": [
      "Mode 3, Iteration 600\n",
      "0 minima > 0; 204 maxima < 0.\n",
      "Mode 5, Iteration 800\n",
      "0 minima > 0; 99 maxima < 0.\n",
      "Mode 7, Iteration 1000\n",
      "1 minima > 0; 31 maxima < 0.\n",
      "Mode 7, Iteration 1200\n",
      "0 minima > 0; 33 maxima < 0.\n",
      "Mode 7, Iteration 1400\n",
      "0 minima > 0; 32 maxima < 0.\n"
     ]
    }
   ],
   "source": [
    "decomposer = EMD(x)\n",
    "imfs = decomposer.decompose()"
   ]
  },
  {
   "cell_type": "code",
   "execution_count": 242,
   "metadata": {
    "scrolled": true
   },
   "outputs": [
    {
     "name": "stdout",
     "output_type": "stream",
     "text": [
      "2\n",
      "3\n",
      "4\n",
      "5\n",
      "6\n",
      "7\n",
      "8\n",
      "9\n",
      "10\n",
      "11\n"
     ]
    },
    {
     "data": {
      "image/png": "[encoded data removed]",
      "text/plain": [
       "<Figure size 360x720 with 12 Axes>"
      ]
     },
     "metadata": {},
     "output_type": "display_data"
    }
   ],
   "source": [
    "from pylab import rcParams\n",
    "rcParams['figure.figsize'] = 5, 10\n",
    "\n",
    "plot_imfs(teste, imfs)"
   ]
  },
  {
   "cell_type": "code",
   "execution_count": null,
   "metadata": {},
   "outputs": [],
   "source": []
  },
  {
   "cell_type": "markdown",
   "metadata": {},
   "source": [
    "### Rascunho"
   ]
  },
  {
   "cell_type": "code",
   "execution_count": 95,
   "metadata": {},
   "outputs": [],
   "source": [
    "t = np.linspace(0, 1, 1000)\n",
    "modes = np.sin(2 * pi * f * t /8000) + np.sin(2 * pi * 440 * t /8000)"
   ]
  },
  {
   "cell_type": "code",
   "execution_count": 99,
   "metadata": {},
   "outputs": [
    {
     "data": {
      "text/plain": [
       "[<matplotlib.lines.Line2D at 0x1c175f6dd8>]"
      ]
     },
     "execution_count": 99,
     "metadata": {},
     "output_type": "execute_result"
    },
    {
     "data": {
      "image/png": "[encoded data removed]",
      "text/plain": [
       "<Figure size 432x288 with 1 Axes>"
      ]
     },
     "metadata": {},
     "output_type": "display_data"
    }
   ],
   "source": [
    "plt.plot(t, modes)"
   ]
  },
  {
   "cell_type": "code",
   "execution_count": 97,
   "metadata": {},
   "outputs": [],
   "source": [
    "sd.play(modes)"
   ]
  },
  {
   "cell_type": "code",
   "execution_count": 84,
   "metadata": {},
   "outputs": [],
   "source": [
    "tempo = 100\n",
    "Fs = 100\n",
    "f = 261.6\n",
    "\n",
    "x = np.arange(tempo)\n",
    "y = np.sin(2 * np.pi * f * x/Fs)"
   ]
  },
  {
   "cell_type": "code",
   "execution_count": 101,
   "metadata": {},
   "outputs": [
    {
     "data": {
      "text/plain": [
       "[<matplotlib.lines.Line2D at 0x1c1776d0b8>]"
      ]
     },
     "execution_count": 101,
     "metadata": {},
     "output_type": "execute_result"
    },
    {
     "data": {
      "image/png": "[encoded data removed]",
      "text/plain": [
       "<Figure size 432x288 with 1 Axes>"
      ]
     },
     "metadata": {},
     "output_type": "display_data"
    }
   ],
   "source": [
    "plt.stem(x, y, 'r', )\n",
    "plt.plot(x, y)"
   ]
  },
  {
   "cell_type": "code",
   "execution_count": null,
   "metadata": {},
   "outputs": [],
   "source": []
  }
 ],
 "metadata": {
  "kernelspec": {
   "display_name": "Python 3",
   "language": "python",
   "name": "python3"
  },
  "language_info": {
   "codemirror_mode": {
    "name": "ipython",
    "version": 3
   },
   "file_extension": ".py",
   "mimetype": "text/x-python",
   "name": "python",
   "nbconvert_exporter": "python",
   "pygments_lexer": "ipython3",
   "version": "3.6.5"
  }
 },
 "nbformat": 4,
 "nbformat_minor": 2
}
