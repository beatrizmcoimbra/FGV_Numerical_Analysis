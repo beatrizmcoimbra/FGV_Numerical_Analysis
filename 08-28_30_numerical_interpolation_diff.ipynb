{
 "cells": [
  {
   "cell_type": "markdown",
   "metadata": {},
   "source": [
    "### Interpolação e diferenciação numérica (cap 4)\n",
    "\n",
    "---\n",
    "\n",
    "1. [Polinômio interpolador](#Polinômio-interpolador)\n",
    "    * [Matriz de Vandermonde](#Matriz-de-Vandermonde)\n",
    "    * [Exercício 1](#Exercício-1:)\n",
    "    * [Polinômio de Lagrange](#Polinômio-de-Lagrange)\n",
    "    * [Diferenças divididas](#Diferenças-divididas)\n",
    "\n",
    "2. [xxx](#Método-da-bisseção)\n",
    "3. [xxx](#Método-de-Newton)"
   ]
  },
  {
   "cell_type": "markdown",
   "metadata": {},
   "source": [
    "## 28-08\n",
    "\n",
    "### Polinômio interpolador (4.1)"
   ]
  },
  {
   "cell_type": "markdown",
   "metadata": {},
   "source": [
    "Dado um conjunto de $n$ pontos $(x, y)$, o polinômio interpolador é um polinômio de grau $n-1$ que passa por todos os pontos da forma:\n",
    "\n",
    "$f(x_{i}) = a_{0} + a_{1}x_{i} + a_{2}x_{i}^{2} + ... + a_{n}x_{i}^{n} = y_{i}$, para $i \\in [1,n]$\n",
    "\n",
    "Dadas as $n$ equações, temos um sistema linear da forma $Ac = y$, no qual queremos obter o vetor $c$ dos coeficientes da equação.\n",
    "\n",
    "#### Matriz de Vandermonde\n",
    "\n",
    "É a matriz $A$, com o primeiro elemento de cada linha $A_i$ igual a 1 e os demais elementos sendo as $n-1$ potências de $x_i$"
   ]
  },
  {
   "cell_type": "code",
   "execution_count": 1,
   "metadata": {},
   "outputs": [
    {
     "data": {
      "text/plain": [
       "array([[1, 1, 1],\n",
       "       [4, 2, 1],\n",
       "       [9, 3, 1]])"
      ]
     },
     "execution_count": 1,
     "metadata": {},
     "output_type": "execute_result"
    }
   ],
   "source": [
    "import numpy as np\n",
    "np.vander([1,2,3])"
   ]
  },
  {
   "cell_type": "markdown",
   "metadata": {},
   "source": [
    "#### Exercício 1:\n",
    "\n",
    "Determine o polinômio de grau 2 que passa por $P_0 = (0,-1)$, $P_1 = (1,1)$, $P_2(2,5)$."
   ]
  },
  {
   "cell_type": "code",
   "execution_count": 2,
   "metadata": {},
   "outputs": [],
   "source": [
    "grau = 2\n",
    "pontos = [(0,-1), (1,1), (2,5)]\n",
    "x = [0,0,0]"
   ]
  },
  {
   "cell_type": "code",
   "execution_count": 3,
   "metadata": {},
   "outputs": [],
   "source": [
    "def Jacobi(A, b, x, threshold=1000):\n",
    "    \n",
    "    \"\"\"\n",
    "    Resolove o sistema linear pelo método de Jacobi.\n",
    "    \n",
    "    :param A: matriz nxn\n",
    "    :param b: vetor nx1\n",
    "    :param x: vetor inicial\n",
    "    :param threshold: número máximo de iterações\n",
    "    \n",
    "    :returns: vetor solução do sistema, número de iterações\n",
    "    \"\"\"\n",
    "    \n",
    "    U = np.triu(A)\n",
    "    np.fill_diagonal(U, 0)\n",
    "    \n",
    "    L = np.tril(A)\n",
    "    np.fill_diagonal(L, 0)\n",
    "    \n",
    "    D = np.diag(np.diag(A))\n",
    "    print(D)\n",
    "    D_inv = np.linalg.inv(D) \n",
    "    \n",
    "    t = 0\n",
    "    while t < threshold:\n",
    "        \n",
    "        x = np.inner(D_inv, b - np.inner((L+U), x))\n",
    "        t += 1\n",
    "    \n",
    "    return x, t"
   ]
  },
  {
   "cell_type": "code",
   "execution_count": 4,
   "metadata": {},
   "outputs": [],
   "source": [
    "def interpol_jacobi(n, pontos, x):\n",
    "    \n",
    "    \"\"\"\n",
    "    Resolove o sistema linear pelo método de Jacobi.\n",
    "    \n",
    "    :param n: grau do polinômio\n",
    "    :param pontos: lista com n+1 pontos (x,y)\n",
    "    :param x: vetor inicial nx1\n",
    "    :param threshold: número máximo de iterações\n",
    "    \n",
    "    :returns: coeficientes do polinômio, número de iterações\n",
    "    \"\"\"\n",
    "    \n",
    "    b = [i[1] for i in pontos]\n",
    "    M = np.vander([i[0] for i in pontos], increasing=True)\n",
    "    \n",
    "    x, t = Jacobi(M, b, x)\n",
    "    \n",
    "    return x, t"
   ]
  },
  {
   "cell_type": "code",
   "execution_count": 5,
   "metadata": {},
   "outputs": [
    {
     "name": "stdout",
     "output_type": "stream",
     "text": [
      "[[1 0 0]\n",
      " [0 1 0]\n",
      " [0 0 4]]\n"
     ]
    },
    {
     "data": {
      "text/plain": [
       "(array([-1.,  1.,  1.]), 1000)"
      ]
     },
     "execution_count": 5,
     "metadata": {},
     "output_type": "execute_result"
    }
   ],
   "source": [
    "interpol_jacobi(grau, pontos, x)"
   ]
  },
  {
   "cell_type": "markdown",
   "metadata": {},
   "source": [
    "#### [Polinômio de Lagrange](https://pt.wikipedia.org/wiki/Polin%C3%B4mio_de_Lagrange)"
   ]
  },
  {
   "cell_type": "markdown",
   "metadata": {},
   "source": [
    "Esse é outro método utilizado para a solução de polinômios interpoladores. \n",
    "\n",
    "O polinômio de Lagrange é da forma: \n",
    "$L(x) := \\sum_{j=0}^{k} y_j l_j(x)$\n",
    "\n",
    "Sendo $l_{j}(x):=\\prod _{i=0,j\\neq i}^{k}{\\frac {x-x_{i}}{x_{j}-x_{i}}}={\\frac {x-x_{0}}{x_{j}-x_{0}}}\\cdots {\\frac {x-x_{j-1}}{x_{j}-x_{j-1}}}{\\frac {x-x_{j+1}}{x_{j}-x_{j+1}}}\\cdots {\\frac {x-x_{k}}{x_{j}-x_{k}}}$"
   ]
  },
  {
   "cell_type": "markdown",
   "metadata": {},
   "source": [
    "#### Diferenças divididas\n",
    "\n",
    "Outro método é calcularmos a interpolação recursivamente, adicionando um grau a cada ponto avaliado.\n",
    "\n",
    "Tomando como exemplo o Exercício 1, escolhemos um dos pontos $(x, y)$ como inicial e começamos com um polinômio de grau $0$:\n",
    "\n",
    "$p_0(x_0) = c_0$\n",
    "\n",
    "$(x_0, y_0) = (0, -1) \\rightarrow c_0 = -1$\n",
    "\n",
    "Ao avaliarmos o próximo ponto, construimos o polinômio $p_1$ de grau $1$ a partir de $p_0$. \n",
    "\n",
    "Adicionamos um novo termo $c_{1}(x - x_0)$, essa diferença é necessária já que queremos que o novo polinômio interpole $(x_0, y_0)$.\n",
    "\n",
    "$p_1(x) = p_0(x) + c_{1}(x - 0)$\n",
    "\n",
    "$(x_1, y_1) = (1, 1) \\rightarrow p_1(x_1) = -1 + c_{1} = 1 \\rightarrow c_1 = 2$\n",
    "\n",
    "Por último, adicionamos o termo de grau $2$: $c_{2}(x - x_{1})(x - x_{0})$, na mesma lógica de antes.\n",
    "\n",
    "$p_2(x) = p_1(x) + c_{2}(x - x_{1})(x - x_{0})$\n",
    "\n",
    "$(x_2, y_2) = (2, 5) \\rightarrow p_2(x_2) = -1 + c_{1}2 + c_{2}(2 - 1)(2 - 0) = 5 \\rightarrow c_2 = 1$\n",
    "\n",
    "Logo, obtemos o polinômio $P(x) = p_2(x) = -1 + 2x + x(x-1)$\n",
    "\n",
    "\n",
    "#### OBS 1: Em geral, $c_n = \\frac{p_{n}(x_n) - p_{n-1}(x_n)}{\\prod_{i = 0}^{n-1}(x_n - x_{i})} = \\frac{y_n - p_{n-1}(x_n)}{\\prod_{i = 0}^{n-1}(x_n - x_{i})}$.\n",
    "\n",
    "Podemos expressar as diferenças divididas na forma: \n",
    "\n",
    "$c_0 = [y_0] = y_0$\n",
    "\n",
    "$c_1 = [y_0, y_1] = \\frac{y_1 - y_0}{x_1 - x_0}$\n",
    "\n",
    "$c_2 = [y_0, y_1, y_2] = \\frac{[y_1, y_2] - [y_0, y_0]}{x_2 - x_0}$\n",
    "\n",
    "...\n",
    "\n",
    "Generalizando, temos $[y_i, ...,  y_k+1] = \\frac{[y_{i+1}, ..., y_{k+1}] - [y_{i}, ..., y_k]}{x_{k+1} - x_i}$\n",
    "\n",
    "#### OBS 2: A complexidade do método é $O(n^2)$, enquanto a resolução de um sistema linear seria de complexidade $O(n^3)$."
   ]
  },
  {
   "cell_type": "markdown",
   "metadata": {},
   "source": [
    "## 30-08"
   ]
  },
  {
   "cell_type": "code",
   "execution_count": 6,
   "metadata": {},
   "outputs": [],
   "source": [
    "import sympy as sp\n",
    "\n",
    "def generate_pol(M, pontos):\n",
    "    \n",
    "    \"\"\"\n",
    "    Gera o polinômio a partir da matris das diferenças divididas e os pontos dados.\n",
    "    \n",
    "    :param M: matriz das diferenças divididas\n",
    "    :param pontos: lista com n pontos (x, y)\n",
    "    \n",
    "    :return: polinômio interpolador\n",
    "    \"\"\"\n",
    "\n",
    "    x = sp.Symbol('x')\n",
    "\n",
    "    values = [i[0] for i in pontos]\n",
    "\n",
    "    prod = 1\n",
    "    exp = M[0][0] # Define c_0\n",
    "\n",
    "    for i in range(len(M)-1): # Demais termos do polinômio\n",
    "\n",
    "        prod = prod*(x - values[i])\n",
    "        exp = exp + M[0][i+1]*prod\n",
    "        \n",
    "    exp = sp.simplify(exp)\n",
    "\n",
    "    return exp\n",
    "\n",
    "def interpol_dif_div(pontos):\n",
    "    \n",
    "    \"\"\"\n",
    "    Obtém o polinômio interpolador dos pontos através do método das diferenças divididas.\n",
    "    \n",
    "    :param pontos: lista com n pontos (x,y)\n",
    "    \n",
    "    :returns: polinômio interpoladro\n",
    "    \"\"\"\n",
    "    \n",
    "    y = [i[1] for i in pontos]\n",
    "    x = [i[0] for i in pontos]\n",
    "    \n",
    "    M = np.identity(len(x))\n",
    "    \n",
    "    # Calcula a matriz das diferencas divididas \n",
    "    \n",
    "    for j in range(len(x)): # Fixa a coluna\n",
    "        for i in range(len(x), -1, -1): # Sobe nas linhas da matriz\n",
    "            \n",
    "            if i == j:\n",
    "                M[i][j] = y[i] # [y_i] =  y_i\n",
    "                \n",
    "            elif j > i:\n",
    "\n",
    "                M[i][j] = (M[i+1][j] - M[i][j-1])/(x[j]-x[i])\n",
    "        \n",
    "    print('Matriz das diferenças divididas:\\n', M)\n",
    "    exp = generate_pol(M, pontos)\n",
    "    \n",
    "    return exp"
   ]
  },
  {
   "cell_type": "code",
   "execution_count": 7,
   "metadata": {},
   "outputs": [
    {
     "data": {
      "text/plain": [
       "[(0, -1), (1, 1), (2, 5)]"
      ]
     },
     "execution_count": 7,
     "metadata": {},
     "output_type": "execute_result"
    }
   ],
   "source": [
    "pontos"
   ]
  },
  {
   "cell_type": "code",
   "execution_count": 8,
   "metadata": {},
   "outputs": [
    {
     "name": "stdout",
     "output_type": "stream",
     "text": [
      "Matriz das diferenças divididas:\n",
      " [[-1.  2.  1.]\n",
      " [ 0.  1.  4.]\n",
      " [ 0.  0.  5.]]\n"
     ]
    },
    {
     "data": {
      "text/plain": [
       "1.0*x**2 + 1.0*x - 1.0"
      ]
     },
     "execution_count": 8,
     "metadata": {},
     "output_type": "execute_result"
    }
   ],
   "source": [
    "interpol_dif_div(pontos)"
   ]
  },
  {
   "cell_type": "markdown",
   "metadata": {},
   "source": [
    "**Exercício**: Interpole os pontos $P_0 = (1,-2), P_1 = (-2,56), P_2 = (0,-2), P_3 = (3,4)$."
   ]
  },
  {
   "cell_type": "code",
   "execution_count": 9,
   "metadata": {},
   "outputs": [],
   "source": [
    "pontos1 = [(1, -2), (-2, 56), (0, -2), (3, 4)]"
   ]
  },
  {
   "cell_type": "markdown",
   "metadata": {},
   "source": [
    "Por diferenças divididas:"
   ]
  },
  {
   "cell_type": "code",
   "execution_count": 10,
   "metadata": {},
   "outputs": [
    {
     "name": "stdout",
     "output_type": "stream",
     "text": [
      "Matriz das diferenças divididas:\n",
      " [[ -2.         -19.33333333   9.66666667  -1.73333333]\n",
      " [  0.          56.         -29.           6.2       ]\n",
      " [  0.           0.          -2.           2.        ]\n",
      " [  0.           0.           0.           4.        ]]\n"
     ]
    },
    {
     "data": {
      "text/plain": [
       "-1.73333333333333*x**3 + 7.93333333333333*x**2 - 6.2*x - 2.0"
      ]
     },
     "execution_count": 10,
     "metadata": {},
     "output_type": "execute_result"
    }
   ],
   "source": [
    "pol = interpol_dif_div(pontos1)\n",
    "pol"
   ]
  },
  {
   "cell_type": "code",
   "execution_count": 11,
   "metadata": {},
   "outputs": [
    {
     "data": {
      "text/plain": [
       "56.0000000000000"
      ]
     },
     "execution_count": 11,
     "metadata": {},
     "output_type": "execute_result"
    }
   ],
   "source": [
    "# Testando: P_0 = (-2, 56)\n",
    "x = sp.Symbol('x')\n",
    "pol.evalf(subs={x: -2})"
   ]
  },
  {
   "cell_type": "markdown",
   "metadata": {},
   "source": [
    "Por sistema linear:"
   ]
  },
  {
   "cell_type": "code",
   "execution_count": 12,
   "metadata": {},
   "outputs": [
    {
     "name": "stdout",
     "output_type": "stream",
     "text": [
      "[[ 1  0  0  0]\n",
      " [ 0 -2  0  0]\n",
      " [ 0  0  0  0]\n",
      " [ 0  0  0 27]]\n"
     ]
    },
    {
     "ename": "LinAlgError",
     "evalue": "Singular matrix",
     "output_type": "error",
     "traceback": [
      "\u001b[0;31m---------------------------------------------------------------------------\u001b[0m",
      "\u001b[0;31mLinAlgError\u001b[0m                               Traceback (most recent call last)",
      "\u001b[0;32m<ipython-input-12-08b706741c88>\u001b[0m in \u001b[0;36m<module>\u001b[0;34m()\u001b[0m\n\u001b[1;32m      1\u001b[0m \u001b[0mx\u001b[0m \u001b[0;34m=\u001b[0m \u001b[0;34m[\u001b[0m\u001b[0;36m0\u001b[0m\u001b[0;34m,\u001b[0m\u001b[0;36m0\u001b[0m\u001b[0;34m,\u001b[0m\u001b[0;36m0\u001b[0m\u001b[0;34m,\u001b[0m\u001b[0;36m0\u001b[0m\u001b[0;34m]\u001b[0m\u001b[0;34m\u001b[0m\u001b[0m\n\u001b[1;32m      2\u001b[0m \u001b[0mgrau\u001b[0m \u001b[0;34m=\u001b[0m \u001b[0;36m3\u001b[0m\u001b[0;34m\u001b[0m\u001b[0m\n\u001b[0;32m----> 3\u001b[0;31m \u001b[0minterpol_jacobi\u001b[0m\u001b[0;34m(\u001b[0m\u001b[0mgrau\u001b[0m\u001b[0;34m,\u001b[0m \u001b[0mpontos1\u001b[0m\u001b[0;34m,\u001b[0m \u001b[0mx\u001b[0m\u001b[0;34m)\u001b[0m\u001b[0;34m\u001b[0m\u001b[0m\n\u001b[0m",
      "\u001b[0;32m<ipython-input-4-551e3f0e619b>\u001b[0m in \u001b[0;36minterpol_jacobi\u001b[0;34m(n, pontos, x)\u001b[0m\n\u001b[1;32m     15\u001b[0m     \u001b[0mM\u001b[0m \u001b[0;34m=\u001b[0m \u001b[0mnp\u001b[0m\u001b[0;34m.\u001b[0m\u001b[0mvander\u001b[0m\u001b[0;34m(\u001b[0m\u001b[0;34m[\u001b[0m\u001b[0mi\u001b[0m\u001b[0;34m[\u001b[0m\u001b[0;36m0\u001b[0m\u001b[0;34m]\u001b[0m \u001b[0;32mfor\u001b[0m \u001b[0mi\u001b[0m \u001b[0;32min\u001b[0m \u001b[0mpontos\u001b[0m\u001b[0;34m]\u001b[0m\u001b[0;34m,\u001b[0m \u001b[0mincreasing\u001b[0m\u001b[0;34m=\u001b[0m\u001b[0;32mTrue\u001b[0m\u001b[0;34m)\u001b[0m\u001b[0;34m\u001b[0m\u001b[0m\n\u001b[1;32m     16\u001b[0m \u001b[0;34m\u001b[0m\u001b[0m\n\u001b[0;32m---> 17\u001b[0;31m     \u001b[0mx\u001b[0m\u001b[0;34m,\u001b[0m \u001b[0mt\u001b[0m \u001b[0;34m=\u001b[0m \u001b[0mJacobi\u001b[0m\u001b[0;34m(\u001b[0m\u001b[0mM\u001b[0m\u001b[0;34m,\u001b[0m \u001b[0mb\u001b[0m\u001b[0;34m,\u001b[0m \u001b[0mx\u001b[0m\u001b[0;34m)\u001b[0m\u001b[0;34m\u001b[0m\u001b[0m\n\u001b[0m\u001b[1;32m     18\u001b[0m \u001b[0;34m\u001b[0m\u001b[0m\n\u001b[1;32m     19\u001b[0m     \u001b[0;32mreturn\u001b[0m \u001b[0mx\u001b[0m\u001b[0;34m,\u001b[0m \u001b[0mt\u001b[0m\u001b[0;34m\u001b[0m\u001b[0m\n",
      "\u001b[0;32m<ipython-input-3-b57b606aef2f>\u001b[0m in \u001b[0;36mJacobi\u001b[0;34m(A, b, x, threshold)\u001b[0m\n\u001b[1;32m     20\u001b[0m     \u001b[0mD\u001b[0m \u001b[0;34m=\u001b[0m \u001b[0mnp\u001b[0m\u001b[0;34m.\u001b[0m\u001b[0mdiag\u001b[0m\u001b[0;34m(\u001b[0m\u001b[0mnp\u001b[0m\u001b[0;34m.\u001b[0m\u001b[0mdiag\u001b[0m\u001b[0;34m(\u001b[0m\u001b[0mA\u001b[0m\u001b[0;34m)\u001b[0m\u001b[0;34m)\u001b[0m\u001b[0;34m\u001b[0m\u001b[0m\n\u001b[1;32m     21\u001b[0m     \u001b[0mprint\u001b[0m\u001b[0;34m(\u001b[0m\u001b[0mD\u001b[0m\u001b[0;34m)\u001b[0m\u001b[0;34m\u001b[0m\u001b[0m\n\u001b[0;32m---> 22\u001b[0;31m     \u001b[0mD_inv\u001b[0m \u001b[0;34m=\u001b[0m \u001b[0mnp\u001b[0m\u001b[0;34m.\u001b[0m\u001b[0mlinalg\u001b[0m\u001b[0;34m.\u001b[0m\u001b[0minv\u001b[0m\u001b[0;34m(\u001b[0m\u001b[0mD\u001b[0m\u001b[0;34m)\u001b[0m\u001b[0;34m\u001b[0m\u001b[0m\n\u001b[0m\u001b[1;32m     23\u001b[0m \u001b[0;34m\u001b[0m\u001b[0m\n\u001b[1;32m     24\u001b[0m     \u001b[0mt\u001b[0m \u001b[0;34m=\u001b[0m \u001b[0;36m0\u001b[0m\u001b[0;34m\u001b[0m\u001b[0m\n",
      "\u001b[0;32m/usr/local/lib/python3.5/dist-packages/numpy/linalg/linalg.py\u001b[0m in \u001b[0;36minv\u001b[0;34m(a)\u001b[0m\n\u001b[1;32m    526\u001b[0m     \u001b[0msignature\u001b[0m \u001b[0;34m=\u001b[0m \u001b[0;34m'D->D'\u001b[0m \u001b[0;32mif\u001b[0m \u001b[0misComplexType\u001b[0m\u001b[0;34m(\u001b[0m\u001b[0mt\u001b[0m\u001b[0;34m)\u001b[0m \u001b[0;32melse\u001b[0m \u001b[0;34m'd->d'\u001b[0m\u001b[0;34m\u001b[0m\u001b[0m\n\u001b[1;32m    527\u001b[0m     \u001b[0mextobj\u001b[0m \u001b[0;34m=\u001b[0m \u001b[0mget_linalg_error_extobj\u001b[0m\u001b[0;34m(\u001b[0m\u001b[0m_raise_linalgerror_singular\u001b[0m\u001b[0;34m)\u001b[0m\u001b[0;34m\u001b[0m\u001b[0m\n\u001b[0;32m--> 528\u001b[0;31m     \u001b[0mainv\u001b[0m \u001b[0;34m=\u001b[0m \u001b[0m_umath_linalg\u001b[0m\u001b[0;34m.\u001b[0m\u001b[0minv\u001b[0m\u001b[0;34m(\u001b[0m\u001b[0ma\u001b[0m\u001b[0;34m,\u001b[0m \u001b[0msignature\u001b[0m\u001b[0;34m=\u001b[0m\u001b[0msignature\u001b[0m\u001b[0;34m,\u001b[0m \u001b[0mextobj\u001b[0m\u001b[0;34m=\u001b[0m\u001b[0mextobj\u001b[0m\u001b[0;34m)\u001b[0m\u001b[0;34m\u001b[0m\u001b[0m\n\u001b[0m\u001b[1;32m    529\u001b[0m     \u001b[0;32mreturn\u001b[0m \u001b[0mwrap\u001b[0m\u001b[0;34m(\u001b[0m\u001b[0mainv\u001b[0m\u001b[0;34m.\u001b[0m\u001b[0mastype\u001b[0m\u001b[0;34m(\u001b[0m\u001b[0mresult_t\u001b[0m\u001b[0;34m,\u001b[0m \u001b[0mcopy\u001b[0m\u001b[0;34m=\u001b[0m\u001b[0;32mFalse\u001b[0m\u001b[0;34m)\u001b[0m\u001b[0;34m)\u001b[0m\u001b[0;34m\u001b[0m\u001b[0m\n\u001b[1;32m    530\u001b[0m \u001b[0;34m\u001b[0m\u001b[0m\n",
      "\u001b[0;32m/usr/local/lib/python3.5/dist-packages/numpy/linalg/linalg.py\u001b[0m in \u001b[0;36m_raise_linalgerror_singular\u001b[0;34m(err, flag)\u001b[0m\n\u001b[1;32m     87\u001b[0m \u001b[0;34m\u001b[0m\u001b[0m\n\u001b[1;32m     88\u001b[0m \u001b[0;32mdef\u001b[0m \u001b[0m_raise_linalgerror_singular\u001b[0m\u001b[0;34m(\u001b[0m\u001b[0merr\u001b[0m\u001b[0;34m,\u001b[0m \u001b[0mflag\u001b[0m\u001b[0;34m)\u001b[0m\u001b[0;34m:\u001b[0m\u001b[0;34m\u001b[0m\u001b[0m\n\u001b[0;32m---> 89\u001b[0;31m     \u001b[0;32mraise\u001b[0m \u001b[0mLinAlgError\u001b[0m\u001b[0;34m(\u001b[0m\u001b[0;34m\"Singular matrix\"\u001b[0m\u001b[0;34m)\u001b[0m\u001b[0;34m\u001b[0m\u001b[0m\n\u001b[0m\u001b[1;32m     90\u001b[0m \u001b[0;34m\u001b[0m\u001b[0m\n\u001b[1;32m     91\u001b[0m \u001b[0;32mdef\u001b[0m \u001b[0m_raise_linalgerror_nonposdef\u001b[0m\u001b[0;34m(\u001b[0m\u001b[0merr\u001b[0m\u001b[0;34m,\u001b[0m \u001b[0mflag\u001b[0m\u001b[0;34m)\u001b[0m\u001b[0;34m:\u001b[0m\u001b[0;34m\u001b[0m\u001b[0m\n",
      "\u001b[0;31mLinAlgError\u001b[0m: Singular matrix"
     ]
    }
   ],
   "source": [
    "x = [0,0,0,0]\n",
    "grau = 3\n",
    "interpol_jacobi(grau, pontos1, x)"
   ]
  },
  {
   "cell_type": "code",
   "execution_count": null,
   "metadata": {},
   "outputs": [],
   "source": []
  }
 ],
 "metadata": {
  "kernelspec": {
   "display_name": "Python 3",
   "language": "python",
   "name": "python3"
  },
  "language_info": {
   "codemirror_mode": {
    "name": "ipython",
    "version": 3
   },
   "file_extension": ".py",
   "mimetype": "text/x-python",
   "name": "python",
   "nbconvert_exporter": "python",
   "pygments_lexer": "ipython3",
   "version": "3.5.2"
  }
 },
 "nbformat": 4,
 "nbformat_minor": 2
}
