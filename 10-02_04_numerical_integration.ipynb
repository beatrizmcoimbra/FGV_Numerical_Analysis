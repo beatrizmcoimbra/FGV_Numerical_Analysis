{
 "cells": [
  {
   "cell_type": "markdown",
   "metadata": {},
   "source": [
    "### Métodos de integração numérica (cap. 4.3 + 5.1-3)\n",
    "\n",
    "---\n",
    "\n",
    "1. [Extrapolação de Richardson (cap. 4.3)](#Extrapolação-de-Richardson)\n",
    "    * [Exercício 1](#Exercício-1:)\n",
    "2. [Regra do Trapézio (cap. 5.1)](#Regra-do-Trapézio)\n",
    "    * [Cálculo recursivo](#Cálculo-recursivo)\n",
    "    * [Exercício 2](#Exercício-2:)\n",
    "3. [Algoritmo de Romberg (cap. 5.2)](#Algoritmo-de-Romberg)\n",
    "2. [Regra de Simpson (cap. 5.3)](#Regra-de-Simpson)\n",
    "\n",
    "    * [Exercício 3](#Exercício-3:)\n",
    "    * [Exercício 4](#Exercício-4:)\n",
    "    * [Exercício 5](#Exercício-5:)"
   ]
  },
  {
   "cell_type": "markdown",
   "metadata": {},
   "source": [
    "### [Extrapolação de Richardson](https://en.wikipedia.org/wiki/Richardson_extrapolation)"
   ]
  },
  {
   "cell_type": "markdown",
   "metadata": {},
   "source": [
    "É um método de aceleração de convergência da aproximação $A^{*}$ aplicado a um método escolhido $A(h)$, tal que $A(h)=A^{\\ast }+Ch^{n}+O(h^{n+1})$\n",
    "\n",
    "A extrapolação de Richardson de $A(h)$, chamada de $R(h,t)$, é definida como: \n",
    "\n",
    "$$R(h,t):={\\frac {t^{n}A\\left(\\frac{h}{t}\\right)-A(h)}{t^{n}-1}}$$\n",
    "\n",
    "Substituindo a expressão de $A(h)$, temos:\n",
    "\n",
    "$$R(h,t)={\\frac {t^{n}(A^{*}+C\\left({\\frac {h}{t}}\\right)^{n}+O(h^{n+1}))-(A^{*}+Ch^{n}+O(h^{n+1}))}{t^{n}-1}}=A^{*}+O(h^{n+1})$$\n",
    "\n",
    "**OBS:** O erro de estimação de $R(h,t)$ é de $O(h^{n+1})$ comparado com $A(h)$.\n",
    "\n",
    "#### Exercício 1: \n",
    "Use o método de extrapolação de Richardson para estender o passo de Euler no método de Euler para equações diferenciais. Faça com que o novo passo de Euler passe de ter erro local de truncamento da ordem $O(h^{4})$ ao invés do original $O(h^{2})$."
   ]
  },
  {
   "cell_type": "markdown",
   "metadata": {},
   "source": [
    "**R**: Pela fórmula de Taylor, temos: \n",
    "\n",
    "$$y(t+h) = y(t) + y'(t)h + y''(t)\\frac{h^2}{2} + O(h^{3})$$ \n",
    "\n",
    "O método de Euler de 1ª ordem tem o truncamento: $A(h) = y(t) + y'(t)h$. Logo, $n = 2$ e para $t=2$, temos:\n",
    "\n",
    "$$\\begin{eqnarray} R(h,2) & = & {\\frac {2^{2}A\\left(\\frac{h}{2}\\right)-A(h)}{2^{2}-1}} \\\\ & = & 4A\\left(\\frac{h}{2}\\right)-A(h) \\\\ & = & \\frac{1}{3} \\left[ 4 \\left(y(t) + y'(t)\\frac{h}{2} + y''(t)\\frac{h^2}{8} + ...\\right) - \\left(y(t) + y'(t)h + y''(t)\\frac{h^2}{2} + ...\\right) \\right] \\\\ & = & \\frac{1}{3} (3y(t) + y'(t)h) + O(h^{4})\\end{eqnarray}$$"
   ]
  },
  {
   "cell_type": "code",
   "execution_count": null,
   "metadata": {},
   "outputs": [],
   "source": [
    "def euler_richardson(f, y0, h, t_range):\n",
    "    \n",
    "    \"\"\"\n",
    "    Resolve o problema de valor inicial com o método de Euler de 1ª ordem.\n",
    "    \n",
    "    :param f: função lambda(t,y) de y' do problema\n",
    "    :param y0: ponto inicial do problema\n",
    "    :param h: passo escolhido\n",
    "    :param t_range: intervalo em t ([lower, upper])\n",
    "    \n",
    "    :returns (t,y): estimação de y nos valores em t\n",
    "    \"\"\"\n",
    "        \n",
    "    y_ant = y0[1]\n",
    "    t_ant = y0[0]\n",
    "    \n",
    "    t_est = [t_ant]\n",
    "    y_est = [y_ant]\n",
    "    \n",
    "    while t_ant < t_range[1]:\n",
    "        \n",
    "        # passo de Taylor\n",
    "        t = t_ant + h\n",
    "        y = y_ant + f(t_ant, y_ant)*h\n",
    "        \n",
    "        y_est.append(y)\n",
    "        t_est.append(t)\n",
    "        \n",
    "        # atualização dos termos\n",
    "        y_ant = y\n",
    "        t_ant = t\n",
    "    \n",
    "    return t_est, y_est"
   ]
  },
  {
   "cell_type": "markdown",
   "metadata": {},
   "source": [
    "### [Regra do Trapézio](https://en.wikipedia.org/wiki/Trapezoidal_rule)\n",
    "\n",
    "É um método de integração numérica para obter uma aproximação de $\\int _{a}^{b}f(x)\\,dx$.\n",
    "\n",
    "Ao invés de aproximar as áreas infinitesimais entre dois pontos $x_n$ e $x_{n+1}$ por retângulos (como fazemos na Soma de Riemman) utilizando somente um valor $y*$ para ambos, utilizamos os dois valores $y_n$ e $y_{n+1}$ ligados por uma reta, formando um trapézio, ilustrado abaixo:\n",
    "\n",
    "|<img src=\"https://upload.wikimedia.org/wikipedia/commons/thumb/d/d1/Integration_num_trapezes_notation.svg/691px-Integration_num_trapezes_notation.svg.png\" alt=\"Drawing\" style=\"width: 300px;\"/>|\n",
    "|:--:| \n",
    "| *[Regra do trapézio - Wikipédia](https://en.wikipedia.org/wiki/Trapezoidal_rule#/media/File:Integration_num_trapezes_notation.svg =10x20)* |\n",
    "\n",
    "Logo, sendo $x_k \\in [a,b]$, tal que $a=x_{0}<x_{1}<\\cdots <x_{N-1}<x_{N}=b$, e $\\Delta x_{k}=x_{k}-x_{k-1}$, a aproximação é dada por:\n",
    "\n",
    "$$\\int _{a}^{b}f(x)\\,dx\\approx \\sum _{k=1}^{N}{\\frac {f(x_{k-1})+f(x_{k})}{2}}\\Delta x_{k}$$\n",
    "\n",
    "#### Cálculo recursivo\n",
    "\n",
    "Podemos usar essa regra de forma recursivo, aumentando o número de subdivisões (dobrando o número de pontos avaliados) e calculando a integral. \n",
    "\n",
    "Supondo que temos $2^n$ pontos, cada subintervalo terá tamanho $h = \\frac{b-a}{2n}$. Indicamos a aproximação com essa configuração como:\n",
    "\n",
    "$$R(n,0) = \\frac{1}{2}R(n-1, 0) + h\\sum_{k=1}^{2^{n-1}} f[a+(2k-1)h]$$\n",
    "\n",
    "sendo $R(0,0) = \\frac{1}{2}(f(a) + f(b))(b-a)$.\n",
    "\n",
    "O esforço computacional não é tão grande, pois dó precisamos avaliar a função nos novos pontos obtidos a cada subdivisão (os outros pontos já foram avaliados em $R(n-1)$!). Inclusive, vale ressaltar que a regra tem precisão quadrática."
   ]
  },
  {
   "cell_type": "markdown",
   "metadata": {},
   "source": [
    "#### Exercício 3:\n",
    "\n",
    "Mostre que o método do trapézio, com amostragem igualmente espaçada, tem um erro de\n",
    "ordem $O(h^{2})$, onde ℎ é o espaço entre os pontos amostrados. Isto é, ∫ 𝑓(𝑡)𝑑𝑡 𝑏𝑎 − 𝑇(𝑓, 𝑎, 𝑏) = 𝑂(ℎ2). Você pode considerar o método aplicado apenas nos pontos 𝑎 e 𝑏 (dois pontos na\n",
    "amostra)\n"
   ]
  },
  {
   "cell_type": "markdown",
   "metadata": {},
   "source": [
    "### [Algoritmo de Romberg](https://en.wikipedia.org/wiki/Romberg%27s_method)"
   ]
  },
  {
   "cell_type": "markdown",
   "metadata": {},
   "source": [
    "É uma forma de aumentarmos a precisão da [regra do trapézio](#Regra-do-Trapézio) sem aumentar o número de pontos,utilizando a [extrapolação de Richardson](#Extrapolação-de-Richardson). A fórumla geral é dada por:\n",
    "\n",
    "$$R(n,m)=R(n,m-1)+{\\tfrac {1}{4^{m}-1}}(R(n,m-1)-R(n-1,m-1))$$\n",
    "\n",
    "Para tal, precisamos calcular uma árvore com os valores de $R(i,j)$, com $i \\in [0, n], j \\in [0, i]$."
   ]
  },
  {
   "cell_type": "markdown",
   "metadata": {},
   "source": [
    "### [Regra de Simpson](https://en.wikipedia.org/wiki/Simpson%27s_rule)"
   ]
  },
  {
   "cell_type": "markdown",
   "metadata": {},
   "source": [
    "É também um método de integração numérica para obter uma aproximação de $\\int _{a}^{b}f(x)\\,dx$.\n",
    "\n",
    "A regra de Simpson, diferente da regra do trapézio e da soma de Riemann, baseia-se em aproximar a integral definida pela área sob arcos de parábola que interpolam a função. Ou seja, a cada 3 pontos sucessivos escolhidos no intervalo, calculamos \n",
    "\n",
    "|<img src=\"https://upload.wikimedia.org/wikipedia/commons/thumb/c/ca/Simpsons_method_illustration.svg/829px-Simpsons_method_illustration.svg.png\" alt=\"Drawing\" style=\"width: 300px;\"/>|\n",
    "|:--:| \n",
    "| *[Regra de Simpson - Wikipédia](https://en.wikipedia.org/wiki/Simpson%27s_rule#/media/File:Simpsons_method_illustration.svg)* |"
   ]
  },
  {
   "cell_type": "markdown",
   "metadata": {},
   "source": [
    "2) Implemente a integração pela regra do trapézio e pela regra de Simpson (amostragem\n",
    "igualmente espaçada do intervalo de integração) e use ambos os métodos para achar uma\n",
    "estimativa de $\\int_{0}^{4}\\frac{4}{1+t^2}dt$ (sugestão: amostre o intervalo [0, 1] em 100 pontos). Compare a\n",
    "precisão dos métodos quando o número de pontos de amostragem do integrando é o mesmo."
   ]
  },
  {
   "cell_type": "code",
   "execution_count": null,
   "metadata": {},
   "outputs": [],
   "source": []
  }
 ],
 "metadata": {
  "kernelspec": {
   "display_name": "Python 3",
   "language": "python",
   "name": "python3"
  },
  "language_info": {
   "codemirror_mode": {
    "name": "ipython",
    "version": 3
   },
   "file_extension": ".py",
   "mimetype": "text/x-python",
   "name": "python",
   "nbconvert_exporter": "python",
   "pygments_lexer": "ipython3",
   "version": "3.5.2"
  }
 },
 "nbformat": 4,
 "nbformat_minor": 2
}
