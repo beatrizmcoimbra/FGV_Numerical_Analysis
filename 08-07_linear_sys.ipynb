{
 "cells": [
  {
   "cell_type": "markdown",
   "metadata": {},
   "source": [
    "*Relembrando...*\n",
    "\n",
    "Arredondamento no R de números do tipo `x.5` depende da paridade da unidade de x."
   ]
  },
  {
   "cell_type": "markdown",
   "metadata": {},
   "source": [
    "### Sistemas Lineares (cap 8.1 + 8.2)\n",
    "\n",
    "---\n",
    "\n",
    "Lidamos com problemas do tipo, $Ax = B$, onde $A$, uma matriz, e $b$, um vetor, são dados.\n",
    "\n",
    "\n",
    "##### [Eliminação Gaussiana](https://en.wikipedia.org/wiki/Gaussian_elimination#Computational-efficiency), $O(n^3)$"
   ]
  },
  {
   "cell_type": "markdown",
   "metadata": {},
   "source": [
    "#### Método de Jacobi\n",
    "\n",
    "Decompomos a matriz $A$ na forma $L + D + U$, onde $L$ é uma matriz triangular inferior, $D$ é diagonal e $U$ é triangular superior.\n",
    "\n",
    "Logo, ficamos com: \n",
    "\n",
    "$\\begin{eqnarray}\n",
    "(L + D + U)x & = & b \\\\\n",
    "Dx & = & b - (L + U)x \\\\\n",
    "x_{k+1} & = & D^{-1}(b-(L+U)v_{k})\n",
    "\\end{eqnarray}$ \n",
    "\n",
    "Solução é um ponto fixo da iteração de $v_{k}$"
   ]
  },
  {
   "cell_type": "markdown",
   "metadata": {},
   "source": [
    "**Exercício 1**: \n",
    "\n",
    "Gere uma matriz quadrada $n\\times n$ esparsa com $\\approx 2\\%$ das entradas diferentes de zero e menores que 1\n",
    "\n",
    "A diagonal deve conter números aleatórios em $[\\frac{4n}{100}, \\frac{8n}{100}]$, para $n=10000$."
   ]
  },
  {
   "cell_type": "code",
   "execution_count": 107,
   "metadata": {},
   "outputs": [],
   "source": [
    "n = 10000"
   ]
  },
  {
   "cell_type": "code",
   "execution_count": 108,
   "metadata": {},
   "outputs": [],
   "source": [
    "import numpy as np\n",
    "\n",
    "def esparse_matrix(n):\n",
    "    \n",
    "    # gerando a matriz com aprox. 5% de entradas diferentes de 1\n",
    "    M = np.random.rand(n,n)\n",
    "    M = M * (M > 0.95).astype(int)\n",
    "    \n",
    "    # preenchendo a diagonal\n",
    "    np.fill_diagonal(M, 0)\n",
    "    d = np.diag(np.random.uniform(n*4/100,n*8/100, n))\n",
    "    \n",
    "    return M + d"
   ]
  },
  {
   "cell_type": "code",
   "execution_count": 109,
   "metadata": {},
   "outputs": [
    {
     "name": "stdout",
     "output_type": "stream",
     "text": [
      "CPU times: user 2.79 s, sys: 2.17 s, total: 4.96 s\n",
      "Wall time: 4.96 s\n"
     ]
    }
   ],
   "source": [
    "%%time\n",
    "A = esparse_matrix(n)"
   ]
  },
  {
   "cell_type": "code",
   "execution_count": 110,
   "metadata": {},
   "outputs": [
    {
     "data": {
      "text/plain": [
       "array([[722.78966196,   0.        ,   0.        , ...,   0.        ,\n",
       "          0.95646311,   0.        ],\n",
       "       [  0.        , 502.10943048,   0.        , ...,   0.        ,\n",
       "          0.        ,   0.        ],\n",
       "       [  0.        ,   0.        , 537.91955596, ...,   0.        ,\n",
       "          0.        ,   0.        ],\n",
       "       ...,\n",
       "       [  0.        ,   0.        ,   0.        , ..., 668.23295556,\n",
       "          0.        ,   0.        ],\n",
       "       [  0.        ,   0.        ,   0.95891897, ...,   0.        ,\n",
       "        487.04865982,   0.        ],\n",
       "       [  0.        ,   0.        ,   0.        , ...,   0.        ,\n",
       "          0.        , 418.24092562]])"
      ]
     },
     "execution_count": 110,
     "metadata": {},
     "output_type": "execute_result"
    }
   ],
   "source": [
    "A"
   ]
  },
  {
   "cell_type": "markdown",
   "metadata": {},
   "source": [
    "**Exercício 2**: \n",
    "\n",
    "Gere um vetor aleatório $x$ e calcule $b=Ax$"
   ]
  },
  {
   "cell_type": "code",
   "execution_count": 113,
   "metadata": {},
   "outputs": [
    {
     "data": {
      "text/plain": [
       "(10000,)"
      ]
     },
     "execution_count": 113,
     "metadata": {},
     "output_type": "execute_result"
    }
   ],
   "source": [
    "x = 2*np.ones(n)\n",
    "x.shape"
   ]
  },
  {
   "cell_type": "code",
   "execution_count": 114,
   "metadata": {},
   "outputs": [
    {
     "data": {
      "text/plain": [
       "array([2., 2., 2., ..., 2., 2., 2.])"
      ]
     },
     "execution_count": 114,
     "metadata": {},
     "output_type": "execute_result"
    }
   ],
   "source": [
    "x"
   ]
  },
  {
   "cell_type": "code",
   "execution_count": 115,
   "metadata": {},
   "outputs": [
    {
     "data": {
      "text/plain": [
       "(10000,)"
      ]
     },
     "execution_count": 115,
     "metadata": {},
     "output_type": "execute_result"
    }
   ],
   "source": [
    "b = np.inner(A,x)\n",
    "b.shape"
   ]
  },
  {
   "cell_type": "code",
   "execution_count": 116,
   "metadata": {},
   "outputs": [
    {
     "data": {
      "text/plain": [
       "array([2415.42205362, 1937.39250758, 2078.73979248, ..., 2323.03334162,\n",
       "       2028.82331771, 1789.22730522])"
      ]
     },
     "execution_count": 116,
     "metadata": {},
     "output_type": "execute_result"
    }
   ],
   "source": [
    "b"
   ]
  },
  {
   "cell_type": "markdown",
   "metadata": {},
   "source": [
    "**Exercício 3**: \n",
    "\n",
    "Desenvolva $Ax=b$ por escalonamento e por Jacobi e compare os tempos"
   ]
  },
  {
   "cell_type": "code",
   "execution_count": 158,
   "metadata": {},
   "outputs": [],
   "source": [
    "def Jacobi(A, b, x, threshold):\n",
    "    \n",
    "    \"\"\"\n",
    "    Resolove o sistema linear pelo método de Jacobi.\n",
    "    \n",
    "    :param A: matriz nxn\n",
    "    :param b: vetor nx1\n",
    "    :param x: vetor inicial\n",
    "    :param threshold: número máximo de iterações\n",
    "    \n",
    "    :returns: vetor solução do sistema, número de iterações\n",
    "    \"\"\"\n",
    "    \n",
    "    U = np.triu(A)\n",
    "    np.fill_diagonal(U, 0)\n",
    "    \n",
    "    L = np.tril(A)\n",
    "    np.fill_diagonal(L, 0)\n",
    "    \n",
    "    D = np.diag(np.diag(A))\n",
    "    D_inv = np.linalg.inv(D) \n",
    "    \n",
    "    t = 0\n",
    "    while t < threshold:\n",
    "        \n",
    "        x = np.inner(D_inv, b - np.inner((L+U), x))\n",
    "        t += 1\n",
    "    \n",
    "    return x, t"
   ]
  },
  {
   "cell_type": "code",
   "execution_count": 179,
   "metadata": {},
   "outputs": [],
   "source": [
    "x0 = np.ones(n)\n",
    "t_max = 200"
   ]
  },
  {
   "cell_type": "code",
   "execution_count": 181,
   "metadata": {},
   "outputs": [
    {
     "name": "stdout",
     "output_type": "stream",
     "text": [
      "CPU times: user 35min 4s, sys: 13min 4s, total: 48min 8s\n",
      "Wall time: 4min 37s\n"
     ]
    }
   ],
   "source": [
    "%%time\n",
    "\n",
    "x, t = Jacobi(A, b, x0, t_max)"
   ]
  },
  {
   "cell_type": "code",
   "execution_count": 182,
   "metadata": {},
   "outputs": [
    {
     "data": {
      "text/plain": [
       "array([2., 2., 2., ..., 2., 2., 2.])"
      ]
     },
     "execution_count": 182,
     "metadata": {},
     "output_type": "execute_result"
    }
   ],
   "source": [
    "x"
   ]
  },
  {
   "cell_type": "markdown",
   "metadata": {},
   "source": [
    "### Fazer o resto aqui!"
   ]
  },
  {
   "cell_type": "code",
   "execution_count": null,
   "metadata": {},
   "outputs": [],
   "source": [
    "def elim_Gaussiana(A, b):"
   ]
  },
  {
   "cell_type": "markdown",
   "metadata": {},
   "source": [
    "#### Exercício 4:\n",
    "Exiba uma matriz onde o método de Jacobi não converge"
   ]
  },
  {
   "cell_type": "code",
   "execution_count": null,
   "metadata": {},
   "outputs": [],
   "source": []
  },
  {
   "cell_type": "markdown",
   "metadata": {},
   "source": [
    "#### Exercício 5:\n",
    "    \n",
    "Mostre que se a matriz A é diagonal dominanteentãoo método de Jacobi converge"
   ]
  },
  {
   "cell_type": "code",
   "execution_count": null,
   "metadata": {},
   "outputs": [],
   "source": []
  }
 ],
 "metadata": {
  "kernelspec": {
   "display_name": "Python 3",
   "language": "python",
   "name": "python3"
  },
  "language_info": {
   "codemirror_mode": {
    "name": "ipython",
    "version": 3
   },
   "file_extension": ".py",
   "mimetype": "text/x-python",
   "name": "python",
   "nbconvert_exporter": "python",
   "pygments_lexer": "ipython3",
   "version": "3.5.2"
  }
 },
 "nbformat": 4,
 "nbformat_minor": 2
}
