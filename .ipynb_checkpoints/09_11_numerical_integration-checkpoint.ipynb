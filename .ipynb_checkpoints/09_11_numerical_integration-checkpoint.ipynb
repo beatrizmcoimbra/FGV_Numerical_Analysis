{
 "cells": [
  {
   "cell_type": "markdown",
   "metadata": {},
   "source": [
    "### Problemas de valores inicias (cap. 7)\n",
    "\n",
    "---\n",
    "\n",
    "1. [Exercício 1](#Exercício-1:)\n",
    "2. [Métodod de Euler](#Fórmula-de-Taylor)\n",
    "    * [Exercício 2](#Exercício-2:)\n",
    "    * [Exercício 3](#Exercício-3:)\n",
    "    * [Exercício 4](#Exercício-4:)\n",
    "    * [Exercício 5](#Exercício-5:)\n",
    "\n",
    "2. [xxx](#Método-da-bisseção)\n",
    "3. [xxx](#Método-de-Newton)"
   ]
  },
  {
   "cell_type": "code",
   "execution_count": 1,
   "metadata": {},
   "outputs": [
    {
     "name": "stdout",
     "output_type": "stream",
     "text": [
      "Populating the interactive namespace from numpy and matplotlib\n"
     ]
    }
   ],
   "source": [
    "import numpy as np\n",
    "import matplotlib.pyplot as plt\n",
    "import sympy as sp\n",
    "\n",
    "%pylab inline\n",
    "pylab.rcParams['figure.figsize'] = (12, 8)"
   ]
  },
  {
   "cell_type": "markdown",
   "metadata": {},
   "source": [
    "#### Exercício 1:\n",
    "\n",
    "Determine a solução exata dos problemas de valor inicial\n",
    "\n",
    "a) 𝑦′ = 𝑦, 𝑦(0) = 1, 𝑡 ∈ [0,1]\n",
    "\n",
    "b) 𝑦′ = $\\frac{𝑡}{𝑡+𝑦}$, 𝑦(0) = 0, 𝑡 ∈ [0,10]"
   ]
  },
  {
   "cell_type": "markdown",
   "metadata": {},
   "source": [
    "**R:**\n",
    "    \n",
    "(a) $dy/dt = y \\rightarrow \\frac{1}{y} dy = dt \\rightarrow ln|y| = t + c$.\n",
    " \n",
    " Logo, temos que $y(t) = y_{0}e^t$, e como $y(0) = 1 \\rightarrow y(t) = e^t$\n",
    " \n",
    "(b)  $dy/dt = \\frac{t}{t+y} \\rightarrow (t + y)dy = t dt \\rightarrow $.\n",
    " \n",
    " Logo, temos que $y(t) = y_{0}e^t$, e como $y(0) = 1 \\rightarrow y(t) = e^t$"
   ]
  },
  {
   "cell_type": "markdown",
   "metadata": {},
   "source": [
    "### [Método de Euler](https://pt.wikipedia.org/wiki/M%C3%A9todo_de_Euler)\n",
    "\n",
    "Utilizamos na solução de equações diferenciais ordinárias, é um método de integração numérica de problemas de valor inicial do tipo:\n",
    "\n",
    "$y' = f(y(t), t)$\n",
    "\n",
    "$y(t_0) = y_0$\n",
    "\n",
    "Pela expepansão de Taylor, temos: \n",
    "\n",
    "$y'(t) = \\frac{y(t+h) - y(t)}{h} + O(h^2) \\rightarrow y(t+h) = y(t) + y'(t)h + O(h^2)$\n",
    "\n",
    "O **passo de Taylor** para aproximação de função é dado da seguinte forma:\n",
    "\n",
    "$Y(t+h) = Y(t) + f(Y(t), t)h$, onde $f(Y(t), t) = y'$\n",
    "\n",
    "*OBS: No exercício 1(a), tínhamos $f(Y(t), t) = y$*"
   ]
  },
  {
   "cell_type": "markdown",
   "metadata": {},
   "source": [
    "#### Exercício 2:\n",
    "\n",
    "Faça um programa que calcula a solução numérica de problemas de valor inicial\n",
    "\n",
    "$𝑦′ = 𝑓(𝑦,𝑡)$\n",
    "\n",
    "$𝑦(𝑡_0) = 𝑦_0$"
   ]
  },
  {
   "cell_type": "code",
   "execution_count": null,
   "metadata": {},
   "outputs": [],
   "source": [
    "def "
   ]
  }
 ],
 "metadata": {
  "kernelspec": {
   "display_name": "Python 3",
   "language": "python",
   "name": "python3"
  },
  "language_info": {
   "codemirror_mode": {
    "name": "ipython",
    "version": 3
   },
   "file_extension": ".py",
   "mimetype": "text/x-python",
   "name": "python",
   "nbconvert_exporter": "python",
   "pygments_lexer": "ipython3",
   "version": "3.5.2"
  }
 },
 "nbformat": 4,
 "nbformat_minor": 2
}
