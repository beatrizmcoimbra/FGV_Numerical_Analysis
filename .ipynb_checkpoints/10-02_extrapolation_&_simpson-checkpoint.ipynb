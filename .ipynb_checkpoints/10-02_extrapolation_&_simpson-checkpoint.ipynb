{
 "cells": [
  {
   "cell_type": "markdown",
   "metadata": {},
   "source": [
    "### Extrapolação de Richardson e Fórmula de Simpson (cap. 4.3 + 5.2 + 5.3)\n",
    "\n",
    "---\n",
    "\n",
    "1. [Extrapolação de Richardson](#Extrapolação-de-Richardson)\n",
    "2. [Fórmula de Simpson](#Fórmula-de-Simpson)\n",
    "    * [Exercício 2](#Exercício-2:)\n",
    "    * [Exercício 3](#Exercício-3:)\n",
    "    * [Exercício 4](#Exercício-4:)\n",
    "    * [Exercício 5](#Exercício-5:)"
   ]
  },
  {
   "cell_type": "markdown",
   "metadata": {},
   "source": [
    "### [Extrapolação de Richardson](https://en.wikipedia.org/wiki/Richardson_extrapolation)"
   ]
  },
  {
   "cell_type": "code",
   "execution_count": null,
   "metadata": {},
   "outputs": [],
   "source": [
    "$"
   ]
  },
  {
   "cell_type": "markdown",
   "metadata": {},
   "source": [
    "### [Fórmula de Simpson](https://en.wikipedia.org/wiki/Simpson%27s_rule)"
   ]
  },
  {
   "cell_type": "markdown",
   "metadata": {},
   "source": [
    "Uma forma de se obter uma aproximação da integral definida: $\\int _{a}^{b}f(x)\\,dx$\n",
    "\n",
    "A regra de Simpson baseia-se em aproximar a integral definida pela área sob arcos de parábola que interpolam a função."
   ]
  },
  {
   "cell_type": "code",
   "execution_count": null,
   "metadata": {},
   "outputs": [],
   "source": []
  }
 ],
 "metadata": {
  "kernelspec": {
   "display_name": "Python 3",
   "language": "python",
   "name": "python3"
  },
  "language_info": {
   "codemirror_mode": {
    "name": "ipython",
    "version": 3
   },
   "file_extension": ".py",
   "mimetype": "text/x-python",
   "name": "python",
   "nbconvert_exporter": "python",
   "pygments_lexer": "ipython3",
   "version": "3.5.2"
  }
 },
 "nbformat": 4,
 "nbformat_minor": 2
}
