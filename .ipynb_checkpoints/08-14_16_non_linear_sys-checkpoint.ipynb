{
 "cells": [
  {
   "cell_type": "markdown",
   "metadata": {},
   "source": [
    "### Sistemas Não Lineares: métodos iterativos I (cap 3)\n",
    "\n",
    "---\n",
    "\n",
    "1. [Histórico](#Histórico)\n",
    "\n",
    "2. [Método da bisseção](#Método-da-bisseção)\n",
    "    * [Exercício 1](#Exercício-1:)\n",
    "    \n",
    "3. [Método de Newton](#Método-de-Newton)\n",
    "    * [Exercício 2](#Exercício-2:)\n",
    "    * [Exercício 3](#Exercício-3:)\n",
    "    \n",
    "4. [Método de Newton para sistemas de equações não lineares](#Método-de-Newton-para-sistemas-de-equações-não-lineares)\n",
    "    * [Exercício 4](#Exercício-4:)\n",
    "    * [Exercício 5](#Exercício-5:)\n",
    "\n",
    "5.  [Método da secante para sistemas de equações não lineares](#Método-da-secante-para-sistemas-de-equações-não-lineares)"
   ]
  },
  {
   "cell_type": "markdown",
   "metadata": {},
   "source": [
    "## 14-08\n",
    "\n",
    "#### Histórico\n",
    "\n",
    "Os babilônios já implementavam uma versão do método de Newton, um dos métodos estudados nessa aula, em problemas do tipo: $x^2 = a$\n",
    "\n",
    "* Como era resolvido?\n",
    "\n",
    "$x^2 = a \\rightarrow x = \\frac{a}{x}$\n",
    "\n",
    "Logo, começavam com um chute inicial $x = x_{0}$. Se $x_{0} = \\frac{a}{x_{0}}$, então chegamos no resultado. \n",
    "\n",
    "Senão, uma das duas parcelas da igualdade é maior que a outra, e sabemos que a raiz está entre ambas. \n",
    "\n",
    "Logo, pegamos a média entre elas: $x_{1} = \\frac{1}{2}(x_{0} + \\frac{a}{x_{0}})$"
   ]
  },
  {
   "cell_type": "markdown",
   "metadata": {},
   "source": [
    "#### Método da bisseção"
   ]
  },
  {
   "cell_type": "markdown",
   "metadata": {},
   "source": [
    "$f: [a,b] \\rightarrow \\Re$ (contínua)\n",
    "\n",
    "Queremos descobrir $x_* : f(x_*) = 0$. \n",
    "\n",
    "Sob as seguintes condições: $f(a)f(b) < 0$\n",
    "\n",
    "O tamanho do intervalo decresce em progressão geométrica, mas o ero decresce linearmente (nos dígitos! que seria o equivalente a observar o erro em log)."
   ]
  },
  {
   "cell_type": "code",
   "execution_count": 1,
   "metadata": {},
   "outputs": [],
   "source": [
    "def metodo_bissecao(f, a, b, threshold=0.01, i=0):\n",
    "    \n",
    "    \"\"\"\n",
    "    Calcula a raiz da função f dado o intervalo [a,b], sob as condiçãos de f contínua e f(a)f(b) < 0.\n",
    "    \n",
    "    :param f: função contínua\n",
    "    :param a: limite inferior do intervalo\n",
    "    :param b: limite superior do intervalo\n",
    "    :param threshold: erro d aproximação máximo (tamanho do intervalo)\n",
    "    \n",
    "    :return (x, i): (raiz, número de iterações)\n",
    "    \"\"\"\n",
    "    \n",
    "    if f(a) == 0:\n",
    "        return f(a)\n",
    "    \n",
    "    if f(b) == 0:\n",
    "        return f(b)\n",
    "    \n",
    "    if f(a)*f(b) < 0:\n",
    "        \n",
    "        while (b - a) > threshold:\n",
    "\n",
    "            x = (a+b)/2\n",
    "\n",
    "            if f(x) == 0:\n",
    "                return x, i\n",
    "            \n",
    "            elif f(x) < 0:\n",
    "                i+=1\n",
    "                a = x\n",
    "                \n",
    "            elif f(x) > 0:\n",
    "                i+=1\n",
    "                b = x\n",
    "        \n",
    "        return (a+b)/2, i"
   ]
  },
  {
   "cell_type": "markdown",
   "metadata": {},
   "source": [
    "#### Exercício 1:\n",
    "\n",
    "Implemente o método da bisseção e use-o para calcular uma raiz de $f(x)=x^3−x−2$"
   ]
  },
  {
   "cell_type": "code",
   "execution_count": 2,
   "metadata": {},
   "outputs": [],
   "source": [
    "x_b, i_b = metodo_bissecao(lambda x: x**3-x-2, -10, 10, 0.0001)"
   ]
  },
  {
   "cell_type": "code",
   "execution_count": 3,
   "metadata": {},
   "outputs": [
    {
     "data": {
      "text/plain": [
       "(1.5214157104492188, 18)"
      ]
     },
     "execution_count": 3,
     "metadata": {},
     "output_type": "execute_result"
    }
   ],
   "source": [
    "x_b, i_b"
   ]
  },
  {
   "cell_type": "code",
   "execution_count": 4,
   "metadata": {},
   "outputs": [
    {
     "data": {
      "text/plain": [
       "0.00021400397033088936"
      ]
     },
     "execution_count": 4,
     "metadata": {},
     "output_type": "execute_result"
    }
   ],
   "source": [
    "x_b**3 - x_b - 2"
   ]
  },
  {
   "cell_type": "markdown",
   "metadata": {},
   "source": [
    "#### Método de Newton\n",
    "\n",
    "A cada iteração, calculamos $x_{k+1} = x_{k} - \\frac{f(x_k)}{f'(x_k)}$\n",
    "\n",
    "Nesse caso, as raízes da função são os **atratores**. As **bacias de atração** são as regiões formadas ao redor dos atratores nas quais o método converge para aquela raiz. Entre as bacias de atração temos as **fronteiras**, regiões que não percentem a nenhuma bacia de atração. \n",
    "* Se nosso palpite inicial estiver numa **bacia de atração**, o método vai convergir para o atrator local;\n",
    "* Geralmente, se nosso palpite inicial estiver na **fronteira**, o método não converge.\n",
    "\n",
    "*Exemplo*:\n",
    "\n",
    "$ f(x) = x^2 + 4$\n",
    "\n",
    "As raízes são $-2i$, cuja bacia de atração corresponde ao semiplano abaixo da reta real, e $2i$, cuja bacia de atração corresponde ao semiplano acima da reta real. Os números reais são a fronteira! Logo, se iniciarmos com um número real, não convergimos para uma raiz da função :'("
   ]
  },
  {
   "cell_type": "markdown",
   "metadata": {},
   "source": [
    "#### Exercício 2:\n",
    "\n",
    "Implemente o método de Newton e use-o para calcular uma raiz de $f(x)=x^3−x−2$"
   ]
  },
  {
   "cell_type": "code",
   "execution_count": 5,
   "metadata": {},
   "outputs": [],
   "source": [
    "from scipy.misc import derivative\n",
    "\n",
    "def metodo_newton(f, x, threshold=0.01, i=0):\n",
    "    \n",
    "    \"\"\"\n",
    "    Calcula a raiz da função f dado um valor inicial x.\n",
    "    \n",
    "    :param f: função contínua\n",
    "    :param x: valor inicial\n",
    "    :param threshold: erro de aproximação máximo\n",
    "    \n",
    "    :return (x, i): (raiz, número de iterações)\n",
    "    \"\"\"\n",
    "    \n",
    "    if f(x) == 0:\n",
    "        \n",
    "        return x\n",
    "    \n",
    "    while abs(f(x)) > threshold:\n",
    "        \n",
    "        i+=1\n",
    "        d_x = derivative(f, x)\n",
    "        x = x - f(x)/d_x\n",
    "    \n",
    "    return x, i"
   ]
  },
  {
   "cell_type": "code",
   "execution_count": 6,
   "metadata": {},
   "outputs": [],
   "source": [
    "x_n, i_n = metodo_newton(lambda x: x**3-x-2, -10, 0.0001)"
   ]
  },
  {
   "cell_type": "code",
   "execution_count": 7,
   "metadata": {},
   "outputs": [
    {
     "data": {
      "text/plain": [
       "(1.5213904935469849, 26)"
      ]
     },
     "execution_count": 7,
     "metadata": {},
     "output_type": "execute_result"
    }
   ],
   "source": [
    "x_n, i_n"
   ]
  },
  {
   "cell_type": "code",
   "execution_count": 8,
   "metadata": {},
   "outputs": [
    {
     "data": {
      "text/plain": [
       "6.411464806443945e-05"
      ]
     },
     "execution_count": 8,
     "metadata": {},
     "output_type": "execute_result"
    }
   ],
   "source": [
    "x_n**3 - x_n - 2"
   ]
  },
  {
   "cell_type": "markdown",
   "metadata": {},
   "source": [
    "#### Exercício 3:\n",
    "\n",
    "Compare a velocidade de convergência dos métodos"
   ]
  },
  {
   "cell_type": "markdown",
   "metadata": {},
   "source": [
    "**R:** Como vimos nas implementações acima, para um mesmo erro de aproximação ($\\delta < 1 \\times 10^{-4}$), o método da bisseção chegou à solução com erro de $\\approx 2.15 \\times 10^{-4}$ em 18 iterações, enquanto o método de Newton teve um erro de $\\approx 6.41 \\times 10^{-5}$ em 26 iterações. \n",
    "\n",
    "Embora o método de Newton tenha apresentado uma solução mais próxima da raiz da equação, o método da bisseção chegou a uma solução mais rápido."
   ]
  },
  {
   "cell_type": "markdown",
   "metadata": {},
   "source": [
    "## 16-08\n",
    "\n",
    "#### [Método de Newton para sistemas de equações não lineares](http://www.math.ohiou.edu/courses/math3600/lecture13.pdf)\n",
    "\n",
    "Temos $F : \\Re^n \\rightarrow \\Re^n$, um sistema de equações $f_1, f_2, ..., f_n$ representado pelas linhas da matriz $F$.\n",
    "\n",
    "Logo, sendo $r$ o vetor raiz das equações:\n",
    "\n",
    "$F(v) = [ f_{1}(x), f_{2}(x), ..., f_{n}(x)] \\rightarrow F(r) = \\vec{0}$\n",
    "\n",
    "Sendo $J_{F}$ o Jacobiano da matriz $F$ e $e_{k}$ como o erro na iteração $k$, temos que:\n",
    "\n",
    "$F(v_{k} - e_{k}) \\approx F(v_{k}) - J_{F}(v_{n})e_{k} \\approx 0$, quando $v_{k} \\rightarrow r$\n",
    "\n",
    "Logo, a cada iteração atualizamos o valor de $v_k$:\n",
    "\n",
    "$v_{k+1} = v_{k} - J_{F}(v_{k})^{-1}F(v_{k})$"
   ]
  },
  {
   "cell_type": "markdown",
   "metadata": {},
   "source": [
    "**Exercício 4:**  \n",
    "\n",
    "Use o método de Newton para determinar uma solução para\n",
    "\n",
    "$ x + y + z = 3 \\\\\n",
    "x^2 + y^2 + z^2 = 5 \\\\\n",
    "e^x + xy - xz = 1$"
   ]
  },
  {
   "cell_type": "code",
   "execution_count": 9,
   "metadata": {},
   "outputs": [],
   "source": [
    "import sympy as sp\n",
    "\n",
    "def nonlin_newton(F, var, v, threshold=0.01, i=0):\n",
    "    \n",
    "    \"\"\"\n",
    "    Calcula o vetor raiz do conjunto de equações não lineares F dado um valor inicial v.\n",
    "    \n",
    "    :param F: matriz com as equações\n",
    "    :param var: variáveis das equações\n",
    "    :param v: vetor inicial\n",
    "    :param threshold: erro de aproximação máximo\n",
    "    \n",
    "    :return (v, i): (vetor raiz, número de iterações)\n",
    "    \"\"\"\n",
    "    \n",
    "    n = F.shape[0]\n",
    "    \n",
    "    values = {k:v for k,v in zip(var,v)}\n",
    "    \n",
    "    if F.subs(values) ==  sp.Matrix([0 for i in range(n)]):\n",
    "        \n",
    "        return v\n",
    "    \n",
    "    # Calcula o Jacobiano (simbólico)\n",
    "    J_F = F.jacobian(var)\n",
    "    \n",
    "    # Iniciamos o módulo do erro com um valor acima do threshold\n",
    "    e_norm = threshold + 1 \n",
    "    \n",
    "    # Busca a melhor aproximação\n",
    "    while e_norm > threshold:\n",
    "        \n",
    "        i+=1\n",
    "        \n",
    "        values = {k:v for k,v in zip(var,v)}\n",
    "        F_v = F.subs(values)\n",
    "        J_v = J_F.subs(values)\n",
    "        \n",
    "        last = v\n",
    "        v = v - J_v.inv()*F_v\n",
    "        \n",
    "        e_norm = (v - last).norm()\n",
    "        \n",
    "    return v, i"
   ]
  },
  {
   "cell_type": "code",
   "execution_count": 10,
   "metadata": {},
   "outputs": [],
   "source": [
    "import math\n",
    "x = sp.Symbol('x')\n",
    "y = sp.Symbol('y')\n",
    "z = sp.Symbol('z')\n",
    "\n",
    "F = sp.Matrix([x + y + z -3, x**2 + y**2 + z**2 -5, math.e**x + x*y - x*z -1])\n",
    "var = sp.Matrix([x,y,z])\n",
    "v = sp.Matrix([1,2,3])"
   ]
  },
  {
   "cell_type": "code",
   "execution_count": 11,
   "metadata": {},
   "outputs": [],
   "source": [
    "v_sol, n = nonlin_newton(F, var, v, 0.0001)"
   ]
  },
  {
   "cell_type": "code",
   "execution_count": 12,
   "metadata": {},
   "outputs": [
    {
     "data": {
      "text/plain": [
       "(Matrix([\n",
       " [-2.50251394762964e-11],\n",
       " [     2.00000000003308],\n",
       " [    0.999999999991949]]), 7)"
      ]
     },
     "execution_count": 12,
     "metadata": {},
     "output_type": "execute_result"
    }
   ],
   "source": [
    "v_sol, n"
   ]
  },
  {
   "cell_type": "code",
   "execution_count": 13,
   "metadata": {},
   "outputs": [
    {
     "data": {
      "text/plain": [
       "Matrix([\n",
       "[-1.11022302462516e-16],\n",
       "[ 1.16203713318441e-10],\n",
       "[-5.00502325861914e-11]])"
      ]
     },
     "execution_count": 13,
     "metadata": {},
     "output_type": "execute_result"
    }
   ],
   "source": [
    "values = {k:v for k,v in zip(var,v_sol)}\n",
    "F.subs(values)"
   ]
  },
  {
   "cell_type": "markdown",
   "metadata": {},
   "source": [
    "#### Exercício 5:\n",
    "Mostre que o método de Newton converge quadraticamente caso o ponto inicial esteja suficientemente próximo da solução de $f(x^*) = 0$ e $f'(x^*) \\neq 0$ (sob a hipótese de $f$ ser *suave*)."
   ]
  },
  {
   "cell_type": "markdown",
   "metadata": {},
   "source": [
    "**R:** Seja $r$ a raiz de $f$, $x_k$ a aproximação da raiz e $e_{k} = x_{k} - r$ o erro na iteração $k$.\n",
    "\n",
    "Logo, expandindo $f(x_{k} - e_{k})$ por série de Taylor no ponto $x_{k}$, temos:\n",
    "\n",
    "$f(x_{k} - e_{k}) = f(x_{k}) - f'(x_{k})e_{k} + \\frac{f''(\\theta)e_{k}^2}{2}$, na qual o útlimo termo é o [termo complementar de Lagrange](https://pt.wikipedia.org/wiki/Teorema_de_Taylor), e $\\theta \\in [x_{k}, x_{k}-e_{k}]$\n",
    "\n",
    "Como $r = x_{k} - e_{k}$, para que o método convirja temos que:\n",
    "\n",
    "$f(x_{k} - e_{k}) = f(r) = 0 \\rightarrow f(x_{k}) - f'(x_{k})e_{k} + \\frac{f''(\\theta)e_{k}^2}{2} = 0$\n",
    "\n",
    "Dividindo todos os termos por $f'(x_{k})$ e rearranjando a equação, temos:\n",
    "\n",
    "$\\frac{f(x_{k})}{f'(x_{k})} - e_{k} + \\frac{f''(\\theta)e_{k}^2}{2f'(x_{k})} = 0 \\rightarrow e_{k} = (\\frac{f''(\\theta)e_{k}^2}{2f'(x_{k})} + \\frac{f(x_{k})}{f'(x_{k})})$\n",
    "\n",
    "Pelo método de Newton, sabemos que:\n",
    "\n",
    "$x_{k+1} = x_{k} - \\frac{f(x_k)}{f'(x_k)} \\rightarrow e_{k+1} - e_{k} = x_{k+1} - x_{k} = - \\frac{f(x_k)}{f'(x_k)}$\n",
    "\n",
    "Logo, substituindo $e_{k+1} - e_{k}$ na equação, temos:\n",
    "\n",
    "$e_{k} = \\frac{f''(\\theta)e_{k})^2}{2f'(x_{k})} - (e_{k+1} - e_{k}) \\rightarrow e_{k+1} = \\frac{f''(\\theta)e_{k})^2}{2f'(x_{k})}$\n",
    "\n",
    "Tomando o valor absoluto em ambos os lados da equação, temos:\n",
    "\n",
    "$ \\lVert e_{k+1}\\rVert = \\left\\lVert \\frac{f''(\\theta)e_{k}^2}{2f'(x_{k})} \\right\\rVert = \\left\\lVert \\frac{f''(\\theta)}{2f'(x_{k})} \\right\\rVert e_{k}^2$\n",
    "\n",
    "Se tomarmos $x_n$ tal que $\\frac{1}{2}\\left|\\frac {f''(x_n)}{f'(x_n)}\\right| \\leq C\\left|{\\frac {f''(r)}{f'(r)}}\\right|$, para $C < \\infty$, ou seja, tomando $x$ *suficiente próximo de* $r$, garantimos que $\\left|{e_{n+1}}\\right|\\leq \\left\\lVert \\frac{f''(\\theta)}{2f'(x_{k})} \\right\\rVert{e_{n}}^{2}$. \n",
    "\n",
    "\\* Consulta ao site: https://en.wikipedia.org/wiki/Newton%27s_method"
   ]
  },
  {
   "cell_type": "markdown",
   "metadata": {},
   "source": [
    "#### [Método da secante para sistemas de equações não lineares](http://mathforcollege.com/nm/mws/gen/03nle/mws_gen_nle_txt_secant.pdf)"
   ]
  }
 ],
 "metadata": {
  "kernelspec": {
   "display_name": "Python 3",
   "language": "python",
   "name": "python3"
  },
  "language_info": {
   "codemirror_mode": {
    "name": "ipython",
    "version": 3
   },
   "file_extension": ".py",
   "mimetype": "text/x-python",
   "name": "python",
   "nbconvert_exporter": "python",
   "pygments_lexer": "ipython3",
   "version": "3.5.2"
  }
 },
 "nbformat": 4,
 "nbformat_minor": 2
}
