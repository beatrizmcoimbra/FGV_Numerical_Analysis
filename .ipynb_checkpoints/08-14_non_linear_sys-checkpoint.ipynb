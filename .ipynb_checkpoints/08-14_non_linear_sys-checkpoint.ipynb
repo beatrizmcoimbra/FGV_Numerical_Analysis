{
 "cells": [
  {
   "cell_type": "markdown",
   "metadata": {},
   "source": [
    "### Sistemas Não Lineares (cap 3.1 + 3.2)\n",
    "\n",
    "---"
   ]
  },
  {
   "cell_type": "markdown",
   "metadata": {},
   "source": [
    "#### Método de Newton\n",
    "\n",
    "Os babilônios já implementavam uma versão em problemas do tipo: $x^2 = a$\n",
    "\n",
    "* Como era resolvido?\n",
    "\n",
    "$x^2 = a \\rightarrow x = \\frac{a}{x}$\n",
    "\n",
    "Logo, começavam com um chute inicial $x = x_{0}$. Se $x_{0} = \\frac{a}{x_{0}}$, então chegamos no resultado. \n",
    "\n",
    "Senão, uma das duas parcelas da igualdade é maior que a outra, e sabemos que a raiz está entre ambas. \n",
    "\n",
    "Logo, pegamos a média entre elas: $x_{1} = \\frac{1}{2}(x_{0} + \\frac{a}{x_{0}})$"
   ]
  },
  {
   "cell_type": "markdown",
   "metadata": {},
   "source": [
    "#### Método da bisseção"
   ]
  },
  {
   "cell_type": "markdown",
   "metadata": {},
   "source": [
    "$f: [a,b] \\rightarrow \\Re$ (contínua)\n",
    "\n",
    "Queremos descobrir $x_* : f(x_*) = 0$. \n",
    "\n",
    "Sob as seguintes condições: $f(a)f(b) < 0$\n",
    "\n",
    "O tamanho do intervalo decresce em progressão geométrica, mas o ero decresce linearmente (nos dígitos! que seria o equivalente a observar o erro em log)."
   ]
  },
  {
   "cell_type": "code",
   "execution_count": 62,
   "metadata": {},
   "outputs": [],
   "source": [
    "def metodo_bissecao(f, a, b, threshold=0.01, i=0):\n",
    "    \n",
    "    \"\"\"\n",
    "    Calcula a raiz da função f dado o intervalo [a,b], sob as condiçãos de f contínua e f(a)f(b) < 0.\n",
    "    \n",
    "    :param f: função contínua\n",
    "    :param a: limite inferior do intervalo\n",
    "    :param b: limite superior do intervalo\n",
    "    :param threshold: limite inferior do intervalo\n",
    "    \n",
    "    :return (x, i): (raiz, número de iterações)\n",
    "    \"\"\"\n",
    "    \n",
    "    if f(a) == 0:\n",
    "        return f(a)\n",
    "    \n",
    "    if f(b) == 0:\n",
    "        return f(b)\n",
    "    \n",
    "    if f(a)*f(b) < 0:\n",
    "        \n",
    "        while (b - a) > threshold:\n",
    "\n",
    "            x = (a+b)/2\n",
    "\n",
    "            if f(x) == 0:\n",
    "                return x, i\n",
    "            \n",
    "            elif f(x) < 0:\n",
    "                i+=1\n",
    "                a = x\n",
    "                \n",
    "            elif f(x) > 0:\n",
    "                i+=1\n",
    "                b = x\n",
    "        \n",
    "        return (a+b)/2, i"
   ]
  },
  {
   "cell_type": "markdown",
   "metadata": {},
   "source": [
    "#### Exercício 1:\n",
    "\n",
    "Implemente o método da bisseção e use-o para calcular uma raiz de $f(x)=x^3−x−2$"
   ]
  },
  {
   "cell_type": "code",
   "execution_count": 63,
   "metadata": {},
   "outputs": [],
   "source": [
    "x, i = metodo_bissecao(lambda x: x**3-x-2, -10, 10, 0.001)"
   ]
  },
  {
   "cell_type": "code",
   "execution_count": 65,
   "metadata": {},
   "outputs": [
    {
     "data": {
      "text/plain": [
       "(1.52130126953125, 15)"
      ]
     },
     "execution_count": 65,
     "metadata": {},
     "output_type": "execute_result"
    }
   ],
   "source": [
    "x, i"
   ]
  },
  {
   "cell_type": "markdown",
   "metadata": {},
   "source": [
    "#### Método de Newton\n",
    "\n",
    "A cada iteração, calculamos $x_{k+1} = x_{k} - \\frac{f(x_k)}{f'(x_k)}$\n",
    "\n",
    "Nesse caso, as raízes da função são os **atratores**. As **bacias de atração** são as regiões formadas ao redor dos atratores nas quais o método converge para aquela raiz. Entre as bacias de atração temos as **fronteiras**, regiões que não percentem a nenhuma bacia de atração. \n",
    "* Se nosso palpite inicial estiver numa **bacia de atração**, o método vai convergir para o atrator local;\n",
    "* Geralmente, se nosso palpite inicial estiver na **fronteira**, o método não converge.\n",
    "\n",
    "*Exemplo*:\n",
    "\n",
    "$ f(x) = x^2 + 4$\n",
    "\n",
    "As raízes são $-2i$, cuja bacia de atração corresponde ao semiplano abaixo da reta real, e $2i$, cuja bacia de atração corresponde ao semiplano acima da reta real. Os números reais são a fronteira! Logo, se iniciarmos com um número real, não convergimos para uma raiz da função :'("
   ]
  },
  {
   "cell_type": "markdown",
   "metadata": {},
   "source": [
    "#### Exercício 2:\n",
    "\n",
    "Implemente o método de Newton e use-o para calcular uma raiz de $f(x)=x^3−x−2$"
   ]
  },
  {
   "cell_type": "code",
   "execution_count": 75,
   "metadata": {},
   "outputs": [],
   "source": [
    "from scipy.misc import derivative\n",
    "\n",
    "def metodo_newton(f, x, threshold=0.01, i=0):\n",
    "    \n",
    "    \"\"\"\n",
    "    Calcula a raiz da função f dado um valor inicial x.\n",
    "    \n",
    "    :param f: função contínua\n",
    "    :param x: valor inicial\n",
    "    :param threshold: limite inferior do intervalo\n",
    "    \n",
    "    :return (x, i): (raiz, número de iterações)\n",
    "    \"\"\"\n",
    "    \n",
    "    if f(x) == 0:\n",
    "        \n",
    "        return x\n",
    "    \n",
    "    while f(x) > threshold:\n",
    "        \n",
    "        i+=1\n",
    "        d_x = derivative(f, x)\n",
    "        x = x - f(x)/d_x\n",
    "    \n",
    "    return x, i"
   ]
  },
  {
   "cell_type": "code",
   "execution_count": 76,
   "metadata": {},
   "outputs": [
    {
     "data": {
      "text/plain": [
       "(1.5214144736722492, 10)"
      ]
     },
     "execution_count": 76,
     "metadata": {},
     "output_type": "execute_result"
    }
   ],
   "source": [
    "metodo_newton(lambda x: x**3-x-2, 10, 0.001)"
   ]
  }
 ],
 "metadata": {
  "kernelspec": {
   "display_name": "Python 3",
   "language": "python",
   "name": "python3"
  },
  "language_info": {
   "codemirror_mode": {
    "name": "ipython",
    "version": 3
   },
   "file_extension": ".py",
   "mimetype": "text/x-python",
   "name": "python",
   "nbconvert_exporter": "python",
   "pygments_lexer": "ipython3",
   "version": "3.5.2"
  }
 },
 "nbformat": 4,
 "nbformat_minor": 2
}
