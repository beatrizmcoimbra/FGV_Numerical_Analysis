{
 "cells": [
  {
   "cell_type": "markdown",
   "metadata": {},
   "source": [
    "*Relembrando...*\n",
    "\n",
    "Arredondamento no R de números do tipo `x.5` depende da paridade da unidade de x."
   ]
  },
  {
   "cell_type": "markdown",
   "metadata": {},
   "source": [
    "### Sistemas Lineares (cap 8.1 + 8.2)\n",
    "\n",
    "---\n",
    "\n",
    "Lidamos com problemas do tipo, $Ax = B$, onde $A$, uma matriz, e $b$, um vetor, são dados.\n",
    "\n",
    "1. [Eliminação Gaussiana](#Eliminação-Gaussiana)\n",
    "\n",
    "2. [Método de Jacobi](#Método-de-Jacobi)\n",
    "    * [Exercício 1](#Exercício-1:)\n",
    "    * [Exercício 2](#Exercício-2:)\n",
    "    * [Exercício 3](#Exercício-3:)\n",
    "    * [Exercício 4](#Exercício-4:)\n",
    "    * [Exercício 5](#Exercício-5:)\n",
    "\n",
    "3. [Método da Secante](#Método-da-Secante)\n",
    "4. [Gradiente Conjugado](#Gradiente-Conjugado)\n",
    "\n",
    "## 07-08\n",
    "\n",
    "##### [Eliminação Gaussiana](https://en.wikipedia.org/wiki/Gaussian_elimination#Computational-efficiency), $O(n^3)$"
   ]
  },
  {
   "cell_type": "markdown",
   "metadata": {},
   "source": [
    "#### [Método de Jacobi](https://en.wikipedia.org/wiki/Jacobi_method)\n",
    "\n",
    "Decompomos a matriz $A$ na forma $L + D + U$, onde $L$ é uma matriz triangular inferior, $D$ é diagonal e $U$ é triangular superior.\n",
    "\n",
    "Logo, ficamos com: \n",
    "\n",
    "$\\begin{eqnarray}\n",
    "(L + D + U)x & = & b \\\\\n",
    "Dx & = & b - (L + U)x \\\\\n",
    "x_{k+1} & = & D^{-1}(b-(L+U)x_{k})\n",
    "\\end{eqnarray}$ \n",
    "\n",
    "Solução é um ponto fixo da iteração de $x_{k}$"
   ]
  },
  {
   "cell_type": "markdown",
   "metadata": {},
   "source": [
    "#### Exercício 1:\n",
    "\n",
    "Gere uma matriz quadrada $n\\times n$ esparsa com $\\approx 2\\%$ das entradas diferentes de zero e menores que 1\n",
    "\n",
    "A diagonal deve conter números aleatórios em $[\\frac{4n}{100}, \\frac{8n}{100}]$, para $n=10000$."
   ]
  },
  {
   "cell_type": "code",
   "execution_count": 56,
   "metadata": {},
   "outputs": [],
   "source": [
    "n = 10000"
   ]
  },
  {
   "cell_type": "code",
   "execution_count": 57,
   "metadata": {},
   "outputs": [],
   "source": [
    "import numpy as np\n",
    "\n",
    "def esparse_matrix(n):\n",
    "    \n",
    "    # gerando a matriz com aprox. 5% de entradas diferentes de 1\n",
    "    M = np.random.rand(n,n)\n",
    "    M = M * (M > 0.95).astype(int)\n",
    "    \n",
    "    # preenchendo a diagonal\n",
    "    np.fill_diagonal(M, 0)\n",
    "    d = np.diag(np.random.uniform(n*4/100,n*8/100, n))\n",
    "    \n",
    "    return M + d"
   ]
  },
  {
   "cell_type": "code",
   "execution_count": 58,
   "metadata": {},
   "outputs": [
    {
     "name": "stdout",
     "output_type": "stream",
     "text": [
      "CPU times: user 2.62 s, sys: 2.19 s, total: 4.81 s\n",
      "Wall time: 4.81 s\n"
     ]
    }
   ],
   "source": [
    "%%time\n",
    "A = esparse_matrix(n)"
   ]
  },
  {
   "cell_type": "code",
   "execution_count": 59,
   "metadata": {},
   "outputs": [
    {
     "data": {
      "text/plain": [
       "array([[673.76175011,   0.        ,   0.        , ...,   0.        ,\n",
       "          0.        ,   0.        ],\n",
       "       [  0.98175907, 482.15734102,   0.        , ...,   0.95485156,\n",
       "          0.97431919,   0.96082707],\n",
       "       [  0.        ,   0.        , 477.0665167 , ...,   0.        ,\n",
       "          0.        ,   0.        ],\n",
       "       ...,\n",
       "       [  0.        ,   0.        ,   0.        , ..., 695.12997308,\n",
       "          0.        ,   0.        ],\n",
       "       [  0.        ,   0.        ,   0.        , ...,   0.        ,\n",
       "        461.59457421,   0.        ],\n",
       "       [  0.        ,   0.        ,   0.        , ...,   0.        ,\n",
       "          0.        , 557.8317368 ]])"
      ]
     },
     "execution_count": 59,
     "metadata": {},
     "output_type": "execute_result"
    }
   ],
   "source": [
    "A"
   ]
  },
  {
   "cell_type": "markdown",
   "metadata": {},
   "source": [
    "**Exercício 2**: \n",
    "\n",
    "Gere um vetor aleatório $x$ e calcule $b=Ax$"
   ]
  },
  {
   "cell_type": "code",
   "execution_count": 60,
   "metadata": {},
   "outputs": [
    {
     "data": {
      "text/plain": [
       "(10000,)"
      ]
     },
     "execution_count": 60,
     "metadata": {},
     "output_type": "execute_result"
    }
   ],
   "source": [
    "x = 2*np.ones(n)\n",
    "x.shape"
   ]
  },
  {
   "cell_type": "code",
   "execution_count": 61,
   "metadata": {},
   "outputs": [
    {
     "data": {
      "text/plain": [
       "array([2., 2., 2., ..., 2., 2., 2.])"
      ]
     },
     "execution_count": 61,
     "metadata": {},
     "output_type": "execute_result"
    }
   ],
   "source": [
    "x"
   ]
  },
  {
   "cell_type": "code",
   "execution_count": 62,
   "metadata": {},
   "outputs": [
    {
     "data": {
      "text/plain": [
       "(10000,)"
      ]
     },
     "execution_count": 62,
     "metadata": {},
     "output_type": "execute_result"
    }
   ],
   "source": [
    "b = np.inner(A,x)\n",
    "b.shape"
   ]
  },
  {
   "cell_type": "code",
   "execution_count": 63,
   "metadata": {},
   "outputs": [
    {
     "data": {
      "text/plain": [
       "array([2346.81092724, 1930.73494124, 1953.34411113, ..., 2292.3611657 ,\n",
       "       1936.64177518, 2110.28308954])"
      ]
     },
     "execution_count": 63,
     "metadata": {},
     "output_type": "execute_result"
    }
   ],
   "source": [
    "b"
   ]
  },
  {
   "cell_type": "markdown",
   "metadata": {},
   "source": [
    "**Exercício 3**: \n",
    "\n",
    "Desenvolva $Ax=b$ por escalonamento e por Jacobi e compare os tempos"
   ]
  },
  {
   "cell_type": "code",
   "execution_count": 64,
   "metadata": {},
   "outputs": [],
   "source": [
    "def Jacobi(A, b, x, threshold):\n",
    "    \n",
    "    \"\"\"\n",
    "    Resolove o sistema linear pelo método de Jacobi.\n",
    "    \n",
    "    :param A: matriz nxn\n",
    "    :param b: vetor nx1\n",
    "    :param x: vetor inicial\n",
    "    :param threshold: número máximo de iterações\n",
    "    \n",
    "    :returns: vetor solução do sistema, número de iterações\n",
    "    \"\"\"\n",
    "    \n",
    "    U = np.triu(A)\n",
    "    np.fill_diagonal(U, 0)\n",
    "    \n",
    "    L = np.tril(A)\n",
    "    np.fill_diagonal(L, 0)\n",
    "    \n",
    "    D = np.diag(np.diag(A))\n",
    "    D_inv = np.linalg.inv(D) \n",
    "    \n",
    "    t = 0\n",
    "    while t < threshold:\n",
    "        \n",
    "        x = np.inner(D_inv, b - np.inner((L+U), x))\n",
    "        t += 1\n",
    "    \n",
    "    return x, t"
   ]
  },
  {
   "cell_type": "code",
   "execution_count": 65,
   "metadata": {},
   "outputs": [],
   "source": [
    "x0 = np.ones(n)\n",
    "t_max = 200"
   ]
  },
  {
   "cell_type": "code",
   "execution_count": 66,
   "metadata": {},
   "outputs": [
    {
     "name": "stdout",
     "output_type": "stream",
     "text": [
      "CPU times: user 31min 56s, sys: 12min 49s, total: 44min 46s\n",
      "Wall time: 4min 39s\n"
     ]
    }
   ],
   "source": [
    "%%time\n",
    "\n",
    "x, t = Jacobi(A, b, x0, t_max)"
   ]
  },
  {
   "cell_type": "code",
   "execution_count": 67,
   "metadata": {},
   "outputs": [
    {
     "data": {
      "text/plain": [
       "array([2., 2., 2., ..., 2., 2., 2.])"
      ]
     },
     "execution_count": 67,
     "metadata": {},
     "output_type": "execute_result"
    }
   ],
   "source": [
    "x"
   ]
  },
  {
   "cell_type": "code",
   "execution_count": 68,
   "metadata": {},
   "outputs": [
    {
     "data": {
      "text/plain": [
       "array([2346.81092724, 1930.73494124, 1953.34411113, ..., 2292.3611657 ,\n",
       "       1936.64177518, 2110.28308954])"
      ]
     },
     "execution_count": 68,
     "metadata": {},
     "output_type": "execute_result"
    }
   ],
   "source": [
    "np.inner(A,x)"
   ]
  },
  {
   "cell_type": "code",
   "execution_count": 90,
   "metadata": {},
   "outputs": [],
   "source": [
    "def elim_Gauss(A, b):\n",
    "    \n",
    "    \"\"\"\n",
    "    Resolove o sistema linear pelo método de eliminação gaussiana.\n",
    "    \n",
    "    :param A: matriz nxn\n",
    "    :param b: vetor nx1\n",
    "    \n",
    "    :returns x: vetor solução do sistema\n",
    "    \"\"\"\n",
    "\n",
    "    A = np.column_stack([A, b])        \n",
    "    m = A.shape[1] # Número de colunas da matriz A|b\n",
    "    n = A.shape[0]\n",
    "    \n",
    "    for k in range(0, n):\n",
    "        \n",
    "        # Buscamos o pivô da coluna k\n",
    "        elem = abs(A[k][k])\n",
    "        max_row = k\n",
    "        \n",
    "        for i in range(k+1, n):\n",
    "            \n",
    "            if abs(A[i][k]) > elem:\n",
    "                \n",
    "                elem = abs(A[i][k])\n",
    "                max_row = i\n",
    "\n",
    "        # Trocamos as linhas i e k\n",
    "        A[[k,i]] = A[[i,k]]\n",
    "        \n",
    "        # Zeramos os elementos abaixo do pivô da coluna k\n",
    "        for i in range(k+1, n):\n",
    "            \n",
    "            if A[i][k] == 0:\n",
    "\n",
    "                pass\n",
    "            \n",
    "            else:\n",
    "                \n",
    "                c = -A[i][k]/A[k][k] # coeficiente\n",
    "\n",
    "                for j in range(k, m):\n",
    "\n",
    "                    A[i][j] += c * A[k][j]\n",
    "                \n",
    "         \n",
    "        # Cálculo do vetor x\n",
    "        x = np.zeros(n)\n",
    "        \n",
    "        for i in range(n-1, -1, -1):\n",
    "            \n",
    "            x[i] = A[i][n]/A[i][i]\n",
    "            \n",
    "            for k in range(i-1, -1, -1):\n",
    "                \n",
    "                A[k][n] -= A[k][i] * x[i]\n",
    "        \n",
    "        return x"
   ]
  },
  {
   "cell_type": "code",
   "execution_count": 91,
   "metadata": {},
   "outputs": [
    {
     "name": "stderr",
     "output_type": "stream",
     "text": [
      "/usr/local/lib/python3.5/dist-packages/ipykernel_launcher.py:41: RuntimeWarning: divide by zero encountered in double_scalars\n",
      "/usr/local/lib/python3.5/dist-packages/ipykernel_launcher.py:45: RuntimeWarning: invalid value encountered in double_scalars\n",
      "/usr/local/lib/python3.5/dist-packages/ipykernel_launcher.py:53: RuntimeWarning: invalid value encountered in double_scalars\n"
     ]
    },
    {
     "name": "stdout",
     "output_type": "stream",
     "text": [
      "CPU times: user 1min 18s, sys: 312 ms, total: 1min 19s\n",
      "Wall time: 1min 19s\n"
     ]
    }
   ],
   "source": [
    "%%time\n",
    "\n",
    "y = elim_Gauss(A, b)"
   ]
  },
  {
   "cell_type": "code",
   "execution_count": 92,
   "metadata": {},
   "outputs": [
    {
     "data": {
      "text/plain": [
       "array([nan, nan, nan, ..., nan, nan, nan])"
      ]
     },
     "execution_count": 92,
     "metadata": {},
     "output_type": "execute_result"
    }
   ],
   "source": [
    "y"
   ]
  },
  {
   "cell_type": "markdown",
   "metadata": {},
   "source": [
    "#### Exercício 4:\n",
    "Exiba uma matriz onde o método de Jacobi não converge"
   ]
  },
  {
   "cell_type": "code",
   "execution_count": 35,
   "metadata": {},
   "outputs": [
    {
     "data": {
      "text/plain": [
       "array([[1, 2, 3],\n",
       "       [4, 5, 6],\n",
       "       [7, 8, 9]])"
      ]
     },
     "execution_count": 35,
     "metadata": {},
     "output_type": "execute_result"
    }
   ],
   "source": [
    "A1 = np.array([(1,2,3), (4,5,6), (7,8,9)])\n",
    "A1"
   ]
  },
  {
   "cell_type": "code",
   "execution_count": 37,
   "metadata": {},
   "outputs": [
    {
     "data": {
      "text/plain": [
       "array([1, 1, 1])"
      ]
     },
     "execution_count": 37,
     "metadata": {},
     "output_type": "execute_result"
    }
   ],
   "source": [
    "b1 = np.array([1,1,1])\n",
    "b1"
   ]
  },
  {
   "cell_type": "code",
   "execution_count": 40,
   "metadata": {},
   "outputs": [],
   "source": [
    "x1 = b1"
   ]
  },
  {
   "cell_type": "code",
   "execution_count": 44,
   "metadata": {},
   "outputs": [
    {
     "name": "stdout",
     "output_type": "stream",
     "text": [
      "CPU times: user 4 ms, sys: 8 ms, total: 12 ms\n",
      "Wall time: 4.21 ms\n"
     ]
    }
   ],
   "source": [
    "%%time\n",
    "\n",
    "y1, t1 = Jacobi(A1, b1, x1, t_max)"
   ]
  },
  {
   "cell_type": "code",
   "execution_count": 45,
   "metadata": {},
   "outputs": [
    {
     "data": {
      "text/plain": [
       "array([7.20368770e+81, 3.91009795e+81, 3.54414353e+81])"
      ]
     },
     "execution_count": 45,
     "metadata": {},
     "output_type": "execute_result"
    }
   ],
   "source": [
    "y1"
   ]
  },
  {
   "cell_type": "code",
   "execution_count": 49,
   "metadata": {},
   "outputs": [
    {
     "data": {
      "text/plain": [
       "array([2.56563142e+82, 6.96301017e+82, 1.13603889e+83])"
      ]
     },
     "execution_count": 49,
     "metadata": {},
     "output_type": "execute_result"
    }
   ],
   "source": [
    "np.inner(A1, y1)"
   ]
  },
  {
   "cell_type": "markdown",
   "metadata": {},
   "source": [
    "#### Exercício 5:\n",
    "    \n",
    "Mostre que se a matriz A é diagonal dominante então o método de Jacobi converge."
   ]
  },
  {
   "cell_type": "markdown",
   "metadata": {},
   "source": [
    "**R:** O método converge se $e_k = (x_k - x_{k-1}) \\rightarrow 0$ quando $k \\rightarrow \\infty$.\n",
    "\n",
    "Seja a matriz quadrada A $n \\times n$, decomposta pela fatoração LU nas matrizes $D$, $L$ e $U$, e seja $x_{0}$ nosso vetor inicial.\n",
    "\n",
    "A cada iteração, temos $x_{k} = D^{-1}(L+U)x_{k-1} + D^{-1}b$. Para simplificar a notação, denotaremos $M = D^{-1}(L+U)$. \n",
    "\n",
    "Ou seja, $x_{k} = Mx_{k-1} + D^{-1}b$ e M é uma matriz quadrada $n \\times n$. \n",
    "\n",
    "Logo, o erro pode ser escrito como:\n",
    "\n",
    "$e_k = M(x_{k-1} - x_{k-2}) = Me_{k-1}$\n",
    "\n",
    "Para simplificar a notação, denotaremos $M = D^{-1}(L+U)$. \n",
    "Fazendo a transformação acima sucessivamente, temos:\n",
    "\n",
    "$e_{k-1} = Me_{k-2} \\rightarrow e_{k} = Me_{k-1} = M^{2}e_{k-2}$\n",
    "\n",
    "$e_{k-2} = Me_{k-3} \\rightarrow e_{k} = M_{2}e_{k-2} = M^{3}e_{k-2}$\n",
    "\n",
    "...\n",
    "\n",
    "$e_{1} = Me_{0} \\rightarrow e_{k} = M_{k-1}e_{1} = M^{k}e_{0}$\n",
    "\n",
    "Usando a norma máximo (norma $p$< com $p=\\inf$) e desigualdade triangular para o produto $M_{k}e_{0}$, temos que:\n",
    "\n",
    "$||M^ke_{0}||_\\infty \\leq ||M^k||_{\\infty}||e_{0}||_{\\infty} \\rightarrow ||e_{k}||_\\infty \\leq ||M^k||_{\\infty}||e_{0}||_{\\infty}$\n",
    "\n",
    "Para que nosso $e_{k}$ convirja, precisamos que $||M^k||_{\\infty} \\leq \\infty \\rightarrow ||M||_{\\infty} \\leq 1$\n",
    "\n",
    "Logo, como $||M||_\\infty = \\max\\limits_{1 \\leq i \\leq n} \\sum_{j=1}^{n}{| m_{i,j} |}$ (maior soma de valores absolutos das linhas), e nossa matriz $M = D^{-1}(L+U)$, temos que:\n",
    "\n",
    "$||M||_\\infty = \\max\\limits_{1 \\leq i \\leq n} \\sum_{j=1}^{n}{| -\\frac{a_{i,j}}{a_{j,j}} |} \\rightarrow \\max\\limits_{1 \\leq i \\leq n} \\sum_{j=1}^{n}{| -\\frac{a_{i,j}}{a_{j,j}} |} \\leq 1$ \n",
    "\n",
    "O que ocorre para as matrizes diagonais dominantes, dado que o elemento da diagonal $a_{j,j}$ é maior ou igual à soma dos elementos da linha, $a_{i,j}, i\\neq j$. Assim, mostramos que, se a matriz for diagonal dominante, então o método de Jacobi converge."
   ]
  },
  {
   "cell_type": "markdown",
   "metadata": {},
   "source": [
    "## 09-08\n",
    "\n",
    "#### [Método da Secante](https://en.wikipedia.org/wiki/Secant_method)"
   ]
  },
  {
   "cell_type": "markdown",
   "metadata": {},
   "source": [
    "#### Gradiente Conjugado"
   ]
  },
  {
   "cell_type": "code",
   "execution_count": null,
   "metadata": {},
   "outputs": [],
   "source": []
  }
 ],
 "metadata": {
  "kernelspec": {
   "display_name": "Python 3",
   "language": "python",
   "name": "python3"
  },
  "language_info": {
   "codemirror_mode": {
    "name": "ipython",
    "version": 3
   },
   "file_extension": ".py",
   "mimetype": "text/x-python",
   "name": "python",
   "nbconvert_exporter": "python",
   "pygments_lexer": "ipython3",
   "version": "3.5.2"
  }
 },
 "nbformat": 4,
 "nbformat_minor": 2
}
