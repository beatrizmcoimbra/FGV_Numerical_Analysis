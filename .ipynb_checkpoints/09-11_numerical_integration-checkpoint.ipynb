{
 "cells": [
  {
   "cell_type": "markdown",
   "metadata": {},
   "source": [
    "### Problemas de valores inicias (cap. 7)\n",
    "\n",
    "---\n",
    "\n",
    "1. [Exercício 1](#Exercício-1:)\n",
    "2. [Método de Euler](#Fórmula-de-Taylor)\n",
    "    * [Exercício 2](#Exercício-2:)\n",
    "    * [Exercício 3](#Exercício-3:)\n",
    "    * [Exercício 4](#Exercício-4:)\n",
    "    * [Exercício 5](#Exercício-5:)"
   ]
  },
  {
   "cell_type": "code",
   "execution_count": 1,
   "metadata": {},
   "outputs": [
    {
     "name": "stdout",
     "output_type": "stream",
     "text": [
      "Populating the interactive namespace from numpy and matplotlib\n"
     ]
    }
   ],
   "source": [
    "import numpy as np\n",
    "import matplotlib.pyplot as plt\n",
    "import sympy as sp\n",
    "\n",
    "%pylab inline\n",
    "pylab.rcParams['figure.figsize'] = (12, 8)"
   ]
  },
  {
   "cell_type": "markdown",
   "metadata": {},
   "source": [
    "#### Exercício 1:\n",
    "\n",
    "Determine a solução exata dos problemas de valor inicial\n",
    "\n",
    "a) 𝑦′ = 𝑦, 𝑦(0) = 1, 𝑡 ∈ [0,1]\n",
    "\n",
    "b) 𝑦′ = $\\frac{t+y}{t}$, 𝑦(0) = 1, 𝑡 ∈ [0,10]"
   ]
  },
  {
   "cell_type": "markdown",
   "metadata": {},
   "source": [
    "**R:**\n",
    "    \n",
    "(a) $dy/dt = y \\rightarrow \\frac{1}{y} dy = dt \\rightarrow ln|y| = t + c$.\n",
    " \n",
    " Logo, temos que $y(t) = y_{0}e^t$, e como $y(0) = 1 \\rightarrow y(t) = e^t$\n",
    " \n",
    "(b)  $y' = \\frac{t}{t+y} \\rightarrow (t+y)y' - t = 0 $.\n",
    "\n",
    "Tentei utilizando o [método do fator integrante](https://pt.wikipedia.org/wiki/Fator_integrante): \n",
    "\n",
    "$\\begin{cases} M(t, y) = -t \\\\ N(t, y) = (t+y) \\end{cases} \\rightarrow \n",
    "\\begin{cases} M_{y} = \\frac{\\partial M(t, y)}{\\partial y} = 0 \\\\ N_{t} = \\frac{\\partial N(t, y)}{\\partial t} = 1 \\end{cases} \\rightarrow \\int\\frac{M_{y} - N_{t}}{M}dt = \\int{\\frac{1}{t}}dt = ln(t)\\rightarrow \\mu(t, y) = e^{\\int\\frac{M_{y} - N_{t}}{M}dt} = e^{ln(t)} = t$\n",
    "\n",
    "Logo, multiplicando a equação por $\\mu(t,y)$:\n",
    "\n",
    "$t(t+y)y' - t^2 = 0$\n",
    "\n",
    "Aqui, não consegui resolver direto a equação.. [Vi no Wolfram Alpha que a solução não é exata...](http://m.wolframalpha.com/input/?i=y%27+%3D+t%2F%28t%2By%29)"
   ]
  },
  {
   "cell_type": "markdown",
   "metadata": {},
   "source": [
    "### [Método de Euler](https://pt.wikipedia.org/wiki/M%C3%A9todo_de_Euler)\n",
    "\n",
    "Utilizamos na solução de equações diferenciais ordinárias, é um método de integração numérica de problemas de valor inicial do tipo:\n",
    "\n",
    "$\\begin{cases} y′ = f(y,t) \\\\ y(t_{0}) = y_0 \\end{cases}$\n",
    "\n",
    "Pela expansão de Taylor, temos: \n",
    "\n",
    "$y'(t) = \\frac{y(t+h) - y(t)}{h} + O(h^2) \\rightarrow y(t+h) = y(t) + y'(t)h + O(h^2)$\n",
    "\n",
    "A aproximação da função é dada da seguinte forma:\n",
    "\n",
    "$\\begin{cases} Y(t+h) = Y(t) + f(Y(t), t)h \\\\ f(Y(t), t) = y' \\end{cases}$\n",
    "\n",
    "O passo $h$ pode ser escolhido arbitrariamente, uma boa forma, dado um intervalo de $h's$, é escolher o que tem menor erro quadrado nos pontos conhecidos.\n",
    "\n",
    "*OBS: No exercício 1(a), tínhamos $f(Y(t), t) = y$*"
   ]
  },
  {
   "cell_type": "markdown",
   "metadata": {},
   "source": [
    "#### Exercício 2:\n",
    "\n",
    "Faça um programa que calcula a solução numérica de problemas de valor inicial\n",
    "\n",
    "$\\begin{cases} y′ = f(y,t) \\\\ y(t_{0}) = y_0 \\end{cases}$\n",
    "\n",
    "pelo método de Euler de primeira ordem. A função deve ser da forma 𝑡 = 𝐸𝑢𝑙𝑒𝑟(𝑓, 𝑣𝑡, 𝑦0), onde\n",
    "𝑓 e 𝑦0 são a função e o valor inicial do problema e 𝑣𝑡 é um vetor que contém os valores da\n",
    "variável 𝑡 onde a função 𝑦 deve ser estimada (𝑣𝑡 = [𝑡0,𝑡1, … ,𝑡𝑛])"
   ]
  },
  {
   "cell_type": "code",
   "execution_count": 19,
   "metadata": {},
   "outputs": [],
   "source": [
    "def euler_1a_ordem(f, vt, y0):\n",
    "    \n",
    "    \"\"\"\n",
    "    Resolve o problema de valor inicial com o método de Euler de 1ª ordem, com h= x_n - x_(n-1).\n",
    "    \n",
    "    :param f: função lambda(t,y) de y' do problema\n",
    "    :param vt: vetor que contém os valores da variável\n",
    "    :param y0: valor inicial do problema\n",
    "    \n",
    "    :returns: estimação de y nos valores em vt\n",
    "    \"\"\"\n",
    "    \n",
    "        \n",
    "    y_ant = y0\n",
    "    t_ant = vt[0]\n",
    "    \n",
    "    est = [y0]\n",
    "    \n",
    "    for i in vt[1:]:\n",
    "        \n",
    "        t = i\n",
    "        h = t - t_ant\n",
    "        \n",
    "        # passo de Taylor\n",
    "        y = y_ant + f(y_ant, t_ant)*h\n",
    "        est.append(y)\n",
    "        \n",
    "        # atualização dos termos\n",
    "        y_ant = y\n",
    "        t_ant = t\n",
    "    \n",
    "    return est"
   ]
  },
  {
   "cell_type": "markdown",
   "metadata": {},
   "source": [
    "#### Exercício 3:\n",
    "\n",
    "Faça gráficos que contenham a solução exata do problema 1a) e 1b) e as solução numéricas\n",
    "obtidas com o programa desenvolvido em 2) para 𝑡 amostrado uniformemente no intervalo [0,1]\n",
    "com 5 valores e com 10 valores."
   ]
  },
  {
   "cell_type": "code",
   "execution_count": 29,
   "metadata": {},
   "outputs": [],
   "source": [
    "vt5 = np.linspace(0,1,5)\n",
    "vt10 = np.linspace(0,1,10)"
   ]
  },
  {
   "cell_type": "markdown",
   "metadata": {},
   "source": [
    "(a)"
   ]
  },
  {
   "cell_type": "code",
   "execution_count": 31,
   "metadata": {},
   "outputs": [
    {
     "data": {
      "image/png": "[encoded data removed]",
      "text/plain": [
       "<Figure size 432x288 with 1 Axes>"
      ]
     },
     "metadata": {},
     "output_type": "display_data"
    },
    {
     "data": {
      "text/plain": [
       "[1, 1.0, 1.0625, 1.1875, 1.375]"
      ]
     },
     "execution_count": 31,
     "metadata": {},
     "output_type": "execute_result"
    }
   ],
   "source": [
    "f = lambda t, y: y\n",
    "y0 = 1\n",
    "\n",
    "est = euler_1a_ordem(f, vt5, y0)\n",
    "\n",
    "plt.plot(vt5, est, label='euler est')\n",
    "\n",
    "# Solução analítica: f(x) = e^x\n",
    "f1 = lambda t: np.exp(t)\n",
    "y1 = [f1(x) for x in vt5]\n",
    "\n",
    "plt.plot(vt5, y1, label='f(x)=e^x')\n",
    "plt.legend()\n",
    "plt.show()\n",
    "\n",
    "est"
   ]
  },
  {
   "cell_type": "code",
   "execution_count": 32,
   "metadata": {},
   "outputs": [
    {
     "data": {
      "image/png": "[encoded data removed]",
      "text/plain": [
       "<Figure size 432x288 with 1 Axes>"
      ]
     },
     "metadata": {},
     "output_type": "display_data"
    },
    {
     "data": {
      "text/plain": [
       "[1,\n",
       " 1.0,\n",
       " 1.0123456790123457,\n",
       " 1.0370370370370372,\n",
       " 1.0740740740740742,\n",
       " 1.123456790123457,\n",
       " 1.1851851851851853,\n",
       " 1.2592592592592593,\n",
       " 1.345679012345679,\n",
       " 1.4444444444444444]"
      ]
     },
     "execution_count": 32,
     "metadata": {},
     "output_type": "execute_result"
    }
   ],
   "source": [
    "est = euler_1a_ordem(f, vt10, y0)\n",
    "\n",
    "plt.plot(vt10, est, label='euler est')\n",
    "\n",
    "# Solução analítica: f(x) = e^x\n",
    "f1 = lambda t: np.exp(t)\n",
    "y1 = [f1(x) for x in vt10]\n",
    "\n",
    "plt.plot(vt10, y1, label='f(x)=e^x')\n",
    "plt.legend()\n",
    "plt.show()\n",
    "\n",
    "est"
   ]
  },
  {
   "cell_type": "markdown",
   "metadata": {},
   "source": [
    "(b)"
   ]
  },
  {
   "cell_type": "code",
   "execution_count": 55,
   "metadata": {},
   "outputs": [
    {
     "data": {
      "image/png": "[encoded data removed]",
      "text/plain": [
       "<Figure size 432x288 with 1 Axes>"
      ]
     },
     "metadata": {},
     "output_type": "display_data"
    },
    {
     "data": {
      "text/plain": [
       "[1, 1.25, 1.4583333333333333, 1.6445035460992907, 1.8161992143703014]"
      ]
     },
     "execution_count": 55,
     "metadata": {},
     "output_type": "execute_result"
    }
   ],
   "source": [
    "f = lambda t, y: t/(t+y)\n",
    "y0 = 1\n",
    "\n",
    "est = euler_1a_ordem(f, vt5, y0)\n",
    "\n",
    "plt.plot(vt5, est, label='euler est')\n",
    "plt.legend()\n",
    "plt.show()\n",
    "\n",
    "est\n",
    "\n",
    "# Não obtive solução analítica..."
   ]
  },
  {
   "cell_type": "code",
   "execution_count": 56,
   "metadata": {},
   "outputs": [
    {
     "data": {
      "image/png": "[encoded data removed]",
      "text/plain": [
       "<Figure size 432x288 with 1 Axes>"
      ]
     },
     "metadata": {},
     "output_type": "display_data"
    },
    {
     "data": {
      "text/plain": [
       "[1,\n",
       " 1.1111111111111112,\n",
       " 1.2121212121212122,\n",
       " 1.3060179257362357,\n",
       " 1.3945365406802606,\n",
       " 1.4787943474620537,\n",
       " 1.559562401574875,\n",
       " 1.6374001738679893,\n",
       " 1.7127293447591134,\n",
       " 1.7858773793429372]"
      ]
     },
     "execution_count": 56,
     "metadata": {},
     "output_type": "execute_result"
    }
   ],
   "source": [
    "est = euler_1a_ordem(f, vt10, y0)\n",
    "\n",
    "plt.plot(vt10, est, label='euler est')\n",
    "plt.legend()\n",
    "plt.show()\n",
    "\n",
    "est\n",
    "\n",
    "# Não obtive solução analítica..."
   ]
  },
  {
   "cell_type": "markdown",
   "metadata": {},
   "source": [
    "#### Exercício 4:\n",
    "\n",
    "Faça um programa que calcula a solução numérica de problemas de valor inicial:\n",
    "\n",
    "$\\begin{cases} y′ = f(y,t) \\\\ y(t_{0}) = y_0 \\end{cases}$\n",
    "\n",
    "pelo método de Euler com ordem especificada. A função deve ser da forma 𝑡 =\n",
    "𝐸𝑢𝑙𝑒𝑟(𝑓, 𝑣𝑡, 𝑦0, 𝑜𝑟𝑑𝑒𝑚), onde 𝑓 e 𝑦0 são a função e o valor inicial do problema e 𝑣𝑡 é um vetor\n",
    "que contém os valores da variável 𝑡 onde a função 𝑦 deve ser estimada (𝑣𝑡 = [𝑡0,𝑡1, … ,𝑡𝑛]) e\n",
    "𝑜𝑟𝑑𝑒𝑚, é claro, é a ordem do método. Caso o sistema de computação científica que você esteja\n",
    "trabalhando não permita manipulação simbólica, faça programas específicos para soluções\n",
    "numéricas de (1a) e de (1b) de segunda ordem.\n"
   ]
  },
  {
   "cell_type": "markdown",
   "metadata": {},
   "source": [
    "**R:** O método de Euler é um método de 1ª ordem, mais que faz parte de uma famílai de [métodos de Runge–Kuttauma](https://pt.wikipedia.org/wiki/Lista_de_m%C3%A9todos_Runge-Kutta). \n",
    "\n",
    "$\\begin{cases} y_{n+1}=y_{n}+h\\sum _{i=1}^{s}b_{i}k_{i} \\\\ k_{i}=f\\left(t_{n}+c_{i}h,y_{n}+h\\sum _{j=1}^{s}a_{ij}k_{j}\\right) \\end{cases}$\n",
    "\n",
    "Os índices $a_{ij}$ são obtidos pela matriz de Butcher com os valores $b_{i}, c_{i}$. \n",
    "\n",
    "Não achei uma implementação generalizada, e oarece muito obscura a obtenção dos valores $b_{i}, c_{i}$. [O método mais comentado é o de 4ª ordem, que é implementado abaixo, com h=1.](https://pt.wikipedia.org/wiki/M%C3%A9todo_de_Runge-Kutta#O_m%C3%A9todo_Runge%E2%80%93Kutta_cl%C3%A1ssico_de_quarta_ordem)"
   ]
  },
  {
   "cell_type": "code",
   "execution_count": 51,
   "metadata": {},
   "outputs": [],
   "source": [
    "def runge_kuttama_4a_ordem(f, vt, y0):\n",
    "        \n",
    "    y_ant = y0\n",
    "    t_ant = vt[0]\n",
    "    \n",
    "    est = [y0]\n",
    "    \n",
    "    for i in vt[1:]:\n",
    "        \n",
    "        t = i\n",
    "        h = t - t_ant\n",
    "        \n",
    "        # aproximação por RK4\n",
    "        k1 = f(t_ant, y_ant)\n",
    "        k2 = f(t_ant + h/2, y_ant + k1*h/2)\n",
    "        k3 = f(t_ant + h/2, y_ant + k2*h/2)\n",
    "        k4 = f(t_ant + h, y_ant + k3*h)\n",
    "        \n",
    "        y = y_ant + (k1 + 2*k2 + 2*k3 + k4)*h/6\n",
    "        est.append(y)\n",
    "        \n",
    "        # atualização dos termos\n",
    "        y_ant = y\n",
    "        t_ant = t\n",
    "    \n",
    "    return est"
   ]
  },
  {
   "cell_type": "markdown",
   "metadata": {},
   "source": [
    "#### Exercício 5:\n",
    "\n",
    "Faça gráficos que contenham a solução exata do problema 1a) e 1b) e as solução numéricas\n",
    "obtidas com o programa desenvolvido em 4) para 𝑡 amostrado uniformemente no intervalo [0,1]\n",
    "com 5 valores e com 10 valores."
   ]
  },
  {
   "cell_type": "markdown",
   "metadata": {},
   "source": [
    "(a)"
   ]
  },
  {
   "cell_type": "code",
   "execution_count": 52,
   "metadata": {},
   "outputs": [
    {
     "data": {
      "image/png": "[encoded data removed]",
      "text/plain": [
       "<Figure size 432x288 with 1 Axes>"
      ]
     },
     "metadata": {},
     "output_type": "display_data"
    },
    {
     "data": {
      "text/plain": [
       "[1,\n",
       " 1.2840169270833333,\n",
       " 1.648699469036526,\n",
       " 2.1169580259162033,\n",
       " 2.718209939201323]"
      ]
     },
     "execution_count": 52,
     "metadata": {},
     "output_type": "execute_result"
    }
   ],
   "source": [
    "f = lambda t, y: y\n",
    "y0 = 1\n",
    "\n",
    "est = runge_kuttama_4a_ordem(f, vt5, y0)\n",
    "\n",
    "plt.plot(vt5, est, label='RK4 est')\n",
    "\n",
    "# Solução analítica: f(x) = e^x\n",
    "f1 = lambda t: np.exp(t)\n",
    "y1 = [f1(x) for x in vt5]\n",
    "\n",
    "plt.plot(vt5, y1, label='f(x)=e^x')\n",
    "plt.legend()\n",
    "plt.show()\n",
    "\n",
    "est"
   ]
  },
  {
   "cell_type": "code",
   "execution_count": 53,
   "metadata": {},
   "outputs": [
    {
     "data": {
      "image/png": "[encoded data removed]",
      "text/plain": [
       "<Figure size 432x288 with 1 Axes>"
      ]
     },
     "metadata": {},
     "output_type": "display_data"
    },
    {
     "data": {
      "text/plain": [
       "[1,\n",
       " 1.1175189249606259,\n",
       " 1.248848547645153,\n",
       " 1.3956118864030505,\n",
       " 1.5596226949554082,\n",
       " 1.742907877410762,\n",
       " 1.9477325374694812,\n",
       " 2.1766279713837267,\n",
       " 2.43242295061997,\n",
       " 2.718278680826383]"
      ]
     },
     "execution_count": 53,
     "metadata": {},
     "output_type": "execute_result"
    }
   ],
   "source": [
    "est = runge_kuttama_4a_ordem(f, vt10, y0)\n",
    "\n",
    "plt.plot(vt10, est, label='euler est')\n",
    "\n",
    "# Solução analítica: f(x) = e^x\n",
    "f1 = lambda t: np.exp(t)\n",
    "y1 = [f1(x) for x in vt10]\n",
    "\n",
    "plt.plot(vt10, y1, label='f(x)=e^x')\n",
    "plt.legend()\n",
    "plt.show()\n",
    "\n",
    "est"
   ]
  },
  {
   "cell_type": "markdown",
   "metadata": {},
   "source": [
    "(b)"
   ]
  },
  {
   "cell_type": "code",
   "execution_count": 59,
   "metadata": {},
   "outputs": [
    {
     "data": {
      "image/png": "[encoded data removed]",
      "text/plain": [
       "<Figure size 432x288 with 1 Axes>"
      ]
     },
     "metadata": {},
     "output_type": "display_data"
    },
    {
     "data": {
      "text/plain": [
       "[1,\n",
       " 1.026559936442642,\n",
       " 1.0915063166287882,\n",
       " 1.1800263209794746,\n",
       " 1.2837312062175765]"
      ]
     },
     "execution_count": 59,
     "metadata": {},
     "output_type": "execute_result"
    }
   ],
   "source": [
    "f = lambda t, y: t/(t+y)\n",
    "y0 = 1\n",
    "\n",
    "est = runge_kuttama_4a_ordem(f, vt5, y0)\n",
    "\n",
    "plt.plot(vt5, est, label='euler est')\n",
    "plt.legend()\n",
    "plt.show()\n",
    "\n",
    "est\n",
    "\n",
    "# Não obtive solução analítica..."
   ]
  },
  {
   "cell_type": "code",
   "execution_count": 60,
   "metadata": {},
   "outputs": [
    {
     "data": {
      "image/png": "[encoded data removed]",
      "text/plain": [
       "<Figure size 432x288 with 1 Axes>"
      ]
     },
     "metadata": {},
     "output_type": "display_data"
    },
    {
     "data": {
      "text/plain": [
       "[1,\n",
       " 1.0057354335578408,\n",
       " 1.0213572441737022,\n",
       " 1.044852286018692,\n",
       " 1.0746442386303179,\n",
       " 1.109512688524608,\n",
       " 1.1485137283417859,\n",
       " 1.1909138516914073,\n",
       " 1.23613859960053,\n",
       " 1.2837338847750748]"
      ]
     },
     "execution_count": 60,
     "metadata": {},
     "output_type": "execute_result"
    }
   ],
   "source": [
    "est = runge_kuttama_4a_ordem(f, vt10, y0)\n",
    "\n",
    "plt.plot(vt10, est, label='euler est')\n",
    "plt.legend()\n",
    "plt.show()\n",
    "\n",
    "est\n",
    "\n",
    "# Não obtive solução analítica..."
   ]
  }
 ],
 "metadata": {
  "kernelspec": {
   "display_name": "Python 3",
   "language": "python",
   "name": "python3"
  },
  "language_info": {
   "codemirror_mode": {
    "name": "ipython",
    "version": 3
   },
   "file_extension": ".py",
   "mimetype": "text/x-python",
   "name": "python",
   "nbconvert_exporter": "python",
   "pygments_lexer": "ipython3",
   "version": "3.5.2"
  }
 },
 "nbformat": 4,
 "nbformat_minor": 2
}
