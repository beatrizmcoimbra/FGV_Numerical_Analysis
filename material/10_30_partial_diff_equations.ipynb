{
 "cells": [
  {
   "cell_type": "markdown",
   "metadata": {},
   "source": [
    "### Métodos numéricos de resolução de EDPs (cap 11.2)\n",
    "---\n",
    "\n",
    "1. [Método explícito das diferenças finitas](#Método-explícito-das-diferenças-finitas)\n",
    "    * [Exercício 1](#Exercício-1:)\n",
    "2. [Método implícito das diferenças finitas](#Método-implícito-das-diferenças-finitas)\n",
    "    * [Exercício 2](#Exercício-2:)\n",
    "3. [Método de Crank Nicolson](#Método-de-Crank-Nicolson)\n",
    "    * [Exercício 3](#Exercício-3:)\n",
    "    * [Exercício 4](#Exercício-4:)\n",
    "4. [Equações hiperbólicas](#Equações-hiperbólicas)\n",
    "    * [Exercício 5](#Exercício-5:)\n",
    "    * [Exercício 6](#Exercício-6:)"
   ]
  },
  {
   "cell_type": "code",
   "execution_count": 6,
   "metadata": {},
   "outputs": [
    {
     "name": "stdout",
     "output_type": "stream",
     "text": [
      "Populating the interactive namespace from numpy and matplotlib\n"
     ]
    },
    {
     "name": "stderr",
     "output_type": "stream",
     "text": [
      "/usr/local/lib/python3.5/dist-packages/IPython/core/magics/pylab.py:160: UserWarning: pylab import has clobbered these variables: ['sci']\n",
      "`%matplotlib` prevents importing * from pylab and numpy\n",
      "  \"\\n`%matplotlib` prevents importing * from pylab and numpy\"\n"
     ]
    }
   ],
   "source": [
    "import numpy as np\n",
    "import matplotlib.pyplot as plt\n",
    "import scipy as sci\n",
    "import math\n",
    "\n",
    "%pylab inline\n",
    "pylab.rcParams['figure.figsize'] = (10, 6)"
   ]
  },
  {
   "cell_type": "markdown",
   "metadata": {},
   "source": [
    "### [Método explícito das diferenças finitas](https://en.wikipedia.org/wiki/Finite_difference_method|)\n",
    "\n",
    "É um método utilizado para resolução de EDPs no qual substituímos as derivadas por diferenças finitas, da seguinte forma:\n",
    "\n",
    "$$ \\begin{eqnarray}\n",
    "f'(x) & \\approx & \\frac{1}{h} [f(x+h)−f(x)] \\\\\n",
    "f''(x) & \\approx & \\frac{1}{h^2} [f(x+h)−2f(x)+f(x−h)] \n",
    "\\end{eqnarray}\n",
    "$$\n",
    "No caso da equação do calor, dada por:\n",
    "\n",
    "$$\\begin{cases} \n",
    "u_t = u_{xx} \\\\\n",
    "u(0, x) = f(x) \\\\\n",
    "u(t, 0) = u(t, 1) = 0 \n",
    "\\end{cases}$$\n",
    "\n",
    "Utilizando este método, temos:\n",
    "\n",
    "$$ \\frac{1}{h^2} [u(t, x+h)−2u(t, x)+u(t, x−h)] = \\frac{1}{k} [u(x, t+k)−u(x, t)]$$\n",
    "\n",
    "Que podemos reescrever como:\n",
    "\n",
    "$$ u(x,t+k)= \\sigma u(x+h,t)+(1−2 \\sigma)u(x,t)+ \\sigma u(x−h,t) \\mbox{, com } \\sigma = \\frac{k}{h^2}$$"
   ]
  },
  {
   "cell_type": "markdown",
   "metadata": {},
   "source": [
    "#### Exercício 1:\n",
    "\n",
    "Implemente o método explícito para encontrar a solução numérica da equação do calor: $u_t = u_{xx}$.\n",
    "Teste sua implementação com $x \\in [0, 1]$ e $t \\in [0,0.5]$ com condições iniciais $u(0, x) = u_{0}(x)$ (pode ser\n",
    "qualquer função não nula) e condições de bordo $u(t, 0) = u(t, 1) = 0$. Teste com alguns passos de\n",
    "discretização $h$ (na variável espacial $x$) e $k$ (na variável temporal $t$) para ver o que acontece quando a\n",
    "condição $\\sigma = \\frac{k}{h^2} < \\frac{1}{2}$ é respeitada e quando é violada."
   ]
  },
  {
   "cell_type": "markdown",
   "metadata": {},
   "source": [
    "**R:** Temos o sistema\n",
    "    \n",
    "$$\\begin{cases} \n",
    "u_t = u_{xx} \\\\\n",
    "u(0, x) = f(x) \\\\\n",
    "u(t, 0) = u(t, 1) = 0 \n",
    "\\end{cases}$$"
   ]
  },
  {
   "cell_type": "code",
   "execution_count": 20,
   "metadata": {},
   "outputs": [
    {
     "ename": "SyntaxError",
     "evalue": "invalid syntax (<ipython-input-20-58bbc6bbb396>, line 18)",
     "output_type": "error",
     "traceback": [
      "\u001b[0;36m  File \u001b[0;32m\"<ipython-input-20-58bbc6bbb396>\"\u001b[0;36m, line \u001b[0;32m18\u001b[0m\n\u001b[0;31m    for i in\u001b[0m\n\u001b[0m             ^\u001b[0m\n\u001b[0;31mSyntaxError\u001b[0m\u001b[0;31m:\u001b[0m invalid syntax\n"
     ]
    }
   ],
   "source": [
    "def finite_diff(x_range, h, t_range, k):\n",
    "    \n",
    "    \"\"\"\n",
    "    \n",
    "    \"\"\"\n",
    "    \n",
    "    x0 = x_range[0]\n",
    "    x1 = x_range[1]\n",
    "    \n",
    "    t0 = t_range[0]\n",
    "    t1 = t_range[1]\n",
    "    \n",
    "    r = k/(h**2)\n",
    "    n = (x1 - x0)/h\n",
    "   \n",
    "\n",
    "    d_ind = np.array([i for i in range(n)])\n",
    "    d_val = np.array([(1-2*r) for i in range(n)])\n",
    "    \n",
    "    ind = np.concatenate((d_ind,           # linha/coluna d\n",
    "                          (d_ind-1)[1:],   # linha/coluna d - 1\n",
    "                          (d_ind+1)[:-1])) # linha/coluna d + 1\n",
    "    data = np.concatenate(d_val,\n",
    "                          np.array([r for i in range(n)]))\n",
    "    \n",
    "    M = sparse.coomatrix(data, (row_ind, col_ind))"
   ]
  },
  {
   "cell_type": "markdown",
   "metadata": {},
   "source": [
    "**(a)** h=0.01 e k=0.01"
   ]
  },
  {
   "cell_type": "code",
   "execution_count": 29,
   "metadata": {},
   "outputs": [],
   "source": [
    "d = np.array([1,2,3, 4])"
   ]
  },
  {
   "cell_type": "code",
   "execution_count": 32,
   "metadata": {
    "scrolled": true
   },
   "outputs": [
    {
     "data": {
      "text/plain": [
       "array([0, 1, 2])"
      ]
     },
     "execution_count": 32,
     "metadata": {},
     "output_type": "execute_result"
    }
   ],
   "source": [
    "(d - 1)[:-1]"
   ]
  },
  {
   "cell_type": "code",
   "execution_count": 3,
   "metadata": {},
   "outputs": [
    {
     "data": {
      "text/plain": [
       "100.0"
      ]
     },
     "execution_count": 3,
     "metadata": {},
     "output_type": "execute_result"
    }
   ],
   "source": [
    "h = 0.01\n",
    "k = 0.01\n",
    "\n",
    "k/(h**2)"
   ]
  },
  {
   "cell_type": "markdown",
   "metadata": {},
   "source": [
    "**(b)** h=0.1 e k=0.001"
   ]
  },
  {
   "cell_type": "code",
   "execution_count": 5,
   "metadata": {},
   "outputs": [
    {
     "data": {
      "text/plain": [
       "10.0"
      ]
     },
     "execution_count": 5,
     "metadata": {},
     "output_type": "execute_result"
    }
   ],
   "source": [
    "h = 0.01\n",
    "k = 0.001\n",
    "\n",
    "k/(h**2)"
   ]
  },
  {
   "cell_type": "code",
   "execution_count": 9,
   "metadata": {},
   "outputs": [],
   "source": [
    "from scipy import sparse"
   ]
  },
  {
   "cell_type": "code",
   "execution_count": 17,
   "metadata": {},
   "outputs": [],
   "source": [
    "M = sparse.coo_matrix"
   ]
  },
  {
   "cell_type": "code",
   "execution_count": null,
   "metadata": {},
   "outputs": [],
   "source": [
    "M."
   ]
  },
  {
   "cell_type": "markdown",
   "metadata": {},
   "source": [
    "### Método implícito das diferenças finitas"
   ]
  },
  {
   "cell_type": "markdown",
   "metadata": {},
   "source": [
    "#### Exercício 2:\n",
    "\n",
    "Refaça os exercício anterior usando agora a implementação do método implícito."
   ]
  },
  {
   "cell_type": "code",
   "execution_count": null,
   "metadata": {},
   "outputs": [],
   "source": []
  },
  {
   "cell_type": "markdown",
   "metadata": {},
   "source": [
    "### [Método de Crank Nicolson](https://en.wikipedia.org/wiki/Crank-Nicolson_method)"
   ]
  },
  {
   "cell_type": "markdown",
   "metadata": {},
   "source": [
    "####  Exercício 3:\n",
    "\n",
    "Implemente o método de Crank-Nicolson para encontrar a solução numérica da equação do calor: $u_t = u_{xx}$\n",
    "*Obs: o livro chama o método implícito discutido na aula anterior de Crank-Nicolson e este método\n",
    "discutido na aula de hoje de “versão alternativa de Crank-Nicolson”.*\n",
    "\n",
    "Teste sua implementação com $x \\in [0, 1]$ e $t \\in [0,0.5]$ com condições iniciais $u(0, x) = u_{0}(x)$ (pode ser\n",
    "qualquer função não nula) e condições de bordo $u(t, 0) = u(t, 1) = 0$. Teste com alguns passos de\n",
    "discretização $h$ (na variável espacial $x$) e $k$ (na variável temporal $t$) para ver o que acontece quando a\n",
    "condição $\\sigma = \\frac{k}{h^2} < \\frac{1}{2}$ é respeitada e quando é violada."
   ]
  },
  {
   "cell_type": "markdown",
   "metadata": {},
   "source": [
    "**(a)** h=0.01 e k=0.01"
   ]
  },
  {
   "cell_type": "code",
   "execution_count": null,
   "metadata": {},
   "outputs": [],
   "source": []
  },
  {
   "cell_type": "markdown",
   "metadata": {},
   "source": [
    "**(b)** h=0.1 e k=0.001"
   ]
  },
  {
   "cell_type": "code",
   "execution_count": null,
   "metadata": {},
   "outputs": [],
   "source": []
  },
  {
   "cell_type": "markdown",
   "metadata": {},
   "source": [
    "#### Exercício 4:\n",
    "\n",
    "Explique por que o método de Crank-Nicolson tem erro local de truncamento de segunda ordem na\n",
    "variável temporal."
   ]
  },
  {
   "cell_type": "code",
   "execution_count": null,
   "metadata": {},
   "outputs": [],
   "source": []
  },
  {
   "cell_type": "markdown",
   "metadata": {},
   "source": [
    "### Equações hiperbólicas\n",
    "Vamos analisar o modelo clássico da onda unidimensional em uma corda esticada, como a corda de um violão ou uma corda de pular. Como no caso da equação do calor, este modelo é um exercício para testar os métodos numéricos para EDPs hiperbólicas, já que há formas fechadas para sua solução.\n",
    "\n",
    "O modelo é $u_{tt} = u_{xx}$, onde  $t \\in [0,5]$ e $x \\in [0,1]$ (a variável $x$ representa a localização da corda). A\n",
    "função $u(x,t)$ representa a altura da corda na localização $x$ no instante $t$. Os valores iniciais são $u(0, x) = u_0(x)$ (pode ser qualquer função), e a condição de bordo é $u(t, 0) = u(1, t) = 0$ (a corda está presa nas extremidades)"
   ]
  },
  {
   "cell_type": "markdown",
   "metadata": {},
   "source": [
    "#### Exercício 5: \n",
    "Proponha uma discretização para resolver numericamente a equação da onda acima por um método explícito no tempo. Pode ser necessário um tratamento especial ao primeiro passo na implementação, quando então usamos a condição inicial $u_t(0, x) = 0$."
   ]
  },
  {
   "cell_type": "markdown",
   "metadata": {},
   "source": [
    "#### Exercício 6:\n",
    "\n",
    "Implemente o método proposto e teste com diferentes passos espaciais (h) e temporais (k)."
   ]
  },
  {
   "cell_type": "markdown",
   "metadata": {},
   "source": [
    "**(a)** $\\frac{k}{h} < 1$"
   ]
  },
  {
   "cell_type": "code",
   "execution_count": null,
   "metadata": {},
   "outputs": [],
   "source": []
  },
  {
   "cell_type": "markdown",
   "metadata": {},
   "source": [
    "**(b)** $\\frac{k}{h} = 1$"
   ]
  },
  {
   "cell_type": "code",
   "execution_count": null,
   "metadata": {},
   "outputs": [],
   "source": []
  },
  {
   "cell_type": "markdown",
   "metadata": {},
   "source": [
    "**(c)** $\\frac{k}{h} > 1$"
   ]
  },
  {
   "cell_type": "code",
   "execution_count": null,
   "metadata": {},
   "outputs": [],
   "source": []
  }
 ],
 "metadata": {
  "kernelspec": {
   "display_name": "Python 3",
   "language": "python",
   "name": "python3"
  },
  "language_info": {
   "codemirror_mode": {
    "name": "ipython",
    "version": 3
   },
   "file_extension": ".py",
   "mimetype": "text/x-python",
   "name": "python",
   "nbconvert_exporter": "python",
   "pygments_lexer": "ipython3",
   "version": "3.5.2"
  }
 },
 "nbformat": 4,
 "nbformat_minor": 2
}
