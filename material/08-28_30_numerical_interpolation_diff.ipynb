{
 "cells": [
  {
   "cell_type": "markdown",
   "metadata": {},
   "source": [
    "### Interpolação e diferenciação numérica (cap 4)\n",
    "\n",
    "---\n",
    "\n",
    "1. [Polinômio interpolador](#Polinômio-interpolador-(4.1)\n",
    "    * [Matriz de Vandermonde](#Matriz-de-Vandermonde)\n",
    "    * [Exercício 1](#Exercício-1:)\n",
    "    * [Polinômio de Lagrange](#Polinômio-de-Lagrange)\n",
    "    * [Diferenças divididas](#Diferenças-divididas)\n",
    "    * [Exercício 2](#Exercício-2:)\n",
    "    * [Exercício 3](#Exercício-3:)\n",
    "    * [Exercício 4](#Exercício-4:)\n",
    "    * [Exercício 5](#Exercício-5:)\n",
    "\n",
    "2. [xxx](#Método-da-bisseção)\n",
    "3. [xxx](#Método-de-Newton)"
   ]
  },
  {
   "cell_type": "code",
   "execution_count": 1,
   "metadata": {},
   "outputs": [
    {
     "name": "stdout",
     "output_type": "stream",
     "text": [
      "Populating the interactive namespace from numpy and matplotlib\n"
     ]
    }
   ],
   "source": [
    "import numpy as np\n",
    "import matplotlib.pyplot as plt\n",
    "import sympy as sp\n",
    "\n",
    "%pylab inline\n",
    "pylab.rcParams['figure.figsize'] = (12, 8)"
   ]
  },
  {
   "cell_type": "markdown",
   "metadata": {},
   "source": [
    "## 28-08\n",
    "\n",
    "### Polinômio interpolador (4.1)"
   ]
  },
  {
   "cell_type": "markdown",
   "metadata": {},
   "source": [
    "Dado um conjunto de $n$ pontos $(x, y)$, o polinômio interpolador é um polinômio de grau $n-1$ que passa por todos os pontos da forma:\n",
    "\n",
    "$f(x_{i}) = a_{0} + a_{1}x_{i} + a_{2}x_{i}^{2} + ... + a_{n}x_{i}^{n} = y_{i}$, para $i \\in [1,n]$\n",
    "\n",
    "Dadas as $n$ equações, temos um sistema linear da forma $Ac = y$, no qual queremos obter o vetor $c$ dos coeficientes da equação.\n",
    "\n",
    "#### Matriz de Vandermonde\n",
    "\n",
    "É a matriz $A$, com o primeiro elemento de cada linha $A_i$ igual a 1 e os demais elementos sendo as $n-1$ potências de $x_i$"
   ]
  },
  {
   "cell_type": "code",
   "execution_count": 2,
   "metadata": {},
   "outputs": [
    {
     "data": {
      "text/plain": [
       "array([[1, 1, 1],\n",
       "       [4, 2, 1],\n",
       "       [9, 3, 1]])"
      ]
     },
     "execution_count": 2,
     "metadata": {},
     "output_type": "execute_result"
    }
   ],
   "source": [
    "np.vander([1,2,3])"
   ]
  },
  {
   "cell_type": "markdown",
   "metadata": {},
   "source": [
    "#### Exercício 1:\n",
    "\n",
    "Determine o polinômio de grau 2 que passa por $P_0 = (0,-1)$, $P_1 = (1,1)$, $P_2(2,5)$."
   ]
  },
  {
   "cell_type": "code",
   "execution_count": 3,
   "metadata": {},
   "outputs": [],
   "source": [
    "grau = 2\n",
    "pontos = [(0,-1), (1,1), (2,5)]\n",
    "x1 = [0,0,0]"
   ]
  },
  {
   "cell_type": "code",
   "execution_count": 4,
   "metadata": {},
   "outputs": [],
   "source": [
    "def Jacobi(A, b, x, threshold=1000):\n",
    "    \n",
    "    \"\"\"\n",
    "    Resolove o sistema linear pelo método de Jacobi.\n",
    "    \n",
    "    :param A: matriz nxn\n",
    "    :param b: vetor nx1\n",
    "    :param x: vetor inicial\n",
    "    :param threshold: número máximo de iterações\n",
    "    \n",
    "    :returns: vetor solução do sistema, número de iterações\n",
    "    \"\"\"\n",
    "    \n",
    "    U = np.triu(A)\n",
    "    np.fill_diagonal(U, 0)\n",
    "    \n",
    "    L = np.tril(A)\n",
    "    np.fill_diagonal(L, 0)\n",
    "    \n",
    "    D = np.diag(np.diag(A))\n",
    "    print(D)\n",
    "    D_inv = np.linalg.inv(D) \n",
    "    \n",
    "    t = 0\n",
    "    while t < threshold:\n",
    "        \n",
    "        x = np.inner(D_inv, b - np.inner((L+U), x))\n",
    "        t += 1\n",
    "    \n",
    "    return x, t"
   ]
  },
  {
   "cell_type": "code",
   "execution_count": 5,
   "metadata": {},
   "outputs": [],
   "source": [
    "def interpol_jacobi(n, pontos, x):\n",
    "    \n",
    "    \"\"\"\n",
    "    Resolove o sistema linear pelo método de Jacobi.\n",
    "    \n",
    "    :param n: grau do polinômio\n",
    "    :param pontos: lista com n+1 pontos (x,y)\n",
    "    :param x: vetor inicial nx1\n",
    "    :param threshold: número máximo de iterações\n",
    "    \n",
    "    :returns: coeficientes do polinômio, número de iterações\n",
    "    \"\"\"\n",
    "    \n",
    "    b = [i[1] for i in pontos]\n",
    "    M = np.vander([i[0] for i in pontos], increasing=True)\n",
    "    \n",
    "    x, t = Jacobi(M, b, x)\n",
    "    \n",
    "    return x, t"
   ]
  },
  {
   "cell_type": "code",
   "execution_count": 6,
   "metadata": {},
   "outputs": [
    {
     "name": "stdout",
     "output_type": "stream",
     "text": [
      "[[1 0 0]\n",
      " [0 1 0]\n",
      " [0 0 4]]\n"
     ]
    },
    {
     "data": {
      "text/plain": [
       "(array([-1.,  1.,  1.]), 1000)"
      ]
     },
     "execution_count": 6,
     "metadata": {},
     "output_type": "execute_result"
    }
   ],
   "source": [
    "interpol_jacobi(grau, pontos, x1)"
   ]
  },
  {
   "cell_type": "markdown",
   "metadata": {},
   "source": [
    "#### [Polinômio de Lagrange](https://pt.wikipedia.org/wiki/Polin%C3%B4mio_de_Lagrange)"
   ]
  },
  {
   "cell_type": "markdown",
   "metadata": {},
   "source": [
    "Esse é outro método utilizado para a solução de polinômios interpoladores. \n",
    "\n",
    "O polinômio de Lagrange é da forma: \n",
    "$L(x) := \\sum_{j=0}^{k} y_j l_j(x)$\n",
    "\n",
    "Sendo $l_{j}(x):=\\prod _{i=0,j\\neq i}^{k}{\\frac {x-x_{i}}{x_{j}-x_{i}}}={\\frac {x-x_{0}}{x_{j}-x_{0}}}\\cdots {\\frac {x-x_{j-1}}{x_{j}-x_{j-1}}}{\\frac {x-x_{j+1}}{x_{j}-x_{j+1}}}\\cdots {\\frac {x-x_{k}}{x_{j}-x_{k}}}$"
   ]
  },
  {
   "cell_type": "markdown",
   "metadata": {},
   "source": [
    "#### Diferenças divididas\n",
    "\n",
    "Outro método é calcularmos a interpolação recursivamente, adicionando um grau a cada ponto avaliado.\n",
    "\n",
    "Tomando como exemplo o Exercício 1, escolhemos um dos pontos $(x, y)$ como inicial e começamos com um polinômio de grau $0$:\n",
    "\n",
    "$p_0(x_0) = c_0$\n",
    "\n",
    "$(x_0, y_0) = (0, -1) \\rightarrow c_0 = -1$\n",
    "\n",
    "Ao avaliarmos o próximo ponto, construimos o polinômio $p_1$ de grau $1$ a partir de $p_0$. \n",
    "\n",
    "Adicionamos um novo termo $c_{1}(x - x_0)$, essa diferença é necessária já que queremos que o novo polinômio interpole $(x_0, y_0)$.\n",
    "\n",
    "$p_1(x) = p_0(x) + c_{1}(x - 0)$\n",
    "\n",
    "$(x_1, y_1) = (1, 1) \\rightarrow p_1(x_1) = -1 + c_{1} = 1 \\rightarrow c_1 = 2$\n",
    "\n",
    "Por último, adicionamos o termo de grau $2$: $c_{2}(x - x_{1})(x - x_{0})$, na mesma lógica de antes.\n",
    "\n",
    "$p_2(x) = p_1(x) + c_{2}(x - x_{1})(x - x_{0})$\n",
    "\n",
    "$(x_2, y_2) = (2, 5) \\rightarrow p_2(x_2) = -1 + c_{1}2 + c_{2}(2 - 1)(2 - 0) = 5 \\rightarrow c_2 = 1$\n",
    "\n",
    "Logo, obtemos o polinômio $P(x) = p_2(x) = -1 + 2x + x(x-1)$\n",
    "\n",
    "\n",
    "#### OBS 1: Em geral, $c_n = \\frac{p_{n}(x_n) - p_{n-1}(x_n)}{\\prod_{i = 0}^{n-1}(x_n - x_{i})} = \\frac{y_n - p_{n-1}(x_n)}{\\prod_{i = 0}^{n-1}(x_n - x_{i})}$.\n",
    "\n",
    "Podemos expressar as diferenças divididas na forma: \n",
    "\n",
    "$c_0 = [y_0] = y_0$\n",
    "\n",
    "$c_1 = [y_0, y_1] = \\frac{y_1 - y_0}{x_1 - x_0}$\n",
    "\n",
    "$c_2 = [y_0, y_1, y_2] = \\frac{[y_1, y_2] - [y_0, y_0]}{x_2 - x_0}$\n",
    "\n",
    "...\n",
    "\n",
    "Generalizando, temos $[y_i, ...,  y_k+1] = \\frac{[y_{i+1}, ..., y_{k+1}] - [y_{i}, ..., y_k]}{x_{k+1} - x_i}$\n",
    "\n",
    "#### OBS 2: A complexidade do método é $O(n^2)$, enquanto a resolução de um sistema linear seria de complexidade $O(n^3)$."
   ]
  },
  {
   "cell_type": "markdown",
   "metadata": {},
   "source": [
    "## 30-08"
   ]
  },
  {
   "cell_type": "code",
   "execution_count": 7,
   "metadata": {},
   "outputs": [],
   "source": [
    "def generate_pol(M, pontos):\n",
    "    \n",
    "    \"\"\"\n",
    "    Gera o polinômio a partir da matriz das diferenças divididas e os pontos dados.\n",
    "    \n",
    "    :param M: matriz das diferenças divididas\n",
    "    :param pontos: lista com n pontos (x, y)\n",
    "    \n",
    "    :return: polinômio interpolador\n",
    "    \"\"\"\n",
    "\n",
    "    x = sp.Symbol('x')\n",
    "\n",
    "    values = [i[0] for i in pontos]\n",
    "\n",
    "    prod = 1\n",
    "    exp = M[0][0] # Define c_0\n",
    "\n",
    "    for i in range(len(M)-1): # Demais termos do polinômio\n",
    "\n",
    "        prod = prod*(x - values[i])\n",
    "        exp = exp + M[0][i+1]*prod\n",
    "        \n",
    "    exp = sp.simplify(exp)\n",
    "\n",
    "    return exp\n",
    "\n",
    "def interpol_dif_div(pontos):\n",
    "    \n",
    "    \"\"\"\n",
    "    Obtém o polinômio interpolador dos pontos através do método das diferenças divididas.\n",
    "    \n",
    "    :param pontos: lista com n pontos (x,y)\n",
    "    \n",
    "    :returns: polinômio interpoladro\n",
    "    \"\"\"\n",
    "    \n",
    "    y = [i[1] for i in pontos]\n",
    "    x = [i[0] for i in pontos]\n",
    "    \n",
    "    M = np.identity(len(x))\n",
    "    \n",
    "    # Calcula a matriz das diferencas divididas \n",
    "    \n",
    "    for j in range(len(x)): # Fixa a coluna\n",
    "        for i in range(len(x), -1, -1): # Sobe nas linhas da matriz\n",
    "            \n",
    "            if i == j:\n",
    "                M[i][j] = y[i] # [y_i] =  y_i\n",
    "                \n",
    "            elif j > i:\n",
    "\n",
    "                M[i][j] = (M[i+1][j] - M[i][j-1])/(x[j]-x[i])\n",
    "        \n",
    "    print('Matriz das diferenças divididas:\\n', M)\n",
    "    exp = generate_pol(M, pontos)\n",
    "    \n",
    "    return exp"
   ]
  },
  {
   "cell_type": "code",
   "execution_count": 8,
   "metadata": {},
   "outputs": [
    {
     "data": {
      "text/plain": [
       "[(0, -1), (1, 1), (2, 5)]"
      ]
     },
     "execution_count": 8,
     "metadata": {},
     "output_type": "execute_result"
    }
   ],
   "source": [
    "pontos"
   ]
  },
  {
   "cell_type": "code",
   "execution_count": 9,
   "metadata": {},
   "outputs": [
    {
     "name": "stdout",
     "output_type": "stream",
     "text": [
      "Matriz das diferenças divididas:\n",
      " [[-1.  2.  1.]\n",
      " [ 0.  1.  4.]\n",
      " [ 0.  0.  5.]]\n"
     ]
    },
    {
     "data": {
      "text/plain": [
       "1.0*x**2 + 1.0*x - 1.0"
      ]
     },
     "execution_count": 9,
     "metadata": {},
     "output_type": "execute_result"
    }
   ],
   "source": [
    "interpol_dif_div(pontos)"
   ]
  },
  {
   "cell_type": "markdown",
   "metadata": {},
   "source": [
    "**Exercício**: Interpole os pontos $P_0 = (1,-2), P_1 = (-2,56), P_2 = (0,-2), P_3 = (3,4)$."
   ]
  },
  {
   "cell_type": "code",
   "execution_count": 10,
   "metadata": {},
   "outputs": [],
   "source": [
    "pontos1 = [(1, -2), (-2, 56), (0, -2), (3, 4)]"
   ]
  },
  {
   "cell_type": "markdown",
   "metadata": {},
   "source": [
    "Por diferenças divididas:"
   ]
  },
  {
   "cell_type": "code",
   "execution_count": 11,
   "metadata": {},
   "outputs": [
    {
     "name": "stdout",
     "output_type": "stream",
     "text": [
      "Matriz das diferenças divididas:\n",
      " [[ -2.         -19.33333333   9.66666667  -1.73333333]\n",
      " [  0.          56.         -29.           6.2       ]\n",
      " [  0.           0.          -2.           2.        ]\n",
      " [  0.           0.           0.           4.        ]]\n"
     ]
    },
    {
     "data": {
      "text/plain": [
       "-1.73333333333333*x**3 + 7.93333333333333*x**2 - 6.2*x - 2.0"
      ]
     },
     "execution_count": 11,
     "metadata": {},
     "output_type": "execute_result"
    }
   ],
   "source": [
    "pol = interpol_dif_div(pontos1)\n",
    "pol"
   ]
  },
  {
   "cell_type": "code",
   "execution_count": 12,
   "metadata": {},
   "outputs": [
    {
     "data": {
      "text/plain": [
       "56.0000000000000"
      ]
     },
     "execution_count": 12,
     "metadata": {},
     "output_type": "execute_result"
    }
   ],
   "source": [
    "# Testando: P_0 = (-2, 56)\n",
    "x = sp.Symbol('x')\n",
    "pol.evalf(subs={x: -2})"
   ]
  },
  {
   "cell_type": "markdown",
   "metadata": {},
   "source": [
    "Por sistema linear:"
   ]
  },
  {
   "cell_type": "code",
   "execution_count": 13,
   "metadata": {},
   "outputs": [
    {
     "name": "stdout",
     "output_type": "stream",
     "text": [
      "[[ 1  0  0  0]\n",
      " [ 0 -2  0  0]\n",
      " [ 0  0  0  0]\n",
      " [ 0  0  0 27]]\n"
     ]
    },
    {
     "ename": "LinAlgError",
     "evalue": "Singular matrix",
     "output_type": "error",
     "traceback": [
      "\u001b[0;31m---------------------------------------------------------------------------\u001b[0m",
      "\u001b[0;31mLinAlgError\u001b[0m                               Traceback (most recent call last)",
      "\u001b[0;32m<ipython-input-13-08b706741c88>\u001b[0m in \u001b[0;36m<module>\u001b[0;34m()\u001b[0m\n\u001b[1;32m      1\u001b[0m \u001b[0mx\u001b[0m \u001b[0;34m=\u001b[0m \u001b[0;34m[\u001b[0m\u001b[0;36m0\u001b[0m\u001b[0;34m,\u001b[0m\u001b[0;36m0\u001b[0m\u001b[0;34m,\u001b[0m\u001b[0;36m0\u001b[0m\u001b[0;34m,\u001b[0m\u001b[0;36m0\u001b[0m\u001b[0;34m]\u001b[0m\u001b[0;34m\u001b[0m\u001b[0m\n\u001b[1;32m      2\u001b[0m \u001b[0mgrau\u001b[0m \u001b[0;34m=\u001b[0m \u001b[0;36m3\u001b[0m\u001b[0;34m\u001b[0m\u001b[0m\n\u001b[0;32m----> 3\u001b[0;31m \u001b[0minterpol_jacobi\u001b[0m\u001b[0;34m(\u001b[0m\u001b[0mgrau\u001b[0m\u001b[0;34m,\u001b[0m \u001b[0mpontos1\u001b[0m\u001b[0;34m,\u001b[0m \u001b[0mx\u001b[0m\u001b[0;34m)\u001b[0m\u001b[0;34m\u001b[0m\u001b[0m\n\u001b[0m",
      "\u001b[0;32m<ipython-input-5-551e3f0e619b>\u001b[0m in \u001b[0;36minterpol_jacobi\u001b[0;34m(n, pontos, x)\u001b[0m\n\u001b[1;32m     15\u001b[0m     \u001b[0mM\u001b[0m \u001b[0;34m=\u001b[0m \u001b[0mnp\u001b[0m\u001b[0;34m.\u001b[0m\u001b[0mvander\u001b[0m\u001b[0;34m(\u001b[0m\u001b[0;34m[\u001b[0m\u001b[0mi\u001b[0m\u001b[0;34m[\u001b[0m\u001b[0;36m0\u001b[0m\u001b[0;34m]\u001b[0m \u001b[0;32mfor\u001b[0m \u001b[0mi\u001b[0m \u001b[0;32min\u001b[0m \u001b[0mpontos\u001b[0m\u001b[0;34m]\u001b[0m\u001b[0;34m,\u001b[0m \u001b[0mincreasing\u001b[0m\u001b[0;34m=\u001b[0m\u001b[0;32mTrue\u001b[0m\u001b[0;34m)\u001b[0m\u001b[0;34m\u001b[0m\u001b[0m\n\u001b[1;32m     16\u001b[0m \u001b[0;34m\u001b[0m\u001b[0m\n\u001b[0;32m---> 17\u001b[0;31m     \u001b[0mx\u001b[0m\u001b[0;34m,\u001b[0m \u001b[0mt\u001b[0m \u001b[0;34m=\u001b[0m \u001b[0mJacobi\u001b[0m\u001b[0;34m(\u001b[0m\u001b[0mM\u001b[0m\u001b[0;34m,\u001b[0m \u001b[0mb\u001b[0m\u001b[0;34m,\u001b[0m \u001b[0mx\u001b[0m\u001b[0;34m)\u001b[0m\u001b[0;34m\u001b[0m\u001b[0m\n\u001b[0m\u001b[1;32m     18\u001b[0m \u001b[0;34m\u001b[0m\u001b[0m\n\u001b[1;32m     19\u001b[0m     \u001b[0;32mreturn\u001b[0m \u001b[0mx\u001b[0m\u001b[0;34m,\u001b[0m \u001b[0mt\u001b[0m\u001b[0;34m\u001b[0m\u001b[0m\n",
      "\u001b[0;32m<ipython-input-4-b57b606aef2f>\u001b[0m in \u001b[0;36mJacobi\u001b[0;34m(A, b, x, threshold)\u001b[0m\n\u001b[1;32m     20\u001b[0m     \u001b[0mD\u001b[0m \u001b[0;34m=\u001b[0m \u001b[0mnp\u001b[0m\u001b[0;34m.\u001b[0m\u001b[0mdiag\u001b[0m\u001b[0;34m(\u001b[0m\u001b[0mnp\u001b[0m\u001b[0;34m.\u001b[0m\u001b[0mdiag\u001b[0m\u001b[0;34m(\u001b[0m\u001b[0mA\u001b[0m\u001b[0;34m)\u001b[0m\u001b[0;34m)\u001b[0m\u001b[0;34m\u001b[0m\u001b[0m\n\u001b[1;32m     21\u001b[0m     \u001b[0mprint\u001b[0m\u001b[0;34m(\u001b[0m\u001b[0mD\u001b[0m\u001b[0;34m)\u001b[0m\u001b[0;34m\u001b[0m\u001b[0m\n\u001b[0;32m---> 22\u001b[0;31m     \u001b[0mD_inv\u001b[0m \u001b[0;34m=\u001b[0m \u001b[0mnp\u001b[0m\u001b[0;34m.\u001b[0m\u001b[0mlinalg\u001b[0m\u001b[0;34m.\u001b[0m\u001b[0minv\u001b[0m\u001b[0;34m(\u001b[0m\u001b[0mD\u001b[0m\u001b[0;34m)\u001b[0m\u001b[0;34m\u001b[0m\u001b[0m\n\u001b[0m\u001b[1;32m     23\u001b[0m \u001b[0;34m\u001b[0m\u001b[0m\n\u001b[1;32m     24\u001b[0m     \u001b[0mt\u001b[0m \u001b[0;34m=\u001b[0m \u001b[0;36m0\u001b[0m\u001b[0;34m\u001b[0m\u001b[0m\n",
      "\u001b[0;32m/usr/local/lib/python3.5/dist-packages/numpy/linalg/linalg.py\u001b[0m in \u001b[0;36minv\u001b[0;34m(a)\u001b[0m\n\u001b[1;32m    526\u001b[0m     \u001b[0msignature\u001b[0m \u001b[0;34m=\u001b[0m \u001b[0;34m'D->D'\u001b[0m \u001b[0;32mif\u001b[0m \u001b[0misComplexType\u001b[0m\u001b[0;34m(\u001b[0m\u001b[0mt\u001b[0m\u001b[0;34m)\u001b[0m \u001b[0;32melse\u001b[0m \u001b[0;34m'd->d'\u001b[0m\u001b[0;34m\u001b[0m\u001b[0m\n\u001b[1;32m    527\u001b[0m     \u001b[0mextobj\u001b[0m \u001b[0;34m=\u001b[0m \u001b[0mget_linalg_error_extobj\u001b[0m\u001b[0;34m(\u001b[0m\u001b[0m_raise_linalgerror_singular\u001b[0m\u001b[0;34m)\u001b[0m\u001b[0;34m\u001b[0m\u001b[0m\n\u001b[0;32m--> 528\u001b[0;31m     \u001b[0mainv\u001b[0m \u001b[0;34m=\u001b[0m \u001b[0m_umath_linalg\u001b[0m\u001b[0;34m.\u001b[0m\u001b[0minv\u001b[0m\u001b[0;34m(\u001b[0m\u001b[0ma\u001b[0m\u001b[0;34m,\u001b[0m \u001b[0msignature\u001b[0m\u001b[0;34m=\u001b[0m\u001b[0msignature\u001b[0m\u001b[0;34m,\u001b[0m \u001b[0mextobj\u001b[0m\u001b[0;34m=\u001b[0m\u001b[0mextobj\u001b[0m\u001b[0;34m)\u001b[0m\u001b[0;34m\u001b[0m\u001b[0m\n\u001b[0m\u001b[1;32m    529\u001b[0m     \u001b[0;32mreturn\u001b[0m \u001b[0mwrap\u001b[0m\u001b[0;34m(\u001b[0m\u001b[0mainv\u001b[0m\u001b[0;34m.\u001b[0m\u001b[0mastype\u001b[0m\u001b[0;34m(\u001b[0m\u001b[0mresult_t\u001b[0m\u001b[0;34m,\u001b[0m \u001b[0mcopy\u001b[0m\u001b[0;34m=\u001b[0m\u001b[0;32mFalse\u001b[0m\u001b[0;34m)\u001b[0m\u001b[0;34m)\u001b[0m\u001b[0;34m\u001b[0m\u001b[0m\n\u001b[1;32m    530\u001b[0m \u001b[0;34m\u001b[0m\u001b[0m\n",
      "\u001b[0;32m/usr/local/lib/python3.5/dist-packages/numpy/linalg/linalg.py\u001b[0m in \u001b[0;36m_raise_linalgerror_singular\u001b[0;34m(err, flag)\u001b[0m\n\u001b[1;32m     87\u001b[0m \u001b[0;34m\u001b[0m\u001b[0m\n\u001b[1;32m     88\u001b[0m \u001b[0;32mdef\u001b[0m \u001b[0m_raise_linalgerror_singular\u001b[0m\u001b[0;34m(\u001b[0m\u001b[0merr\u001b[0m\u001b[0;34m,\u001b[0m \u001b[0mflag\u001b[0m\u001b[0;34m)\u001b[0m\u001b[0;34m:\u001b[0m\u001b[0;34m\u001b[0m\u001b[0m\n\u001b[0;32m---> 89\u001b[0;31m     \u001b[0;32mraise\u001b[0m \u001b[0mLinAlgError\u001b[0m\u001b[0;34m(\u001b[0m\u001b[0;34m\"Singular matrix\"\u001b[0m\u001b[0;34m)\u001b[0m\u001b[0;34m\u001b[0m\u001b[0m\n\u001b[0m\u001b[1;32m     90\u001b[0m \u001b[0;34m\u001b[0m\u001b[0m\n\u001b[1;32m     91\u001b[0m \u001b[0;32mdef\u001b[0m \u001b[0m_raise_linalgerror_nonposdef\u001b[0m\u001b[0;34m(\u001b[0m\u001b[0merr\u001b[0m\u001b[0;34m,\u001b[0m \u001b[0mflag\u001b[0m\u001b[0;34m)\u001b[0m\u001b[0;34m:\u001b[0m\u001b[0;34m\u001b[0m\u001b[0m\n",
      "\u001b[0;31mLinAlgError\u001b[0m: Singular matrix"
     ]
    }
   ],
   "source": [
    "x = [0,0,0,0]\n",
    "grau = 3\n",
    "interpol_jacobi(grau, pontos1, x)"
   ]
  },
  {
   "cell_type": "markdown",
   "metadata": {},
   "source": [
    "#### Exercício 2:\n",
    "Implemente o método de diferenças divididas para encontrar um polinômio interpolador.\n",
    "Aplique-o para encontrar um polinômio que interpola uma amostra da função 𝑓(𝑥) = 𝑐𝑜𝑠(𝜋𝑥),\n",
    "onde os pontos da amostra são 10 pontos uniformemente distribuídos entre −1 e 1"
   ]
  },
  {
   "cell_type": "code",
   "execution_count": 14,
   "metadata": {},
   "outputs": [
    {
     "data": {
      "text/plain": [
       "[(-1.0, -1.0),\n",
       " (-0.7777777777777778, -0.7660444431189779),\n",
       " (-0.5555555555555556, -0.1736481776669303),\n",
       " (-0.33333333333333337, 0.4999999999999999),\n",
       " (-0.11111111111111116, 0.9396926207859083),\n",
       " (0.11111111111111116, 0.9396926207859083),\n",
       " (0.33333333333333326, 0.5000000000000003),\n",
       " (0.5555555555555554, -0.17364817766692964),\n",
       " (0.7777777777777777, -0.7660444431189779),\n",
       " (1.0, -1.0)]"
      ]
     },
     "execution_count": 14,
     "metadata": {},
     "output_type": "execute_result"
    }
   ],
   "source": [
    "x2 = [(i, np.cos(np.pi*i)) for i in np.linspace(-1, 1, 10)]\n",
    "x2"
   ]
  },
  {
   "cell_type": "code",
   "execution_count": 15,
   "metadata": {},
   "outputs": [
    {
     "name": "stdout",
     "output_type": "stream",
     "text": [
      "Matriz das diferenças divididas:\n",
      " [[-1.00000000e+00  1.05280001e+00  3.62921217e+00 -4.20980484e+00\n",
      "  -6.49584666e-01  2.26799025e+00 -5.90748561e-01 -3.33961435e-01\n",
      "   1.87853307e-01 -1.69864123e-14]\n",
      " [ 0.00000000e+00 -7.66044443e-01  2.66578319e+00  8.22675611e-01\n",
      "  -4.78721344e+00  1.87040450e+00  1.48032550e+00 -1.11024413e+00\n",
      "   1.71291552e-14  1.87853307e-01]\n",
      " [ 0.00000000e+00  0.00000000e+00 -1.73648178e-01  3.03141680e+00\n",
      "  -2.36880001e+00 -3.12463166e+00  3.51521062e+00 -8.79296636e-15\n",
      "  -1.11024413e+00  3.33961435e-01]\n",
      " [ 0.00000000e+00  0.00000000e+00  0.00000000e+00  5.00000000e-01\n",
      "   1.97861679e+00 -4.45188779e+00  1.33226763e-15  3.51521062e+00\n",
      "  -1.48032550e+00 -5.90748561e-01]\n",
      " [ 0.00000000e+00  0.00000000e+00  0.00000000e+00  0.00000000e+00\n",
      "   9.39692621e-01  0.00000000e+00 -4.45188779e+00  3.12463166e+00\n",
      "   1.87040450e+00 -2.26799025e+00]\n",
      " [ 0.00000000e+00  0.00000000e+00  0.00000000e+00  0.00000000e+00\n",
      "   0.00000000e+00  9.39692621e-01 -1.97861679e+00 -2.36880001e+00\n",
      "   4.78721344e+00 -6.49584666e-01]\n",
      " [ 0.00000000e+00  0.00000000e+00  0.00000000e+00  0.00000000e+00\n",
      "   0.00000000e+00  0.00000000e+00  5.00000000e-01 -3.03141680e+00\n",
      "   8.22675611e-01  4.20980484e+00]\n",
      " [ 0.00000000e+00  0.00000000e+00  0.00000000e+00  0.00000000e+00\n",
      "   0.00000000e+00  0.00000000e+00  0.00000000e+00 -1.73648178e-01\n",
      "  -2.66578319e+00  3.62921217e+00]\n",
      " [ 0.00000000e+00  0.00000000e+00  0.00000000e+00  0.00000000e+00\n",
      "   0.00000000e+00  0.00000000e+00  0.00000000e+00  0.00000000e+00\n",
      "  -7.66044443e-01 -1.05280001e+00]\n",
      " [ 0.00000000e+00  0.00000000e+00  0.00000000e+00  0.00000000e+00\n",
      "   0.00000000e+00  0.00000000e+00  0.00000000e+00  0.00000000e+00\n",
      "   0.00000000e+00 -1.00000000e+00]]\n"
     ]
    },
    {
     "data": {
      "text/plain": [
       "-1.69864122767649e-14*x**9 + 0.187853307357802*x**8 + 3.48795066903076e-14*x**7 - 1.30505496429025*x**6 - 2.23468934258063e-14*x**5 + 4.05146492545646*x**4 + 4.3541249606119e-15*x**3 - 4.93425759382636*x**2 - 2.14800794050421e-15*x + 0.999994325302346"
      ]
     },
     "execution_count": 15,
     "metadata": {},
     "output_type": "execute_result"
    }
   ],
   "source": [
    "f2 = interpol_dif_div(x2)\n",
    "f2"
   ]
  },
  {
   "cell_type": "code",
   "execution_count": 16,
   "metadata": {},
   "outputs": [
    {
     "data": {
      "text/plain": [
       "[-1.69864122767649e-14,\n",
       " 0.187853307357802,\n",
       " 3.48795066903076e-14,\n",
       " -1.30505496429025,\n",
       " -2.23468934258063e-14,\n",
       " 4.05146492545646,\n",
       " 4.35412496061190e-15,\n",
       " -4.93425759382636,\n",
       " -2.14800794050421e-15,\n",
       " 0.999994325302346]"
      ]
     },
     "execution_count": 16,
     "metadata": {},
     "output_type": "execute_result"
    }
   ],
   "source": [
    "# Coeficientes do polinômio interpolador\n",
    "coeffs2 = sp.Poly(f2).coeffs()\n",
    "coeffs2"
   ]
  },
  {
   "cell_type": "code",
   "execution_count": 45,
   "metadata": {},
   "outputs": [
    {
     "data": {
      "image/png": "[encoded data removed]",
      "text/plain": [
       "<Figure size 432x288 with 1 Axes>"
      ]
     },
     "metadata": {},
     "output_type": "display_data"
    }
   ],
   "source": [
    "t2 = np.linspace(-1, 1, 100)\n",
    "\n",
    "a2 = np.cos(np.pi*t2)\n",
    "b2 = list(map(lambda x: np.inner(coeffs2, [x**i for i in reversed(range(len(coeffs2)))]), t2))\n",
    "\n",
    "plt.plot(t2, a2, 'r', label='cos(pi*x)')\n",
    "plt.plot(t2, b2, 'b', label='interpol')\n",
    "plt.scatter(*zip(*x2)) # pontos\n",
    "\n",
    "plt.legend()\n",
    "plt.show()"
   ]
  },
  {
   "cell_type": "markdown",
   "metadata": {},
   "source": [
    "#### Exercício 3:\n",
    "\n",
    "Encontre um polinômio que interpola uma amostra da função $r(x)=11+25x^2$, onde os pontos da amostra são 10 pontos uniformemente distribuídos entre −1 e 1."
   ]
  },
  {
   "cell_type": "code",
   "execution_count": 18,
   "metadata": {},
   "outputs": [
    {
     "data": {
      "text/plain": [
       "[(-1.0, 36.0),\n",
       " (-0.7777777777777778, 26.123456790123456),\n",
       " (-0.5555555555555556, 18.71604938271605),\n",
       " (-0.33333333333333337, 13.777777777777779),\n",
       " (-0.11111111111111116, 11.308641975308642),\n",
       " (0.11111111111111116, 11.308641975308642),\n",
       " (0.33333333333333326, 13.777777777777777),\n",
       " (0.5555555555555554, 18.716049382716044),\n",
       " (0.7777777777777777, 26.123456790123452),\n",
       " (1.0, 36.0)]"
      ]
     },
     "execution_count": 18,
     "metadata": {},
     "output_type": "execute_result"
    }
   ],
   "source": [
    "x3 = [(i, 11+25*(i**2)) for i in np.linspace(-1, 1, 10)]\n",
    "x3"
   ]
  },
  {
   "cell_type": "code",
   "execution_count": 19,
   "metadata": {},
   "outputs": [
    {
     "name": "stdout",
     "output_type": "stream",
     "text": [
      "Matriz das diferenças divididas:\n",
      " [[ 3.60000000e+01 -4.44444444e+01  2.50000000e+01 -1.06581410e-13\n",
      "   1.79856130e-13 -2.21223040e-13  2.14478435e-13 -1.74299860e-13\n",
      "   1.22920424e-13 -7.24352498e-14]\n",
      " [ 0.00000000e+00  2.61234568e+01 -3.33333333e+01  2.50000000e+01\n",
      "   5.32907052e-14 -6.59472477e-14  6.47482068e-14 -5.66546809e-14\n",
      "   4.42253377e-14 -2.19500757e-14]\n",
      " [ 0.00000000e+00  0.00000000e+00  1.87160494e+01 -2.22222222e+01\n",
      "   2.50000000e+01 -5.32907052e-15  5.99520433e-15 -1.07913678e-14\n",
      "   1.21402888e-14  5.20298090e-15]\n",
      " [ 0.00000000e+00  0.00000000e+00  0.00000000e+00  1.37777778e+01\n",
      "  -1.11111111e+01  2.50000000e+01  0.00000000e+00 -5.99520433e-15\n",
      "   5.39568390e-15  2.02338146e-14]\n",
      " [ 0.00000000e+00  0.00000000e+00  0.00000000e+00  0.00000000e+00\n",
      "   1.13086420e+01  0.00000000e+00  2.50000000e+01 -5.32907052e-15\n",
      "   0.00000000e+00  3.23741034e-14]\n",
      " [ 0.00000000e+00  0.00000000e+00  0.00000000e+00  0.00000000e+00\n",
      "   0.00000000e+00  1.13086420e+01  1.11111111e+01  2.50000000e+01\n",
      "  -5.32907052e-15  3.59712260e-14]\n",
      " [ 0.00000000e+00  0.00000000e+00  0.00000000e+00  0.00000000e+00\n",
      "   0.00000000e+00  0.00000000e+00  1.37777778e+01  2.22222222e+01\n",
      "   2.50000000e+01  2.66453526e-14]\n",
      " [ 0.00000000e+00  0.00000000e+00  0.00000000e+00  0.00000000e+00\n",
      "   0.00000000e+00  0.00000000e+00  0.00000000e+00  1.87160494e+01\n",
      "   3.33333333e+01  2.50000000e+01]\n",
      " [ 0.00000000e+00  0.00000000e+00  0.00000000e+00  0.00000000e+00\n",
      "   0.00000000e+00  0.00000000e+00  0.00000000e+00  0.00000000e+00\n",
      "   2.61234568e+01  4.44444444e+01]\n",
      " [ 0.00000000e+00  0.00000000e+00  0.00000000e+00  0.00000000e+00\n",
      "   0.00000000e+00  0.00000000e+00  0.00000000e+00  0.00000000e+00\n",
      "   0.00000000e+00  3.60000000e+01]]\n"
     ]
    },
    {
     "data": {
      "text/plain": [
       "-7.24352497625895e-14*x**9 + 5.04851740769556e-14*x**8 + 1.19343374468554e-13*x**7 - 7.46121914252379e-14*x**6 - 5.1694586111761e-14*x**5 + 2.4806719178816e-14*x**4 + 4.83854028272227e-15*x**3 + 25.0*x**2 - 8.41570805547544e-16*x + 11.0"
      ]
     },
     "execution_count": 19,
     "metadata": {},
     "output_type": "execute_result"
    }
   ],
   "source": [
    "f3 = interpol_dif_div(x3)\n",
    "f3"
   ]
  },
  {
   "cell_type": "code",
   "execution_count": 20,
   "metadata": {},
   "outputs": [],
   "source": [
    "# Coeficientes do polinômio interpolador\n",
    "coeffs3 = sp.Poly(f3).coeffs()"
   ]
  },
  {
   "cell_type": "code",
   "execution_count": 47,
   "metadata": {},
   "outputs": [
    {
     "data": {
      "image/png": "[encoded data removed]",
      "text/plain": [
       "<Figure size 432x288 with 1 Axes>"
      ]
     },
     "metadata": {},
     "output_type": "display_data"
    }
   ],
   "source": [
    "t3 = np.linspace(-1, 1, 100)\n",
    "\n",
    "a3 = list(map(lambda x: 11+25*(x**2), t3))\n",
    "b3 = list(map(lambda x: np.inner(coeffs3, [x**i for i in reversed(range(len(coeffs3)))]), t3))\n",
    "\n",
    "plt.plot(t3, a3, 'r', label='11+25x^2')\n",
    "plt.plot(t3, b3, 'b', label='interpol')\n",
    "plt.scatter(*zip(*x3)) # pontos\n",
    "\n",
    "plt.legend()\n",
    "plt.show()"
   ]
  },
  {
   "cell_type": "markdown",
   "metadata": {},
   "source": [
    "#### Exercício 4: \n",
    "Encontre um polinômio que interpola uma amostra da função $n(x) = \\frac{1}{\\sqrt{2\\pi}} \\exp^{\\frac{-x^2}{2}}$ onde os pontos\n",
    "da amostra são 10 pontos uniformemente distribuídos entre −4 e 4. Use este polinômio para\n",
    "estimar $Pr(|Z| ≤ 1)$, onde $Z$ é uma variável aleatória normal padrão (média zero e desvio padrão\n",
    "1)"
   ]
  },
  {
   "cell_type": "code",
   "execution_count": 51,
   "metadata": {},
   "outputs": [
    {
     "data": {
      "text/plain": [
       "[(-4.0, 0.00013383022576488542),\n",
       " (-3.111111111111111, 0.0031560163164180447),\n",
       " (-2.2222222222222223, 0.03377365103527064),\n",
       " (-1.3333333333333335, 0.16401007467599363),\n",
       " (-0.44444444444444464, 0.3614238298827435),\n",
       " (0.44444444444444464, 0.3614238298827435),\n",
       " (1.333333333333333, 0.1640100746759937),\n",
       " (2.2222222222222214, 0.03377365103527072),\n",
       " (3.1111111111111107, 0.0031560163164180504),\n",
       " (4.0, 0.00013383022576488542)]"
      ]
     },
     "execution_count": 51,
     "metadata": {},
     "output_type": "execute_result"
    }
   ],
   "source": [
    "x4 = [(i, np.e**(-i**2/2)/np.sqrt(2*np.pi)) for i in np.linspace(-4, 4, 10)]\n",
    "x4"
   ]
  },
  {
   "cell_type": "code",
   "execution_count": 52,
   "metadata": {},
   "outputs": [
    {
     "name": "stdout",
     "output_type": "stream",
     "text": [
      "Matriz das diferenças divididas:\n",
      " [[ 1.33830226e-04  3.39995935e-03  1.74627448e-02  1.70914763e-02\n",
      "  -6.97218361e-03 -1.91743511e-03  1.75817986e-03 -5.07349389e-04\n",
      "   7.13460079e-05  2.20228566e-20]\n",
      " [ 0.00000000e+00  3.15601632e-03  3.44448391e-02  6.30400149e-02\n",
      "  -7.69850990e-03 -1.54941174e-02  7.45952417e-03 -1.39866078e-03\n",
      "  -3.83342911e-19  7.13460079e-05]\n",
      " [ 0.00000000e+00  0.00000000e+00  3.37736510e-02  1.46515977e-01\n",
      "   4.25106551e-02 -6.27887052e-02  1.76593233e-02  3.90312782e-18\n",
      "  -1.39866078e-03  5.07349389e-04]\n",
      " [ 0.00000000e+00  0.00000000e+00  0.00000000e+00  1.64010075e-01\n",
      "   2.22090475e-01 -1.24925892e-01 -1.04083409e-17  1.76593233e-02\n",
      "  -7.45952417e-03  1.75817986e-03]\n",
      " [ 0.00000000e+00  0.00000000e+00  0.00000000e+00  0.00000000e+00\n",
      "   3.61423830e-01  0.00000000e+00 -1.24925892e-01  6.27887052e-02\n",
      "  -1.54941174e-02  1.91743511e-03]\n",
      " [ 0.00000000e+00  0.00000000e+00  0.00000000e+00  0.00000000e+00\n",
      "   0.00000000e+00  3.61423830e-01 -2.22090475e-01  4.25106551e-02\n",
      "   7.69850990e-03 -6.97218361e-03]\n",
      " [ 0.00000000e+00  0.00000000e+00  0.00000000e+00  0.00000000e+00\n",
      "   0.00000000e+00  0.00000000e+00  1.64010075e-01 -1.46515977e-01\n",
      "   6.30400149e-02 -1.70914763e-02]\n",
      " [ 0.00000000e+00  0.00000000e+00  0.00000000e+00  0.00000000e+00\n",
      "   0.00000000e+00  0.00000000e+00  0.00000000e+00  3.37736510e-02\n",
      "  -3.44448391e-02  1.74627448e-02]\n",
      " [ 0.00000000e+00  0.00000000e+00  0.00000000e+00  0.00000000e+00\n",
      "   0.00000000e+00  0.00000000e+00  0.00000000e+00  0.00000000e+00\n",
      "   3.15601632e-03 -3.39995935e-03]\n",
      " [ 0.00000000e+00  0.00000000e+00  0.00000000e+00  0.00000000e+00\n",
      "   0.00000000e+00  0.00000000e+00  0.00000000e+00  0.00000000e+00\n",
      "   0.00000000e+00  1.33830226e-04]]\n"
     ]
    },
    {
     "data": {
      "text/plain": [
       "2.20228566286118e-20*x**9 + 7.13460078896708e-5*x**8 - 6.90676939509284e-19*x**7 - 0.00258247602341836*x**6 + 1.26257251618019e-18*x**5 + 0.0328243180006407*x**4 - 4.98972288824601e-17*x**3 - 0.1810454180312*x**2 + 1.01634134096829e-16*x + 0.395924929425097"
      ]
     },
     "execution_count": 52,
     "metadata": {},
     "output_type": "execute_result"
    }
   ],
   "source": [
    "f4 = interpol_dif_div(x4)\n",
    "f4"
   ]
  },
  {
   "cell_type": "code",
   "execution_count": 53,
   "metadata": {},
   "outputs": [],
   "source": [
    "# Coeficientes do polinômio interpolador\n",
    "coeffs4 = sp.Poly(f4).coeffs()"
   ]
  },
  {
   "cell_type": "code",
   "execution_count": 55,
   "metadata": {},
   "outputs": [
    {
     "data": {
      "image/png": "[encoded data removed]",
      "text/plain": [
       "<Figure size 432x288 with 1 Axes>"
      ]
     },
     "metadata": {},
     "output_type": "display_data"
    }
   ],
   "source": [
    "t4 = np.linspace(-4, 4, 100)\n",
    "\n",
    "a4 = list(map(lambda i: np.e**(-i**2/2)/np.sqrt(2*np.pi), t4))\n",
    "b4 = list(map(lambda x: np.inner(coeffs4, [x**i for i in reversed(range(len(coeffs4)))]), t4))\n",
    "\n",
    "plt.plot(t4, a4, 'r', label='exp(x^2/2)*(2*pi)^-1')\n",
    "plt.plot(t4, b4, 'b', label='interpol')\n",
    "plt.scatter(*zip(*x4)) # pontos\n",
    "\n",
    "plt.legend()\n",
    "plt.show()"
   ]
  },
  {
   "cell_type": "markdown",
   "metadata": {},
   "source": [
    "Sabemos que $Pr(|Z| \\leq 1) = \\int_{-1}^{1}{n(x) dx} = 2\\int_{0}^{1}{n(x) dx}$, pois $n(x)$ é uma função par. Logo, usando o polinômio interpolador, podemos estimar:"
   ]
  },
  {
   "cell_type": "code",
   "execution_count": 58,
   "metadata": {},
   "outputs": [
    {
     "data": {
      "text/plain": [
       "2.20228566286118e-20*x**9 + 7.13460078896708e-5*x**8 - 6.90676939509284e-19*x**7 - 0.00258247602341836*x**6 + 1.26257251618019e-18*x**5 + 0.0328243180006407*x**4 - 4.98972288824601e-17*x**3 - 0.1810454180312*x**2 + 1.01634134096829e-16*x + 0.395924929425097"
      ]
     },
     "execution_count": 58,
     "metadata": {},
     "output_type": "execute_result"
    }
   ],
   "source": [
    "f4"
   ]
  },
  {
   "cell_type": "markdown",
   "metadata": {},
   "source": [
    "[Usar integrate.quad](https://docs.scipy.org/doc/scipy/reference/tutorial/integrate.html)"
   ]
  },
  {
   "cell_type": "code",
   "execution_count": 65,
   "metadata": {},
   "outputs": [
    {
     "data": {
      "text/plain": [
       "(0.3417803225361656,\n",
       " 3.794523834434633e-15,\n",
       " 0.3417803225361656,\n",
       " 3.794523834434633e-15)"
      ]
     },
     "execution_count": 65,
     "metadata": {},
     "output_type": "execute_result"
    }
   ],
   "source": [
    "from scipy import integrate\n",
    "\n",
    "P = 2*integrate.quad(lambda x: np.inner(coeffs4, [x**i for i in reversed(range(len(coeffs4)))]), 0, 1)\n",
    "P"
   ]
  },
  {
   "cell_type": "markdown",
   "metadata": {},
   "source": [
    "#### Exercício 5:\n",
    "Seja 𝑓 uma função analítica. Mostre que o polinômio interpolador que passa por (0, 𝑓(0)),\n",
    "(𝑑𝑥, 𝑓(𝑑𝑥)) e (2𝑑𝑥, 𝑓(2𝑑𝑥)) converge para o polinômio de Taylor de 𝑓 em torno do 𝑎 = 0\n",
    "quando 𝑑𝑥 → 0."
   ]
  },
  {
   "cell_type": "code",
   "execution_count": null,
   "metadata": {},
   "outputs": [],
   "source": []
  }
 ],
 "metadata": {
  "kernelspec": {
   "display_name": "Python 3",
   "language": "python",
   "name": "python3"
  },
  "language_info": {
   "codemirror_mode": {
    "name": "ipython",
    "version": 3
   },
   "file_extension": ".py",
   "mimetype": "text/x-python",
   "name": "python",
   "nbconvert_exporter": "python",
   "pygments_lexer": "ipython3",
   "version": "3.5.2"
  }
 },
 "nbformat": 4,
 "nbformat_minor": 2
}
