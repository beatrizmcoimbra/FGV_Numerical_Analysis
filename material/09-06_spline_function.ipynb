{
 "cells": [
  {
   "cell_type": "markdown",
   "metadata": {},
   "source": [
    "### Função Spline  (cap. 6)\n",
    "\n",
    "---\n",
    "\n",
    "> Um spline é uma curva definida matematicamente por dois ou mais pontos de controle. Os pontos de controle que ficam na curva são chamados de nós. Os demais pontos definem a tangente à curva em seus respectivos nós. \\[...\\]\n",
    "> \n",
    "> Os splines podem ser divididos em duas categorias: **splines de interpolação**, que passam por todos os pontos de controle, e **splines de aproximação**, que passam perto de todos os pontos de controle. [(*Wikipedia*)](https://pt.wikipedia.org/wiki/Spline)\n",
    "\n",
    "1. [Exercício 1](#Exercício-1:)\n",
    "2. [Exercício 2](#Exercício-2:)\n",
    "3. [Exercício 3](#Exercício-3:)\n",
    "4. [Exercício 4](#Exercício-4:)\n",
    "5. [Exercício 5](#Exercício-5:)"
   ]
  },
  {
   "cell_type": "code",
   "execution_count": 1,
   "metadata": {},
   "outputs": [
    {
     "name": "stdout",
     "output_type": "stream",
     "text": [
      "Populating the interactive namespace from numpy and matplotlib\n"
     ]
    }
   ],
   "source": [
    "import numpy as np\n",
    "import matplotlib.pyplot as plt\n",
    "\n",
    "%pylab inline\n",
    "pylab.rcParams['figure.figsize'] = (10, 10)"
   ]
  },
  {
   "cell_type": "markdown",
   "metadata": {},
   "source": [
    "#### Exercício 1:\n",
    "\n",
    "Faça uma amostra uniforme da função 𝑓(𝑥) = 𝑠𝑒𝑛𝑜(𝑥) com 5 observações com 𝑥 no intervalo\n",
    "[0, 2𝜋]."
   ]
  },
  {
   "cell_type": "code",
   "execution_count": 2,
   "metadata": {},
   "outputs": [
    {
     "data": {
      "text/plain": [
       "[(0.0, 0.0),\n",
       " (1.5707963267948966, 1.0),\n",
       " (3.141592653589793, 1.2246467991473532e-16),\n",
       " (4.71238898038469, -1.0),\n",
       " (6.283185307179586, -2.4492935982947064e-16)]"
      ]
     },
     "execution_count": 2,
     "metadata": {},
     "output_type": "execute_result"
    }
   ],
   "source": [
    "x = np.linspace(0, 2*np.pi, 5)\n",
    "y = np.sin(x)\n",
    "\n",
    "pontos = list(zip(x,y))\n",
    "pontos"
   ]
  },
  {
   "cell_type": "markdown",
   "metadata": {},
   "source": [
    "#### Exercício 2:\n",
    "\n",
    "Use um software de computação científica para obter a $spline$ cúbica que interpola os pontos\n",
    "da amostra. \n",
    "\n",
    "Faça um gráfico que exiba os pontos da amostra, a função seno e a spline no\n",
    "intervalo 𝑥 ∈ [0, 2𝜋]."
   ]
  },
  {
   "cell_type": "markdown",
   "metadata": {},
   "source": [
    "**R:** Utilizando o método [`scipy.interpolate.UnivariateSpline`](https://docs.scipy.org/doc/scipy-0.19.1/reference/generated/scipy.interpolate.UnivariateSpline.html) para a interpolação de spline cúbica:"
   ]
  },
  {
   "cell_type": "code",
   "execution_count": 3,
   "metadata": {},
   "outputs": [],
   "source": [
    "from scipy.interpolate import UnivariateSpline\n",
    "\n",
    "f = UnivariateSpline(x, y, k=3)"
   ]
  },
  {
   "cell_type": "code",
   "execution_count": 4,
   "metadata": {},
   "outputs": [
    {
     "data": {
      "text/plain": [
       "<matplotlib.legend.Legend at 0x7f3696e6b208>"
      ]
     },
     "execution_count": 4,
     "metadata": {},
     "output_type": "execute_result"
    },
    {
     "data": {
      "image/png": "[encoded data removed]",
      "text/plain": [
       "<Figure size 432x288 with 1 Axes>"
      ]
     },
     "metadata": {},
     "output_type": "display_data"
    }
   ],
   "source": [
    "t = np.linspace(0, 2*np.pi, 100) \n",
    "\n",
    "y_t = np.sin(t)\n",
    "f_t = f(t)\n",
    "\n",
    "plt.plot(t, f(t), label='spline')\n",
    "plt.plot(t,y_t, label='sen(x)')\n",
    "plt.scatter(x, y) # pontos\n",
    "\n",
    "plt.legend()"
   ]
  },
  {
   "cell_type": "markdown",
   "metadata": {},
   "source": [
    "#### Exercício 3:\n",
    "\n",
    "Estime o erro quadrático médio obtido pela interpolação."
   ]
  },
  {
   "cell_type": "code",
   "execution_count": 5,
   "metadata": {},
   "outputs": [
    {
     "data": {
      "text/plain": [
       "[9.174558271215591e-33,\n",
       " 0.0007242907840246825,\n",
       " 1.0704171590085368e-34,\n",
       " 2.5415574550358193,\n",
       " 7.110731566452827e-32]"
      ]
     },
     "execution_count": 5,
     "metadata": {},
     "output_type": "execute_result"
    }
   ],
   "source": [
    "sqrt_error = list((y - f(y))**2)\n",
    "sqrt_error"
   ]
  },
  {
   "cell_type": "code",
   "execution_count": 6,
   "metadata": {},
   "outputs": [
    {
     "data": {
      "text/plain": [
       "0.5084563491639689"
      ]
     },
     "execution_count": 6,
     "metadata": {},
     "output_type": "execute_result"
    }
   ],
   "source": [
    "mean(sqrt_error)"
   ]
  },
  {
   "cell_type": "markdown",
   "metadata": {},
   "source": [
    "#### Exercício 4:\n",
    "\n",
    "Determine a derivada da função $spline$ obtida em (2). Ela se aproxima da função cosseno?"
   ]
  },
  {
   "cell_type": "markdown",
   "metadata": {},
   "source": [
    "**R:** Para o cálculo da derivada, utilizei o método [`scipy.interpolate.UnivariateSpline.derivative`](https://docs.scipy.org/doc/scipy-0.15.1/reference/generated/scipy.interpolate.UnivariateSpline.derivative.html)"
   ]
  },
  {
   "cell_type": "code",
   "execution_count": 7,
   "metadata": {},
   "outputs": [],
   "source": [
    "d_f = f.derivative()"
   ]
  },
  {
   "cell_type": "code",
   "execution_count": 8,
   "metadata": {},
   "outputs": [
    {
     "data": {
      "text/plain": [
       "<matplotlib.legend.Legend at 0x7f3696e61e48>"
      ]
     },
     "execution_count": 8,
     "metadata": {},
     "output_type": "execute_result"
    },
    {
     "data": {
      "image/png": "[encoded data removed]",
      "text/plain": [
       "<Figure size 432x288 with 1 Axes>"
      ]
     },
     "metadata": {},
     "output_type": "display_data"
    }
   ],
   "source": [
    "t = np.linspace(0, 2*np.pi, 100) \n",
    "\n",
    "y_t = np.cos(t)\n",
    "d_t = d_f(t)\n",
    "\n",
    "plt.plot(t, d_t, label='spline deriv')\n",
    "plt.plot(t, y_t, label='cos(x)')\n",
    "\n",
    "plt.legend()"
   ]
  },
  {
   "cell_type": "markdown",
   "metadata": {},
   "source": [
    "Observando o quadrado da diferença das funções $spline$ e $cos(x)$ abaixo (denotado por $e$), vemos que a aproximação é razoável ($e < 0.05$) para os valores centrais de $x$ no intervalo. Porém, ao nos aproximarmos dos extremos, $x \\rightarrow 0$ ou $x \\rightarrow 2\\pi$, o erro aumenta e não temos uma boa aproximação."
   ]
  },
  {
   "cell_type": "code",
   "execution_count": 9,
   "metadata": {},
   "outputs": [
    {
     "data": {
      "text/plain": [
       "<matplotlib.legend.Legend at 0x7f36fe0bfb38>"
      ]
     },
     "execution_count": 9,
     "metadata": {},
     "output_type": "execute_result"
    },
    {
     "data": {
      "image/png": "[encoded data removed]",
      "text/plain": [
       "<Figure size 432x288 with 1 Axes>"
      ]
     },
     "metadata": {},
     "output_type": "display_data"
    }
   ],
   "source": [
    "sqrt_error = list((y_t - d_t)**2)\n",
    "\n",
    "plt.plot(t, sqrt_error, label='e')\n",
    "plt.legend()"
   ]
  },
  {
   "cell_type": "markdown",
   "metadata": {},
   "source": [
    "#### Exercício 5: \n",
    "\n",
    "Faça um gráfico da espiral obtida por interpolação por spline cúbica dos pontos:\n",
    "\n",
    "x | 0 | 6 | 0 | -17 | -31 | -28 | 0 | 39 | 63\n",
    "--|--|--|--|--|--|--|--|--|\n",
    "y | 0 | 6 | 16 | 17 | 0 | -28 | -47 | -39 | 0"
   ]
  },
  {
   "cell_type": "code",
   "execution_count": 10,
   "metadata": {},
   "outputs": [
    {
     "data": {
      "text/plain": [
       "[(-31, 0),\n",
       " (-28, -28),\n",
       " (-17, 17),\n",
       " (0, 0),\n",
       " (0, 16),\n",
       " (0, 47),\n",
       " (6, 6),\n",
       " (39, -39),\n",
       " (63, 0)]"
      ]
     },
     "execution_count": 10,
     "metadata": {},
     "output_type": "execute_result"
    }
   ],
   "source": [
    "pontos = [(0,0), (6,6), (0,16), (-17,17), (-31, 0), (-28,-28), (0,47), (39, -39), (63,0)]\n",
    "\n",
    "pontos.sort(key=lambda tup: tup[0])\n",
    "pontos"
   ]
  },
  {
   "cell_type": "code",
   "execution_count": 11,
   "metadata": {},
   "outputs": [],
   "source": [
    "x = list(list(zip(*pontos))[0])\n",
    "y = list(list(zip(*pontos))[1])\n",
    "\n",
    "#x = np.r_[x, x[0]]\n",
    "#y = np.r_[y, y[0]]"
   ]
  },
  {
   "cell_type": "markdown",
   "metadata": {},
   "source": [
    "O método [`scipy.interpolate.inter1d`](https://docs.scipy.org/doc/scipy-0.19.1/reference/generated/scipy.interpolate.interp1d.html) utilizado anteriormente só funciona para um conjunto x estritamente crescente.\n",
    "\n",
    "Para resolver isso, optei pela parametrização dos pontos $(x,y)$. [Pela consulta ao Stack Overflow (indicada pelo Pedro Delfino!)](https://stackoverflow.com/questions/33962717/interpolating-a-closed-curve-using-scipy), foram achados os métodos [`scipy.interpolate.splprep`](https://docs.scipy.org/doc/scipy-0.13.0/reference/generated/scipy.interpolate.splprep.html#scipy.interpolate.splprep), que faz a parametrização para $(x(t), y(t))$, e [`scipy.interpolate.splev`](https://docs.scipy.org/doc/scipy-0.13.0/reference/generated/scipy.interpolate.splev.html#scipy.interpolate.splev), que avalia os pontos para gerar a função."
   ]
  },
  {
   "cell_type": "code",
   "execution_count": 12,
   "metadata": {},
   "outputs": [],
   "source": [
    "from scipy.interpolate import splprep, splev\n",
    "\n",
    "tck, t = splprep([x, y], k=3, s=0)\n",
    "xi, yi = splev(np.linspace(0, 1, 1000), tck)"
   ]
  },
  {
   "cell_type": "code",
   "execution_count": 13,
   "metadata": {},
   "outputs": [
    {
     "data": {
      "text/plain": [
       "[<matplotlib.lines.Line2D at 0x7f3696d70278>]"
      ]
     },
     "execution_count": 13,
     "metadata": {},
     "output_type": "execute_result"
    },
    {
     "data": {
      "image/png": "[encoded data removed]",
      "text/plain": [
       "<Figure size 432x288 with 1 Axes>"
      ]
     },
     "metadata": {},
     "output_type": "display_data"
    }
   ],
   "source": [
    "fig, ax = plt.subplots(1, 1)\n",
    "ax.plot(x, y, 'or')\n",
    "ax.plot(xi, yi, '-b')"
   ]
  }
 ],
 "metadata": {
  "kernelspec": {
   "display_name": "Python 3",
   "language": "python",
   "name": "python3"
  },
  "language_info": {
   "codemirror_mode": {
    "name": "ipython",
    "version": 3
   },
   "file_extension": ".py",
   "mimetype": "text/x-python",
   "name": "python",
   "nbconvert_exporter": "python",
   "pygments_lexer": "ipython3",
   "version": "3.6.5"
  }
 },
 "nbformat": 4,
 "nbformat_minor": 2
}
