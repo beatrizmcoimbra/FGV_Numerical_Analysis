{
 "cells": [
  {
   "cell_type": "markdown",
   "metadata": {},
   "source": [
    "### Métodos de integração numérica II (cap. 5.4 + 5.1-3)\n",
    "\n",
    "---\n",
    "\n",
    "Resolução dos exercícios da [lista 18-10](exercises/10-18_exercicios.pdf).\n",
    "\n",
    "1. [Quadratura Gaussiana (cap. 5.4)](#Quadratura-Gaussiana)\n",
    "    * [Exercício 1](#Exercício-1:)\n",
    "    * [Exercício 2](#Exercício-2:)\n",
    "2. [Integração de Monte Carlo (cap. 10)](#Integração-de-Monte-Carlo)\n",
    "    * [Exercício 3](#Exercício-3:)"
   ]
  },
  {
   "cell_type": "code",
   "execution_count": 174,
   "metadata": {},
   "outputs": [
    {
     "name": "stdout",
     "output_type": "stream",
     "text": [
      "Populating the interactive namespace from numpy and matplotlib\n"
     ]
    },
    {
     "name": "stderr",
     "output_type": "stream",
     "text": [
      "/usr/local/lib/python3.5/dist-packages/IPython/core/magics/pylab.py:160: UserWarning: pylab import has clobbered these variables: ['sci']\n",
      "`%matplotlib` prevents importing * from pylab and numpy\n",
      "  \"\\n`%matplotlib` prevents importing * from pylab and numpy\"\n"
     ]
    }
   ],
   "source": [
    "import numpy as np\n",
    "import matplotlib.pyplot as plt\n",
    "import scipy as sci\n",
    "import math\n",
    "\n",
    "%pylab inline\n",
    "pylab.rcParams['figure.figsize'] = (10, 6)"
   ]
  },
  {
   "cell_type": "markdown",
   "metadata": {},
   "source": [
    "### [Quadratura Gaussiana](https://en.wikipedia.org/wiki/Gaussian_quadrature)\n",
    "\n",
    "A regra de quadratura Gaussiana é uma aproximação da integral de uma função polinomial de grau ate $2n+1$ obtida a partir das $n$ raizes, $(x_0, x_1, ..., x_n)$, do [polinomio de Legendre](https://en.wikipedia.org/wiki/Legendre_polynomials), da forma:\n",
    "\n",
    "$$\\int _{-1}^{1}f(x)\\,dx\\approx \\sum _{i=1}^{n}w_{i}f(x_{i})$$"
   ]
  },
  {
   "cell_type": "markdown",
   "metadata": {},
   "source": [
    "**Vimos tambem na aula o calculo obtido a partir de outro produto interno:**\n",
    "\n",
    "Sejam $(x_0, x_1, ..., x_n)$ pontos escolhidos no intervalo $[-1, 1]$, e temos $y_i = f(x_i)$. Vamos definir o produto interno de duas funções como:\n",
    "\n",
    "$$<p, q> = \\int_{-1}^{1} p(x)q(x)dx$$\n",
    "\n",
    "Dividindo $f(x)$ por um polinômio $p(x)$, obtemos:\n",
    "\n",
    "$$f(x) = p(x)q(x) + r(x)$$\n",
    "\n",
    "Nosso objetivo é **calular a integral de $f(x)$ a partir de $r(x)$, um polinômio de grau menor**. Para isso, precisamos que $p(x)q(x) = <p(x), q(x)> = 0$, logo:\n",
    "\n",
    "$$<p(x), q(x)> = \\int_{-1}^{1} p(x)q(x)dx = 0$$\n",
    "\n",
    "Sendo a base $\\{p_0, p_1, p_2, ..., p_n\\}$, com $p_n(x) = \\sum_{i=0}^{n} a_ix^i$, queremos que ela seja uma **base ortonormal**, pois a base gera todo o espaço $\\mathbb{R}^{n-1}$ e temos que:\n",
    "\n",
    "$$\\mbox{(i) }<p_i, p_j> =  \\int_{-1}^{1} p_i p_j dx = 0$$\n",
    "$$\\mbox{(ii) }\\lVert{p_i(x)}\\rVert =  \\sqrt{\\int_{-1}^{1} p_i^2(x)dx}$$\n",
    "\n",
    "Logo, o polinômio de maior grau, **$p_n(x)$, será ortogonal a todos os polinômios de menor grau**, e basta termos o grau de $q(x)$ menor que $n$. Obtemos o polinômio $p_n$ através do [processo de Gram-Schimdt](https://pt.wikipedia.org/wiki/Processo_de_Gram-Schmidt).\n",
    "\n",
    "$$\\begin{eqnarray} \n",
    "\\int_{-1}^{1} f(x)dx & = & \\int_{-1}^{1} p_n(x)q(x)dx + \\int_{-1}^{1} r(x)dx \\\\\n",
    "& = & <p_n(x), q(x)> + \\int_{-1}^{1} r(x)dx \\\\\n",
    "& = & \\int_{-1}^{1} r(x)dx \n",
    "\\end{eqnarray}$$"
   ]
  },
  {
   "cell_type": "markdown",
   "metadata": {},
   "source": [
    "#### Exercício 1:\n",
    "\n",
    "Implemente a quadratura gaussiana com apenas 3 pontos para estimar a integral$\\int_{-1}^{1} f(x)dx$."
   ]
  },
  {
   "cell_type": "markdown",
   "metadata": {},
   "source": [
    "**R:** Com 3 pontos, temos que:\n",
    "\n",
    "$$\\int _{-1}^{1}f(x)dx \\approx \\sum _{i=1}^{n}w_{i}f(x_{i}) = w_0f(x_0) + w_1f(x_1) + w_2f(x_2)$$\n",
    "\n",
    "Sendo $x_0, x_1, x_2$ [raizes do polinomio de Legendre](https://en.wikipedia.org/wiki/Gaussian_quadrature#Gauss%E2%80%93Legendre_quadrature)."
   ]
  },
  {
   "cell_type": "code",
   "execution_count": 53,
   "metadata": {},
   "outputs": [],
   "source": [
    "def quad_Gaussiana(f, a=-1, b=1):\n",
    "    \n",
    "    \"\"\"\n",
    "    Calcula a integral de f(x) (grau 2) no intervalo [-1,1] a partir da regra de quadratura Gaussiana para 3 pontos.\n",
    "    \n",
    "    :param f: funcao de grau 2\n",
    "    :param a: lower bound de integração\n",
    "    :param b: upper bound de integração\n",
    "    \n",
    "    :return: valor aproximado da integral\n",
    "    \"\"\"\n",
    "    \n",
    "    x = np.array([0, -(3/5)**(1/2), (3/5)**(1/2)])\n",
    "    w = np.array([8/9, 5/9, 5/9])\n",
    "    \n",
    "    I = sum(w*f(x))\n",
    "    \n",
    "    return I"
   ]
  },
  {
   "cell_type": "markdown",
   "metadata": {},
   "source": [
    "#### Exercício 2:\n",
    "\n",
    "Mostre através de exemplos que o método é exato para funções $f(t)$ polinomiais de grau até 5."
   ]
  },
  {
   "cell_type": "code",
   "execution_count": 56,
   "metadata": {},
   "outputs": [],
   "source": [
    "import scipy.integrate as integrate"
   ]
  },
  {
   "cell_type": "code",
   "execution_count": 99,
   "metadata": {},
   "outputs": [],
   "source": [
    "def compare_integrate(f, a, b):\n",
    "    \n",
    "    \"\"\"\n",
    "    Printa os resultados do integral pelo método de Quadratura Gaussiana e o padrão do do pacote scipy.integrate\n",
    "    \n",
    "    :param f: função lambda\n",
    "    :param a: lower bound de integração\n",
    "    :param b: upper bound de integração\n",
    "    \"\"\"\n",
    "\n",
    "    I1 = integrate.quad(f, a, b)[0]\n",
    "    I2 = quad_Gaussiana(f, a, b)\n",
    "    \n",
    "    print('Resultados para os dois métodos: \\n')\n",
    "    print('scipy.integrate.quad: '+str(I1))\n",
    "    print('Quadratura Gaussiana: '+str(I2)+'\\n')\n",
    "    \n",
    "    if round(I1,4) != round(I2,4):\n",
    "        \n",
    "        print('>>> A quadratura gaussiana não é exata para f')"
   ]
  },
  {
   "cell_type": "code",
   "execution_count": 100,
   "metadata": {},
   "outputs": [
    {
     "name": "stdout",
     "output_type": "stream",
     "text": [
      "Resultados para os dois métodos: \n",
      "\n",
      "scipy.integrate.quad: 2.666666666666667\n",
      "Quadratura Gaussiana: 2.666666666666667\n",
      "\n"
     ]
    }
   ],
   "source": [
    "f = lambda x : x**2 + x + 1\n",
    "compare_integrate(f, -1, 1)"
   ]
  },
  {
   "cell_type": "code",
   "execution_count": 101,
   "metadata": {},
   "outputs": [
    {
     "name": "stdout",
     "output_type": "stream",
     "text": [
      "Resultados para os dois métodos: \n",
      "\n",
      "scipy.integrate.quad: 0.0\n",
      "Quadratura Gaussiana: 0.0\n",
      "\n"
     ]
    }
   ],
   "source": [
    "f = lambda x : x**3 + x\n",
    "compare_integrate(f, -1, 1)"
   ]
  },
  {
   "cell_type": "code",
   "execution_count": 102,
   "metadata": {},
   "outputs": [
    {
     "name": "stdout",
     "output_type": "stream",
     "text": [
      "Resultados para os dois métodos: \n",
      "\n",
      "scipy.integrate.quad: 11.733333333333333\n",
      "Quadratura Gaussiana: 11.733333333333334\n",
      "\n"
     ]
    }
   ],
   "source": [
    "f = lambda x : x**4 + 2*x**2 + 5\n",
    "compare_integrate(f, -1, 1)"
   ]
  },
  {
   "cell_type": "code",
   "execution_count": 103,
   "metadata": {},
   "outputs": [
    {
     "name": "stdout",
     "output_type": "stream",
     "text": [
      "Resultados para os dois métodos: \n",
      "\n",
      "scipy.integrate.quad: 11.333333333333332\n",
      "Quadratura Gaussiana: 11.333333333333334\n",
      "\n"
     ]
    }
   ],
   "source": [
    "f = lambda x : x**5 + 2*x**2 + 5\n",
    "compare_integrate(f, -1, 1)"
   ]
  },
  {
   "cell_type": "code",
   "execution_count": 104,
   "metadata": {},
   "outputs": [
    {
     "name": "stdout",
     "output_type": "stream",
     "text": [
      "Resultados para os dois métodos: \n",
      "\n",
      "scipy.integrate.quad: 11.61904761904762\n",
      "Quadratura Gaussiana: 11.573333333333334\n",
      "\n",
      ">>> A quadratura gaussiana não é exata para f\n"
     ]
    }
   ],
   "source": [
    "f = lambda x : x**6 + 2*x**2 + 5\n",
    "compare_integrate(f, -1, 1)"
   ]
  },
  {
   "cell_type": "code",
   "execution_count": 105,
   "metadata": {},
   "outputs": [
    {
     "name": "stdout",
     "output_type": "stream",
     "text": [
      "Resultados para os dois métodos: \n",
      "\n",
      "scipy.integrate.quad: 1.0222222222222224\n",
      "Quadratura Gaussiana: 0.9440000000000002\n",
      "\n",
      ">>> A quadratura gaussiana não é exata para f\n"
     ]
    }
   ],
   "source": [
    "f = lambda x : x**8 + 2*x**4\n",
    "compare_integrate(f, -1, 1)"
   ]
  },
  {
   "cell_type": "markdown",
   "metadata": {},
   "source": [
    "### [Integração de Monte Carlo](https://en.wikipedia.org/wiki/Monte_Carlo_integration)\n",
    "\n",
    "Esse é um método de integração numérica que calcula a aproximação da integral a partir de pontos aleatórios no intervalo de integração.\n",
    "\n",
    "$$V=\\int _{R}d{\\mathbf{x}}$$\n",
    "\n",
    "Sejam $\\mathbf{x}_{1},\\cdots ,\\mathbf{x}_{n}\\in R$ pontos aleatórios no intervalo de integração ($R \\subset \\mathbb{R}^k)$.\n",
    "Logo, a integral de $I = \\int _{R}f({\\mathbf{x}})\\,d{\\mathbf{x}}$ é aproximada por:\n",
    "\n",
    "$$I\\approx V{\\frac {1}{N}}\\sum _{i=1}^{n}f(\\mathbf{x}_{i}) = V \\langle f\\rangle$$\n",
    "\n",
    "Sendo $V$ o volume do intervalo,$V=\\int _{R}d\\mathbf{x}$, e $\\langle f\\rangle$ o valor médio de $f$ em $R$.\n",
    "\n",
    "A principal vantagem em relação aos demais métodos é que pode ser **facilmente generalizado**, utilizado para múltiplas dimensões como descrito acima."
   ]
  },
  {
   "cell_type": "markdown",
   "metadata": {},
   "source": [
    "#### Exercício 3:\n",
    "\n",
    "Use Monte Carlo para estimar o valor da integral $\\int\\int_R 1 - x^2 - y^2 dA$, onde $R = \\{ x^2 + y^2 \\leq 1 \\}$"
   ]
  },
  {
   "cell_type": "markdown",
   "metadata": {},
   "source": [
    "**R:** Vamos gerar pontos aleatórios contidos em $R$, ou seja, $(x,y) : x^2 + y^2 \\leq 1$, e verificar qual a proporção dos valores $f(x, y)$ que está abaixo do paraboloide $f(x,y) = 1 - (x^2 +y^2)$, cuja visualização foi gerada no [Geogebra 3D Graphing](https://www.geogebra.org/3d?lang=en):"
   ]
  },
  {
   "cell_type": "markdown",
   "metadata": {},
   "source": [
    "<img src=\"files/images/10-18_exercise_3.png\" width=\"500\">"
   ]
  },
  {
   "cell_type": "markdown",
   "metadata": {},
   "source": [
    "Para entender a implementação do método, assiti ao [vídeo *Monte Carlo Integration In Python For Noobs*](https://www.youtube.com/watch?v=WAf0rqwAvgg). \n",
    "\n",
    "Primeiro, geramos pontos aleatórios na $R = \\{x^2 + y^2 \\leq 1\\}$ da forma $(x, y) = (cos(2\\pi p)r$, sendo $p, r \\in [0, 1)$ os números aleatórios."
   ]
  },
  {
   "cell_type": "code",
   "execution_count": 152,
   "metadata": {},
   "outputs": [],
   "source": [
    "from scipy import random\n",
    "\n",
    "# Gera 100 números dentro do círculo\n",
    "\n",
    "n = 100\n",
    "\n",
    "p = random.sample(n)\n",
    "r = random.sample(n)\n",
    "\n",
    "x_n = [(math.cos(p[i]*2*math.pi)*math.sqrt(r[i]), \n",
    "       math.sin(p[i]*2*math.pi)*math.sqrt(r[i])) \n",
    "      for i in range(n)]"
   ]
  },
  {
   "cell_type": "code",
   "execution_count": 153,
   "metadata": {},
   "outputs": [
    {
     "data": {
      "text/plain": [
       "[(0.4587398801334188, -0.6951032039289265),\n",
       " (0.686434921329396, 0.30641656802395834),\n",
       " (0.06023163200504443, -0.039462727721151634),\n",
       " (-0.36807985337906635, 0.3434791045568539),\n",
       " (0.05560479728004337, 0.7718132431136645),\n",
       " (-0.6797660466927461, -0.041482522577981275),\n",
       " (-0.6244434299140322, 0.6405047244559288),\n",
       " (-0.5729012231889908, -0.7164106232541663),\n",
       " (0.18515430410263745, -0.7136763145440177),\n",
       " (-0.6272688947400749, -0.20103005149382888)]"
      ]
     },
     "execution_count": 153,
     "metadata": {},
     "output_type": "execute_result"
    }
   ],
   "source": [
    "x_n[:10]"
   ]
  },
  {
   "cell_type": "markdown",
   "metadata": {},
   "source": [
    "O volume da região $R = \\{x^2 + y^2 \\leq 1\\}$ é dado pela área do círculo, logo $V_R = 2\\pi$."
   ]
  },
  {
   "cell_type": "code",
   "execution_count": 154,
   "metadata": {},
   "outputs": [
    {
     "data": {
      "text/plain": [
       "3.4280360474199925"
      ]
     },
     "execution_count": 154,
     "metadata": {},
     "output_type": "execute_result"
    }
   ],
   "source": [
    "V = 2*math.pi\n",
    "f = lambda x: 1 - x[0]**2 - x[1]**2\n",
    "\n",
    "# Aproximação do valor médio de f no intervalo\n",
    "fx_n = sum([f(x) for x in x_n])/n\n",
    "\n",
    "# Aproximação da integral de f no intervalo\n",
    "I = V*fx_n\n",
    "\n",
    "I"
   ]
  },
  {
   "cell_type": "markdown",
   "metadata": {},
   "source": [
    "Agora, amostrando com $100, 200, 300, ..., 10000$ pontos, temos:"
   ]
  },
  {
   "cell_type": "code",
   "execution_count": 181,
   "metadata": {},
   "outputs": [],
   "source": [
    "def generate_circle_random_points(n):\n",
    "\n",
    "    \"\"\"\n",
    "    Gera n pontos aleatórios dentro do círculo C = {x² + y² =< 1}.\n",
    "    \n",
    "    :param n: número de pontos\n",
    "    \n",
    "    :return x_n: pontos aleatórios em C\n",
    "    \"\"\"\n",
    "    \n",
    "    p = random.sample(n)\n",
    "    r = random.sample(n)\n",
    "\n",
    "    x_n = [(math.cos(p[i]*2*math.pi)*math.sqrt(r[i]), \n",
    "           math.sin(p[i]*2*math.pi)*math.sqrt(r[i])) \n",
    "          for i in range(n)]\n",
    "    \n",
    "    return x_n\n",
    "    \n",
    "    \n",
    "def MonteCarlo(x_n, f, V):\n",
    "    \n",
    "    \"\"\"\n",
    "    Calcula a integral de f definida na região R por Monte Carlo.\n",
    "    \n",
    "    :param x_n: pontos aleatórios em R\n",
    "    :param f: função a ser integrada\n",
    "    :param V: volume de R\n",
    "    \n",
    "    :return I: aproximação da integral de f\n",
    "    \"\"\"\n",
    "\n",
    "    # Aproximação do valor médio de f no intervalo\n",
    "    fx_n = sum([f(x) for x in x_n])/n\n",
    "\n",
    "    # Aproximação da integral de f no intervalo\n",
    "    I = V*fx_n\n",
    "\n",
    "    return I\n",
    "\n",
    "\n",
    "n_range = [100*i for i in range(1,101)]\n",
    "I_n = [I]\n",
    "f = lambda x: 1 - x[0]**2 - x[1]**2\n",
    "\n",
    "for n in n_range[1:]:\n",
    "    \n",
    "    I_n.append(MonteCarlo(generate_circle_random_points(n),f,  V))"
   ]
  },
  {
   "cell_type": "markdown",
   "metadata": {},
   "source": [
    "**Podemos observar abaixo que, ao aumentarmos os pontos, a variância das aproximações vai diminuindo!**"
   ]
  },
  {
   "cell_type": "code",
   "execution_count": 182,
   "metadata": {},
   "outputs": [
    {
     "data": {
      "text/plain": [
       "Text(0,0.5,'Aproximação da integral de $f$ em $R$ por Monte Carlo ($I$)')"
      ]
     },
     "execution_count": 182,
     "metadata": {},
     "output_type": "execute_result"
    },
    {
     "data": {
      "image/png": "[encoded data removed]",
      "text/plain": [
       "<Figure size 720x432 with 1 Axes>"
      ]
     },
     "metadata": {},
     "output_type": "display_data"
    }
   ],
   "source": [
    "plt.plot(n_range, I_n, 'bo')\n",
    "plt.xlabel('Número de pontos aleatórios ($n$)')\n",
    "plt.ylabel('Aproximação da integral de $f$ em $R$ por Monte Carlo ($I$)')"
   ]
  }
 ],
 "metadata": {
  "kernelspec": {
   "display_name": "Python 3",
   "language": "python",
   "name": "python3"
  },
  "language_info": {
   "codemirror_mode": {
    "name": "ipython",
    "version": 3
   },
   "file_extension": ".py",
   "mimetype": "text/x-python",
   "name": "python",
   "nbconvert_exporter": "python",
   "pygments_lexer": "ipython3",
   "version": "3.5.2"
  }
 },
 "nbformat": 4,
 "nbformat_minor": 2
}
